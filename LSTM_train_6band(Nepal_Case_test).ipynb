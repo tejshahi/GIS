{
  "nbformat": 4,
  "nbformat_minor": 0,
  "metadata": {
    "kernelspec": {
      "display_name": "Python 3",
      "language": "python",
      "name": "python3"
    },
    "language_info": {
      "codemirror_mode": {
        "name": "ipython",
        "version": 3
      },
      "file_extension": ".py",
      "mimetype": "text/x-python",
      "name": "python",
      "nbconvert_exporter": "python",
      "pygments_lexer": "ipython3",
      "version": "3.7.7"
    },
    "colab": {
      "name": "LSTM_train_6band(Nepal Case-test).ipynb",
      "provenance": [],
      "include_colab_link": true
    },
    "accelerator": "GPU"
  },
  "cells": [
    {
      "cell_type": "markdown",
      "metadata": {
        "id": "view-in-github",
        "colab_type": "text"
      },
      "source": [
        "<a href=\"https://colab.research.google.com/github/tejshahi/data_fusion/blob/master/LSTM_train_6band(Nepal_Case_test).ipynb\" target=\"_parent\"><img src=\"https://colab.research.google.com/assets/colab-badge.svg\" alt=\"Open In Colab\"/></a>"
      ]
    },
    {
      "cell_type": "code",
      "metadata": {
        "colab": {
          "base_uri": "https://localhost:8080/"
        },
        "id": "eeAIx33tQiO6",
        "outputId": "0fe684a6-f9ea-41ae-9c26-3af633599fa5"
      },
      "source": [
        "from google.colab import drive\n",
        "drive.mount('/content/drive')"
      ],
      "execution_count": 3,
      "outputs": [
        {
          "output_type": "stream",
          "text": [
            "Mounted at /content/drive\n"
          ],
          "name": "stdout"
        }
      ]
    },
    {
      "cell_type": "code",
      "metadata": {
        "colab": {
          "base_uri": "https://localhost:8080/"
        },
        "id": "4ndXWb2CP1AH",
        "outputId": "f1f03c07-be86-4dc5-b555-8a98bfd1dab1"
      },
      "source": [
        "# check GPU status\n",
        "%tensorflow_version 2.x\n",
        "import tensorflow as tf\n",
        "device_name = tf.test.gpu_device_name()\n",
        "if device_name != '/device:GPU:0':\n",
        "  raise SystemError('GPU device not found')\n",
        "print('Found GPU at: {}'.format(device_name))"
      ],
      "execution_count": 4,
      "outputs": [
        {
          "output_type": "stream",
          "text": [
            "Found GPU at: /device:GPU:0\n"
          ],
          "name": "stdout"
        }
      ]
    },
    {
      "cell_type": "code",
      "metadata": {
        "id": "p7TTSJHfP1AJ"
      },
      "source": [
        "# import necessary packages and trainig data\n",
        "from osgeo import gdal_array\n",
        "from osgeo import gdal\n",
        "import numpy as np\n",
        "filepath= \"/content/drive/MyDrive/dataset_for_fusion/ls_sa_ndvi_training_set_c.dat\"\n",
        "raster = gdal.Open(filepath)\n",
        "rasterArray = raster.ReadAsArray()\n",
        "b1 = rasterArray[0,0:rasterArray.shape[1],0:rasterArray.shape[2]]\n",
        "b2 = rasterArray[1,0:rasterArray.shape[1],0:rasterArray.shape[2]]\n",
        "b3 = rasterArray[2,0:rasterArray.shape[1],0:rasterArray.shape[2]]\n",
        "b4 = rasterArray[3,0:rasterArray.shape[1],0:rasterArray.shape[2]]\n",
        "b5 = rasterArray[4,0:rasterArray.shape[1],0:rasterArray.shape[2]]\n",
        "b6 = rasterArray[5,0:rasterArray.shape[1],0:rasterArray.shape[2]]"
      ],
      "execution_count": 5,
      "outputs": []
    },
    {
      "cell_type": "code",
      "metadata": {
        "id": "LzJlRqLsP1AK"
      },
      "source": [
        "b11=np.reshape(b1,(b1.shape[0]*b1.shape[1],))\n",
        "b22=np.reshape(b2,(b2.shape[0]*b2.shape[1],))\n",
        "b33=np.reshape(b3,(b3.shape[0]*b3.shape[1],))\n",
        "b44=np.reshape(b4,(b4.shape[0]*b4.shape[1],))\n",
        "b55=np.reshape(b5,(b5.shape[0]*b5.shape[1],))\n",
        "b66=np.reshape(b6,(b6.shape[0]*b6.shape[1],))"
      ],
      "execution_count": 6,
      "outputs": []
    },
    {
      "cell_type": "code",
      "metadata": {
        "id": "WTqiXrqNP1AK"
      },
      "source": [
        "data=np.stack((b11,b33,b44,b55,b66),axis=-1)\n",
        "target=b22"
      ],
      "execution_count": 7,
      "outputs": []
    },
    {
      "cell_type": "code",
      "metadata": {
        "id": "VijDtTayP1AL"
      },
      "source": [
        "from pandas import DataFrame\n",
        "from pandas import concat\n",
        "import pandas as pd\n",
        "def series_to_supervised(data, n_in=1, n_out=1, dropnan=True):\n",
        "\tn_vars = 1 if type(data) is list else data.shape[1]\n",
        "\tdf = DataFrame(data)\n",
        "\tcols, names = list(), list()\n",
        "\t# input sequence (t-n, ... t-1)\n",
        "\tfor i in range(n_in, 0, -1):\n",
        "\t\tcols.append(df.shift(i))\n",
        "\t\tnames += [('var%d(t-%d)' % (j+1, i)) for j in range(n_vars)]\n",
        "\t# forecast sequence (t, t+1, ... t+n)\n",
        "\tfor i in range(0, n_out):\n",
        "\t\tcols.append(df.shift(-i))\n",
        "\t\tif i == 0:\n",
        "\t\t\tnames += [('var%d(t)' % (j+1)) for j in range(n_vars)]\n",
        "\t\telse:\n",
        "\t\t\tnames += [('var%d(t+%d)' % (j+1, i)) for j in range(n_vars)]\n",
        "\t# put it all together\n",
        "\tagg = concat(cols, axis=1)\n",
        "\tagg.columns = names\n",
        "\t# drop rows with NaN values\n",
        "\tif dropnan:\n",
        "\t\tagg.dropna(inplace=True)\n",
        "\treturn agg"
      ],
      "execution_count": 8,
      "outputs": []
    },
    {
      "cell_type": "code",
      "metadata": {
        "id": "pBvdBgLDP1AL"
      },
      "source": [
        "n_lag=2\n",
        "n_feature=5"
      ],
      "execution_count": 9,
      "outputs": []
    },
    {
      "cell_type": "code",
      "metadata": {
        "id": "TW5SxPBEP1AL"
      },
      "source": [
        "reframed=series_to_supervised(data,n_lag,1)"
      ],
      "execution_count": 10,
      "outputs": []
    },
    {
      "cell_type": "code",
      "metadata": {
        "id": "8oc6yqj_P1AL"
      },
      "source": [
        "target_y=target[n_lag:]\n",
        "target_y=target_y.reshape(-1,1)\n",
        "values = reframed.values"
      ],
      "execution_count": 11,
      "outputs": []
    },
    {
      "cell_type": "code",
      "metadata": {
        "id": "j6jmgTqtP1AM"
      },
      "source": [
        "n_train = int(values.shape[0] * 0.7)\n",
        "train_X,train_y = values[:n_train, :],target_y[:n_train]\n",
        "test_X, test_y = values[n_train:, :], target_y[n_train:]"
      ],
      "execution_count": 12,
      "outputs": []
    },
    {
      "cell_type": "code",
      "metadata": {
        "id": "E98vDsHLP1AM"
      },
      "source": [
        "assert (test_y.size + train_y.size) ==target_y.size"
      ],
      "execution_count": 13,
      "outputs": []
    },
    {
      "cell_type": "code",
      "metadata": {
        "id": "h9lnQLCVP1AM"
      },
      "source": [
        "# reshape input to be 3D [samples, timesteps, features]\n",
        "train_X = np.reshape(train_X, (train_X.shape[0], n_lag+1, n_feature))\n",
        "test_X = np.reshape(test_X, (test_X.shape[0], n_lag+1, n_feature))"
      ],
      "execution_count": 14,
      "outputs": []
    },
    {
      "cell_type": "code",
      "metadata": {
        "colab": {
          "base_uri": "https://localhost:8080/"
        },
        "id": "V2Ta7V0_P1AN",
        "outputId": "2176cd83-06c1-4bd7-9bd8-9f31129c8e88"
      },
      "source": [
        "from keras.models import Sequential\n",
        "from keras.layers import Dense\n",
        "from keras.layers import LSTM, Dropout\n",
        "from keras.callbacks import EarlyStopping\n",
        "model = Sequential()\n",
        "model.add(LSTM(30, input_shape=(train_X.shape[1], train_X.shape[2])))\n",
        "model.add(Dropout(0.2))\n",
        "model.add(Dense(1))\n",
        "model.compile(loss='mse', optimizer='adam')\n",
        "model.summary()"
      ],
      "execution_count": 16,
      "outputs": [
        {
          "output_type": "stream",
          "text": [
            "Model: \"sequential_1\"\n",
            "_________________________________________________________________\n",
            "Layer (type)                 Output Shape              Param #   \n",
            "=================================================================\n",
            "lstm_1 (LSTM)                (None, 30)                4320      \n",
            "_________________________________________________________________\n",
            "dropout (Dropout)            (None, 30)                0         \n",
            "_________________________________________________________________\n",
            "dense (Dense)                (None, 1)                 31        \n",
            "=================================================================\n",
            "Total params: 4,351\n",
            "Trainable params: 4,351\n",
            "Non-trainable params: 0\n",
            "_________________________________________________________________\n"
          ],
          "name": "stdout"
        }
      ]
    },
    {
      "cell_type": "code",
      "metadata": {
        "colab": {
          "base_uri": "https://localhost:8080/"
        },
        "id": "oAuY3RK5P1AN",
        "outputId": "0618b268-a36e-42de-97f5-e75a219211cc"
      },
      "source": [
        "from keras.callbacks import EarlyStopping\n",
        "# fit network\n",
        "import time\n",
        "train_s_time=time.clock()\n",
        "#history = model.fit(train_X, train_y, epochs=50, batch_size=1000, validation_data=(test_X, test_y), verbose=2, shuffle=False)\n",
        "history = model.fit(train_X, train_y, epochs=100, batch_size=1000, validation_data=(test_X, test_y),callbacks=[EarlyStopping(monitor='val_loss', patience=10)], verbose=2, shuffle=False)\n",
        "print(\"training time\"+str(time.clock()-train_s_time)+'secs.')"
      ],
      "execution_count": 17,
      "outputs": [
        {
          "output_type": "stream",
          "text": [
            "/usr/local/lib/python3.7/dist-packages/ipykernel_launcher.py:4: DeprecationWarning: time.clock has been deprecated in Python 3.3 and will be removed from Python 3.8: use time.perf_counter or time.process_time instead\n",
            "  after removing the cwd from sys.path.\n"
          ],
          "name": "stderr"
        },
        {
          "output_type": "stream",
          "text": [
            "Epoch 1/100\n",
            "6324/6324 - 49s - loss: 0.0018 - val_loss: 9.8337e-04\n",
            "Epoch 2/100\n",
            "6324/6324 - 25s - loss: 0.0010 - val_loss: 9.7484e-04\n",
            "Epoch 3/100\n",
            "6324/6324 - 25s - loss: 0.0010 - val_loss: 9.6126e-04\n",
            "Epoch 4/100\n",
            "6324/6324 - 25s - loss: 9.9774e-04 - val_loss: 9.5201e-04\n",
            "Epoch 5/100\n",
            "6324/6324 - 25s - loss: 9.9308e-04 - val_loss: 9.4142e-04\n",
            "Epoch 6/100\n",
            "6324/6324 - 26s - loss: 9.8911e-04 - val_loss: 9.3026e-04\n",
            "Epoch 7/100\n",
            "6324/6324 - 25s - loss: 9.8436e-04 - val_loss: 9.1408e-04\n",
            "Epoch 8/100\n",
            "6324/6324 - 25s - loss: 9.7854e-04 - val_loss: 9.0417e-04\n",
            "Epoch 9/100\n",
            "6324/6324 - 26s - loss: 9.6987e-04 - val_loss: 8.8745e-04\n",
            "Epoch 10/100\n",
            "6324/6324 - 25s - loss: 9.5784e-04 - val_loss: 8.8133e-04\n",
            "Epoch 11/100\n",
            "6324/6324 - 25s - loss: 9.4448e-04 - val_loss: 8.7293e-04\n",
            "Epoch 12/100\n",
            "6324/6324 - 25s - loss: 9.3305e-04 - val_loss: 8.6280e-04\n",
            "Epoch 13/100\n",
            "6324/6324 - 25s - loss: 9.1872e-04 - val_loss: 8.5634e-04\n",
            "Epoch 14/100\n",
            "6324/6324 - 25s - loss: 8.9836e-04 - val_loss: 8.5510e-04\n",
            "Epoch 15/100\n",
            "6324/6324 - 25s - loss: 8.8098e-04 - val_loss: 8.5427e-04\n",
            "Epoch 16/100\n",
            "6324/6324 - 25s - loss: 8.6926e-04 - val_loss: 8.4407e-04\n",
            "Epoch 17/100\n",
            "6324/6324 - 26s - loss: 8.6150e-04 - val_loss: 8.3979e-04\n",
            "Epoch 18/100\n",
            "6324/6324 - 26s - loss: 8.5545e-04 - val_loss: 8.3762e-04\n",
            "Epoch 19/100\n",
            "6324/6324 - 26s - loss: 8.5224e-04 - val_loss: 8.3933e-04\n",
            "Epoch 20/100\n",
            "6324/6324 - 26s - loss: 8.4839e-04 - val_loss: 8.3494e-04\n",
            "Epoch 21/100\n",
            "6324/6324 - 26s - loss: 8.4500e-04 - val_loss: 8.2850e-04\n",
            "Epoch 22/100\n",
            "6324/6324 - 25s - loss: 8.4270e-04 - val_loss: 8.2480e-04\n",
            "Epoch 23/100\n",
            "6324/6324 - 26s - loss: 8.4039e-04 - val_loss: 8.2173e-04\n",
            "Epoch 24/100\n",
            "6324/6324 - 25s - loss: 8.3775e-04 - val_loss: 8.2612e-04\n",
            "Epoch 25/100\n",
            "6324/6324 - 25s - loss: 8.3508e-04 - val_loss: 8.1770e-04\n",
            "Epoch 26/100\n",
            "6324/6324 - 25s - loss: 8.3310e-04 - val_loss: 8.1944e-04\n",
            "Epoch 27/100\n",
            "6324/6324 - 25s - loss: 8.3136e-04 - val_loss: 8.2259e-04\n",
            "Epoch 28/100\n",
            "6324/6324 - 25s - loss: 8.2943e-04 - val_loss: 8.1520e-04\n",
            "Epoch 29/100\n",
            "6324/6324 - 25s - loss: 8.2809e-04 - val_loss: 8.1725e-04\n",
            "Epoch 30/100\n",
            "6324/6324 - 25s - loss: 8.2637e-04 - val_loss: 8.1423e-04\n",
            "Epoch 31/100\n",
            "6324/6324 - 25s - loss: 8.2488e-04 - val_loss: 8.1805e-04\n",
            "Epoch 32/100\n",
            "6324/6324 - 26s - loss: 8.2287e-04 - val_loss: 8.1549e-04\n",
            "Epoch 33/100\n",
            "6324/6324 - 26s - loss: 8.2236e-04 - val_loss: 8.1226e-04\n",
            "Epoch 34/100\n",
            "6324/6324 - 25s - loss: 8.2100e-04 - val_loss: 8.1684e-04\n",
            "Epoch 35/100\n",
            "6324/6324 - 25s - loss: 8.1978e-04 - val_loss: 8.2080e-04\n",
            "Epoch 36/100\n",
            "6324/6324 - 25s - loss: 8.1913e-04 - val_loss: 8.1749e-04\n",
            "Epoch 37/100\n",
            "6324/6324 - 25s - loss: 8.1779e-04 - val_loss: 8.2035e-04\n",
            "Epoch 38/100\n",
            "6324/6324 - 25s - loss: 8.1672e-04 - val_loss: 8.1841e-04\n",
            "Epoch 39/100\n",
            "6324/6324 - 25s - loss: 8.1573e-04 - val_loss: 8.1547e-04\n",
            "Epoch 40/100\n",
            "6324/6324 - 25s - loss: 8.1511e-04 - val_loss: 8.0860e-04\n",
            "Epoch 41/100\n",
            "6324/6324 - 25s - loss: 8.1367e-04 - val_loss: 8.1052e-04\n",
            "Epoch 42/100\n",
            "6324/6324 - 25s - loss: 8.1271e-04 - val_loss: 8.2136e-04\n",
            "Epoch 43/100\n",
            "6324/6324 - 25s - loss: 8.1216e-04 - val_loss: 8.1250e-04\n",
            "Epoch 44/100\n",
            "6324/6324 - 25s - loss: 8.1113e-04 - val_loss: 8.1631e-04\n",
            "Epoch 45/100\n",
            "6324/6324 - 25s - loss: 8.1112e-04 - val_loss: 8.1001e-04\n",
            "Epoch 46/100\n",
            "6324/6324 - 25s - loss: 8.0983e-04 - val_loss: 8.1653e-04\n",
            "Epoch 47/100\n",
            "6324/6324 - 25s - loss: 8.0899e-04 - val_loss: 8.1898e-04\n",
            "Epoch 48/100\n",
            "6324/6324 - 25s - loss: 8.0785e-04 - val_loss: 8.0750e-04\n",
            "Epoch 49/100\n",
            "6324/6324 - 25s - loss: 8.0852e-04 - val_loss: 8.2041e-04\n",
            "Epoch 50/100\n",
            "6324/6324 - 25s - loss: 8.0699e-04 - val_loss: 8.1418e-04\n",
            "Epoch 51/100\n",
            "6324/6324 - 25s - loss: 8.0688e-04 - val_loss: 8.1330e-04\n",
            "Epoch 52/100\n",
            "6324/6324 - 25s - loss: 8.0603e-04 - val_loss: 8.1256e-04\n",
            "Epoch 53/100\n",
            "6324/6324 - 25s - loss: 8.0538e-04 - val_loss: 8.1394e-04\n",
            "Epoch 54/100\n",
            "6324/6324 - 25s - loss: 8.0476e-04 - val_loss: 8.1451e-04\n",
            "Epoch 55/100\n",
            "6324/6324 - 25s - loss: 8.0463e-04 - val_loss: 8.0927e-04\n",
            "Epoch 56/100\n",
            "6324/6324 - 25s - loss: 8.0438e-04 - val_loss: 8.1424e-04\n",
            "Epoch 57/100\n",
            "6324/6324 - 25s - loss: 8.0345e-04 - val_loss: 8.1835e-04\n",
            "Epoch 58/100\n",
            "6324/6324 - 25s - loss: 8.0289e-04 - val_loss: 8.0882e-04\n",
            "training time2181.08532secs.\n"
          ],
          "name": "stdout"
        },
        {
          "output_type": "stream",
          "text": [
            "/usr/local/lib/python3.7/dist-packages/ipykernel_launcher.py:7: DeprecationWarning: time.clock has been deprecated in Python 3.3 and will be removed from Python 3.8: use time.perf_counter or time.process_time instead\n",
            "  import sys\n"
          ],
          "name": "stderr"
        }
      ]
    },
    {
      "cell_type": "code",
      "metadata": {
        "id": "Z9O-QjecP1AN"
      },
      "source": [
        "# loading test data\n",
        "filename=\"/content/drive/My Drive/GIS/ls_sa_ndvi_testing_set_c.dat\"\n",
        "raster = gdal.Open(filename)\n",
        "rasterArray = raster.ReadAsArray()\n",
        "tb1 = rasterArray[0,0:rasterArray.shape[1],0:rasterArray.shape[2]]\n",
        "tb2 = rasterArray[1,0:rasterArray.shape[1],0:rasterArray.shape[2]]\n",
        "tb3 = rasterArray[2,0:rasterArray.shape[1],0:rasterArray.shape[2]]\n",
        "tb4 = rasterArray[3,0:rasterArray.shape[1],0:rasterArray.shape[2]]\n",
        "tb5 = rasterArray[4,0:rasterArray.shape[1],0:rasterArray.shape[2]]\n",
        "tb6 = rasterArray[5,0:rasterArray.shape[1],0:rasterArray.shape[2]]\n",
        "tb1_reshape=np.reshape(tb1,(tb1.shape[0]*tb1.shape[1],))\n",
        "tb3_reshape=np.reshape(tb3,(tb3.shape[0]*tb3.shape[1],))\n",
        "tb4_reshape=np.reshape(tb4,(tb4.shape[0]*tb4.shape[1],))\n",
        "tb5_reshape=np.reshape(tb5,(tb5.shape[0]*tb5.shape[1],))\n",
        "tb6_reshape=np.reshape(tb6,(tb6.shape[0]*tb6.shape[1]))\n",
        "tb2_reshape=np.reshape(tb2,(tb2.shape[0]*tb2.shape[1],))"
      ],
      "execution_count": null,
      "outputs": []
    },
    {
      "cell_type": "code",
      "metadata": {
        "id": "hz57sakjP1AN"
      },
      "source": [
        "test_data=np.stack((tb1_reshape,tb3_reshape,tb4_reshape,tb5_reshape, tb6_reshape),axis=-1)\n",
        "target=tb2_reshape"
      ],
      "execution_count": null,
      "outputs": []
    },
    {
      "cell_type": "code",
      "metadata": {
        "id": "ESgucFIrP1AO"
      },
      "source": [
        "n_lag=2\n",
        "n_feature=5"
      ],
      "execution_count": null,
      "outputs": []
    },
    {
      "cell_type": "code",
      "metadata": {
        "id": "kJ9MJCtVP1AO"
      },
      "source": [
        "test_reframed=series_to_supervised(test_data,n_lag,1)\n",
        "test_values=test_reframed.values\n",
        "test_y=target[n_lag:]"
      ],
      "execution_count": null,
      "outputs": []
    },
    {
      "cell_type": "code",
      "metadata": {
        "id": "I8gJQAXFP1AO"
      },
      "source": [
        "test_X=test_reframed.values\n",
        "test_X = np.reshape(test_X, (test_X.shape[0], n_lag+1, n_feature))"
      ],
      "execution_count": null,
      "outputs": []
    },
    {
      "cell_type": "code",
      "metadata": {
        "id": "Fy9i4k1-P1AO"
      },
      "source": [
        "#whole test data performance evaluations\n",
        "from sklearn.metrics import mean_squared_error\n",
        "from sklearn.metrics import mean_absolute_error\n",
        "from math import sqrt\n",
        "from sklearn.metrics import r2_score\n",
        "pred_y=model.predict(test_X)\n",
        "print(\"r2 score: %.6f\" %r2_score(test_y,pred_y))\n",
        "rmse = sqrt(mean_squared_error(test_y,pred_y))\n",
        "print('Test RMSE: %.3f' % rmse)\n",
        "# calculate MAE\n",
        "mae = mean_absolute_error(test_y,pred_y)\n",
        "print('Test MAE: %.3f' % mae)"
      ],
      "execution_count": null,
      "outputs": []
    },
    {
      "cell_type": "code",
      "metadata": {
        "id": "iCsQcdrXP1AO"
      },
      "source": [
        "j=0\n",
        "case1_x=[]\n",
        "case1_y=[]\n",
        "case2_x=[]\n",
        "case2_y=[]\n",
        "case3_x=[]\n",
        "case3_y=[]\n",
        "case4_x=[]\n",
        "case4_y=[]\n",
        "case5_x=[]\n",
        "case5_y=[]\n",
        "case6_x=[]\n",
        "case6_y=[]\n",
        "case7_x=[]\n",
        "case7_y=[]\n",
        "case8_x=[]\n",
        "case8_y=[]\n",
        "case9_x=[]\n",
        "case9_y=[]\n",
        "for i in range(tb1.size):\n",
        "    if(tb1_reshape[i]<tb2_reshape[i]<tb3_reshape[i]):\n",
        "        case1_x.append([tb1_reshape[i],tb3_reshape[i],tb5_reshape[i]])\n",
        "        case1_y.append(tb2_reshape[i])\n",
        "    elif(tb1_reshape[i]<tb2_reshape[i]==tb3_reshape[i]):\n",
        "        case2_x.append([tb1_reshape[i],tb3_reshape[i],tb5_reshape[i]])\n",
        "        case2_y.append(tb2_reshape[i])\n",
        "    elif(tb1_reshape[i]<tb2_reshape[i]>tb3_reshape[i]):\n",
        "        case3_x.append([tb1_reshape[i],tb3_reshape[i],tb5_reshape[i]])\n",
        "        case3_y.append(tb2_reshape[i])\n",
        "    elif(tb1_reshape[i]==tb2_reshape[i]<tb3_reshape[i]):\n",
        "        case4_x.append([tb1_reshape[i],tb3_reshape[i],tb5_reshape[i]])\n",
        "        case4_y.append(tb2_reshape[i])\n",
        "    elif(tb1_reshape[i]==tb2_reshape[i]==tb3_reshape[i]):\n",
        "        case5_x.append([tb1_reshape[i],tb3_reshape[i],tb5_reshape[i]])\n",
        "        case5_y.append(tb2_reshape[i])\n",
        "    elif(tb1_reshape[i]==tb2_reshape[i]>tb3_reshape[i]):\n",
        "        case6_x.append([tb1_reshape[i],tb3_reshape[i],tb5_reshape[i]])\n",
        "        case6_y.append(tb2_reshape[i])\n",
        "    elif(tb1_reshape[i]>tb2_reshape[i]<tb3_reshape[i]):\n",
        "        case7_x.append([tb1_reshape[i],tb3_reshape[i],tb5_reshape[i]])\n",
        "        case7_y.append(tb2_reshape[i])\n",
        "    elif(tb1_reshape[i]>tb2_reshape[i]==tb3_reshape[i]):\n",
        "        case8_x.append([tb1_reshape[i],tb3_reshape[i],tb5_reshape[i]])\n",
        "        case8_y.append(tb2_reshape[i])\n",
        "    elif(tb1_reshape[i]>tb2_reshape[i]>tb3_reshape[i]):\n",
        "        case9_x.append([tb1_reshape[i],tb3_reshape[i],tb5_reshape[i]])\n",
        "        case9_y.append(tb2_reshape[i])"
      ],
      "execution_count": null,
      "outputs": []
    },
    {
      "cell_type": "code",
      "metadata": {
        "id": "SInlCGSEP1AP"
      },
      "source": [
        "from sklearn.metrics import mean_squared_error\n",
        "from sklearn.metrics import mean_absolute_error\n",
        "from math import sqrt\n",
        "from sklearn.metrics import r2_score\n",
        "def predict_case(x,y):\n",
        "    pred_y=model.predict(x)\n",
        "    print(\"r2 score %\",r2_score(y,pred_y))\n",
        "    rmse = sqrt(mean_squared_error(y,pred_y))\n",
        "    print('Test RMSE: %.3f' % rmse)\n",
        "    # calculate MAE\n",
        "    mae = mean_absolute_error(y,pred_y)\n",
        "    print('Test MAE: %.3f' % mae)\n",
        "    return(pred_y)"
      ],
      "execution_count": null,
      "outputs": []
    },
    {
      "cell_type": "code",
      "metadata": {
        "id": "2I38XnZYP1AP"
      },
      "source": [
        "def prepare_case(case1_x,case1_y):\n",
        "    a=np.array(case1_x)\n",
        "    b=np.array(case1_y)\n",
        "    assert a.shape[0]==b.shape[0]\n",
        "    case1_x_data=series_to_supervised(a,n_lag,1)\n",
        "    y=b[n_lag:]\n",
        "    case1_x_data=case1_x_data.values\n",
        "    x = np.reshape(case1_x_data, (case1_x_data.shape[0], n_lag+1, n_feature))\n",
        "    return (x,y)"
      ],
      "execution_count": null,
      "outputs": []
    },
    {
      "cell_type": "code",
      "metadata": {
        "id": "wpEavva4P1AP"
      },
      "source": [
        "x,y=prepare_case(case1_x,case1_y)\n",
        "y1=predict_case(x,y)\n",
        "x,y=prepare_case(case3_x,case3_y)\n",
        "y3=predict_case(x,y)\n",
        "x,y=prepare_case(case7_x,case7_y)\n",
        "y7=predict_case(x,y)\n",
        "x,y=prepare_case(case9_x,case9_y)\n",
        "y9=predict_case(x,y)"
      ],
      "execution_count": null,
      "outputs": []
    },
    {
      "cell_type": "code",
      "metadata": {
        "id": "lE4rMP_4P1AP"
      },
      "source": [
        "## save trained model for later uses"
      ],
      "execution_count": null,
      "outputs": []
    },
    {
      "cell_type": "code",
      "metadata": {
        "id": "hEoPeErRP1AQ"
      },
      "source": [
        "# serialize model to JSON\n",
        "model_json = model.to_json()\n",
        "with open(\"LSTM-model-band4.json\", \"w\") as json_file:\n",
        "    json_file.write(model_json)\n",
        "# serialize weights to HDF5\n",
        "model.save_weights(\"LSTM-model-band4.h5\")\n",
        "print(\"Saved model to disk\")"
      ],
      "execution_count": null,
      "outputs": []
    }
  ]
}