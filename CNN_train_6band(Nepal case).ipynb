{
 "cells": [
  {
   "cell_type": "markdown",
   "metadata": {
    "id": "20Cw-mOEPQYk"
   },
   "source": [
    "#Check the GPU status"
   ]
  },
  {
   "cell_type": "code",
   "execution_count": null,
   "metadata": {
    "colab": {
     "base_uri": "https://localhost:8080/",
     "height": 34
    },
    "id": "sXnDmXR7RDr2",
    "outputId": "6446eb98-19b2-4b0c-cc5d-95e3f5bfc260"
   },
   "outputs": [
    {
     "name": "stdout",
     "output_type": "stream",
     "text": [
      "Found GPU at: /device:GPU:0\n"
     ]
    }
   ],
   "source": [
    "%tensorflow_version 2.x\n",
    "import tensorflow as tf\n",
    "device_name = tf.test.gpu_device_name()\n",
    "if device_name != '/device:GPU:0':\n",
    "  raise SystemError('GPU device not found')\n",
    "print('Found GPU at: {}'.format(device_name))"
   ]
  },
  {
   "cell_type": "markdown",
   "metadata": {
    "id": "51d-NSqpTrVN"
   },
   "source": [
    "# Import the necessary Library and Files"
   ]
  },
  {
   "cell_type": "code",
   "execution_count": null,
   "metadata": {
    "id": "X-3LPyxx3wk_"
   },
   "outputs": [],
   "source": [
    "from osgeo import gdal_array\n",
    "from osgeo import gdal\n",
    "import numpy as np\n",
    "from sklearn.metrics import mean_squared_error\n",
    "from sklearn.metrics import mean_absolute_error\n",
    "from math import sqrt\n",
    "from sklearn.metrics import r2_score"
   ]
  },
  {
   "cell_type": "markdown",
   "metadata": {
    "id": "GJSRAuLP30o0"
   },
   "source": [
    "# Load the data set"
   ]
  },
  {
   "cell_type": "code",
   "execution_count": null,
   "metadata": {
    "id": "EKEsYuPfX12b"
   },
   "outputs": [],
   "source": [
    "filepath= \"/content/drive/My Drive/GIS/ls_sa_ndvi_training_set_c.dat\" #change the file path if necessary\n",
    "raster = gdal.Open(filepath)\n",
    "rasterArray = raster.ReadAsArray()\n",
    "b1 = rasterArray[0,0:rasterArray.shape[1],0:rasterArray.shape[2]]\n",
    "b2 = rasterArray[1,0:rasterArray.shape[1],0:rasterArray.shape[2]]\n",
    "b3 = rasterArray[2,0:rasterArray.shape[1],0:rasterArray.shape[2]]\n",
    "b4 = rasterArray[3,0:rasterArray.shape[1],0:rasterArray.shape[2]]\n",
    "b5 = rasterArray[4,0:rasterArray.shape[1],0:rasterArray.shape[2]]\n",
    "b6 = rasterArray[5,0:rasterArray.shape[1],0:rasterArray.shape[2]]"
   ]
  },
  {
   "cell_type": "code",
   "execution_count": null,
   "metadata": {
    "colab": {
     "base_uri": "https://localhost:8080/",
     "height": 34
    },
    "id": "2dkQfAsxYFho",
    "outputId": "1227af12-a375-4804-d6cd-07e175dd8e70"
   },
   "outputs": [
    {
     "data": {
      "text/plain": [
       "(6, 2661, 3395)"
      ]
     },
     "execution_count": 8,
     "metadata": {
      "tags": []
     },
     "output_type": "execute_result"
    }
   ],
   "source": [
    "rasterArray.shape"
   ]
  },
  {
   "cell_type": "markdown",
   "metadata": {
    "id": "_W9n6NApTzn8"
   },
   "source": [
    "# Reshape the input into individual band"
   ]
  },
  {
   "cell_type": "code",
   "execution_count": null,
   "metadata": {
    "id": "o-KE1-mHX3Zt"
   },
   "outputs": [],
   "source": [
    "b11=np.reshape(b1,(b1.shape[0]*b1.shape[1],))\n",
    "b22=np.reshape(b2,(b2.shape[0]*b2.shape[1],))\n",
    "b33=np.reshape(b3,(b3.shape[0]*b3.shape[1],))\n",
    "b44=np.reshape(b4,(b4.shape[0]*b4.shape[1],))\n",
    "b55=np.reshape(b5,(b5.shape[0]*b5.shape[1],))\n",
    "b66=np.reshape(b6,(b6.shape[0]*b6.shape[1],))"
   ]
  },
  {
   "cell_type": "code",
   "execution_count": null,
   "metadata": {
    "colab": {
     "base_uri": "https://localhost:8080/",
     "height": 34
    },
    "id": "c3UBZ_K8YM_8",
    "outputId": "4b30820b-1fe1-430f-bc93-75aef7ac4caf"
   },
   "outputs": [
    {
     "data": {
      "text/plain": [
       "(9034095,)"
      ]
     },
     "execution_count": 6,
     "metadata": {
      "tags": []
     },
     "output_type": "execute_result"
    }
   ],
   "source": [
    "b11.shape"
   ]
  },
  {
   "cell_type": "markdown",
   "metadata": {
    "id": "hW-R0irjT6ak"
   },
   "source": [
    "# Divide the image into small sliding tiles"
   ]
  },
  {
   "cell_type": "code",
   "execution_count": null,
   "metadata": {
    "id": "ezbrdDWkYwOQ"
   },
   "outputs": [],
   "source": [
    "train_x=np.stack((b11,b33,b44,b55,b66),axis=-1)"
   ]
  },
  {
   "cell_type": "code",
   "execution_count": null,
   "metadata": {
    "id": "jQkBsMo5NKXK"
   },
   "outputs": [],
   "source": [
    "train_x.shape\n",
    "tile_size=5"
   ]
  },
  {
   "cell_type": "code",
   "execution_count": null,
   "metadata": {
    "id": "VZxU-MGO--oJ"
   },
   "outputs": [],
   "source": [
    "list_small_tiles=[]\n",
    "list_small_tiles.clear()\n",
    "for i in range(train_x.shape[0]-tile_size):\n",
    "  list_small_tiles.append(train_x[i:i+tile_size])\n",
    "list_small_tiles.append(train_x[i:i+tile_size])\n",
    "list_small_tiles.append(train_x[i+1:i+tile_size+1])"
   ]
  },
  {
   "cell_type": "code",
   "execution_count": null,
   "metadata": {
    "colab": {
     "base_uri": "https://localhost:8080/",
     "height": 34
    },
    "id": "f6x7f-io_deW",
    "outputId": "f5a9ccf6-232a-4a79-b051-34d9cf98247e"
   },
   "outputs": [
    {
     "data": {
      "text/plain": [
       "9034092"
      ]
     },
     "execution_count": 12,
     "metadata": {
      "tags": []
     },
     "output_type": "execute_result"
    }
   ],
   "source": [
    "len(list_small_tiles)"
   ]
  },
  {
   "cell_type": "code",
   "execution_count": null,
   "metadata": {
    "id": "aKibWnBQAeV-"
   },
   "outputs": [],
   "source": [
    "x=np.array(list_small_tiles)"
   ]
  },
  {
   "cell_type": "code",
   "execution_count": null,
   "metadata": {
    "id": "h95ofI0fVub4"
   },
   "outputs": [],
   "source": [
    "x=np.reshape(x,(x.shape[0],x.shape[1],x.shape[2],1))"
   ]
  },
  {
   "cell_type": "code",
   "execution_count": null,
   "metadata": {
    "id": "pED7Nqtsc1nb"
   },
   "outputs": [],
   "source": [
    "train_y=b22[:-tile_size+2]"
   ]
  },
  {
   "cell_type": "code",
   "execution_count": null,
   "metadata": {
    "colab": {
     "base_uri": "https://localhost:8080/",
     "height": 51
    },
    "id": "IiccB7qvY_jK",
    "outputId": "8fe03a52-571f-4b4c-f3e4-1deab4649310"
   },
   "outputs": [
    {
     "name": "stdout",
     "output_type": "stream",
     "text": [
      "(9034092, 5, 5, 1)\n",
      "(9034092,)\n"
     ]
    }
   ],
   "source": [
    "print(x.shape)\n",
    "print(train_y.shape)"
   ]
  },
  {
   "cell_type": "markdown",
   "metadata": {
    "colab": {
     "base_uri": "https://localhost:8080/",
     "height": 34
    },
    "id": "rvpHlVoeA6Bz",
    "outputId": "3594ce7c-d7c7-46e5-b823-ab1f0251687f"
   },
   "source": [
    "# Design CNN Network using Keras API"
   ]
  },
  {
   "cell_type": "code",
   "execution_count": null,
   "metadata": {
    "id": "tddd3tgTZF8z"
   },
   "outputs": [],
   "source": [
    "from keras.models import Sequential\n",
    "from keras.layers import Dense, Dropout,Flatten, Conv2D, Conv1D,BatchNormalization, MaxPool2D,GlobalAvgPool1D\n",
    "from keras import backend\n",
    "model=Sequential()\n",
    "model.add(Conv2D(filters=25, kernel_size=2, activation='relu',padding='same', input_shape=(5,5,1)))\n",
    "model.add(MaxPool2D(2))\n",
    "model.add(Conv2D(filters=50,kernel_size=2,activation='relu',padding='same'))\n",
    "model.add(MaxPool2D(2))\n",
    "model.add(Flatten())\n",
    "model.add(Dense(1))"
   ]
  },
  {
   "cell_type": "code",
   "execution_count": null,
   "metadata": {
    "colab": {
     "base_uri": "https://localhost:8080/",
     "height": 357
    },
    "id": "NuwOowjsy0BN",
    "outputId": "50626c54-fb8f-4b54-aded-7a71b726c4c9"
   },
   "outputs": [
    {
     "name": "stdout",
     "output_type": "stream",
     "text": [
      "Model: \"sequential_1\"\n",
      "_________________________________________________________________\n",
      "Layer (type)                 Output Shape              Param #   \n",
      "=================================================================\n",
      "conv2d_1 (Conv2D)            (None, 5, 5, 25)          125       \n",
      "_________________________________________________________________\n",
      "max_pooling2d_1 (MaxPooling2 (None, 2, 2, 25)          0         \n",
      "_________________________________________________________________\n",
      "conv2d_2 (Conv2D)            (None, 2, 2, 50)          5050      \n",
      "_________________________________________________________________\n",
      "max_pooling2d_2 (MaxPooling2 (None, 1, 1, 50)          0         \n",
      "_________________________________________________________________\n",
      "flatten_1 (Flatten)          (None, 50)                0         \n",
      "_________________________________________________________________\n",
      "dense_1 (Dense)              (None, 1)                 51        \n",
      "=================================================================\n",
      "Total params: 5,226\n",
      "Trainable params: 5,226\n",
      "Non-trainable params: 0\n",
      "_________________________________________________________________\n"
     ]
    }
   ],
   "source": [
    "model.summary()"
   ]
  },
  {
   "cell_type": "code",
   "execution_count": null,
   "metadata": {
    "id": "zt2WCfWP7mrr"
   },
   "outputs": [],
   "source": [
    "model.compile(loss='mse', optimizer='adam',metrics=['mse','mae'])"
   ]
  },
  {
   "cell_type": "code",
   "execution_count": null,
   "metadata": {
    "colab": {
     "base_uri": "https://localhost:8080/",
     "height": 153
    },
    "id": "TteUR8DMA_MH",
    "outputId": "7493638d-5fad-404d-e45b-96ac9ecb3ed2"
   },
   "outputs": [
    {
     "name": "stdout",
     "output_type": "stream",
     "text": [
      "Train on 7227273 samples, validate on 1806819 samples\n",
      "Epoch 1/20\n",
      " - 72s - loss: 0.0011 - mse: 0.0011 - mae: 0.0236 - val_loss: 0.0011 - val_mse: 0.0011 - val_mae: 0.0244\n",
      "Epoch 2/20\n",
      " - 68s - loss: 9.1177e-04 - mse: 9.1177e-04 - mae: 0.0220 - val_loss: 9.1425e-04 - val_mse: 9.1425e-04 - val_mae: 0.0223\n",
      "Epoch 3/20\n",
      " - 66s - loss: 8.8667e-04 - mse: 8.8668e-04 - mae: 0.0217 - val_loss: 9.4040e-04 - val_mse: 9.4040e-04 - val_mae: 0.0227\n",
      "Epoch 00003: early stopping\n"
     ]
    }
   ],
   "source": [
    "from keras.callbacks import EarlyStopping\n",
    "es = EarlyStopping(monitor='val_loss',verbose=1)\n",
    "history=model.fit(x, \n",
    "    train_y, \n",
    "    epochs=20,\n",
    "    batch_size=1000,\n",
    "    validation_split=0.2,\n",
    "    verbose=2,\n",
    "    callbacks=[es])"
   ]
  },
  {
   "cell_type": "code",
   "execution_count": null,
   "metadata": {
    "colab": {
     "base_uri": "https://localhost:8080/",
     "height": 265
    },
    "id": "IwpwrxeVO-2h",
    "outputId": "b1774918-1003-4d77-c614-2a8dc0bccbdd"
   },
   "outputs": [
    {
     "data": {
      "image/png": "[encoded data removed]",
      "text/plain": [
       "<Figure size 432x288 with 1 Axes>"
      ]
     },
     "metadata": {
      "needs_background": "light",
      "tags": []
     },
     "output_type": "display_data"
    }
   ],
   "source": [
    "#plot history\n",
    "from matplotlib import pyplot\n",
    "pyplot.plot(history.history['loss'], label='train-loss')\n",
    "pyplot.plot(history.history['val_loss'], label='validation-loss')\n",
    "pyplot.legend()\n",
    "pyplot.show()"
   ]
  },
  {
   "cell_type": "code",
   "execution_count": null,
   "metadata": {
    "colab": {
     "base_uri": "https://localhost:8080/",
     "height": 181
    },
    "id": "_4ib56dDhsto",
    "outputId": "c73db324-def1-4580-f9b6-1da9d09a2de7"
   },
   "outputs": [],
   "source": [
    "#save the model for later uses\n",
    "model.save(\"CNN-Train-Six.h5\",overwrite=True)"
   ]
  },
  {
   "cell_type": "code",
   "execution_count": 1,
   "metadata": {},
   "outputs": [],
   "source": [
    "#load test file of Nepal case data"
   ]
  },
  {
   "cell_type": "code",
   "execution_count": null,
   "metadata": {
    "id": "H1Uerc3lleva"
   },
   "outputs": [],
   "source": [
    "filename=\"/content/drive/My Drive/GIS/ls_sa_ndvi_testing_set_c.dat\"\n",
    "raster = gdal.Open(filename)\n",
    "rasterArray = raster.ReadAsArray()\n",
    "tb1 = rasterArray[0,0:rasterArray.shape[1],0:rasterArray.shape[2]]\n",
    "tb2 = rasterArray[1,0:rasterArray.shape[1],0:rasterArray.shape[2]]\n",
    "tb3 = rasterArray[2,0:rasterArray.shape[1],0:rasterArray.shape[2]]\n",
    "tb4 = rasterArray[3,0:rasterArray.shape[1],0:rasterArray.shape[2]]\n",
    "tb5 = rasterArray[4,0:rasterArray.shape[1],0:rasterArray.shape[2]]\n",
    "tb6 = rasterArray[5,0:rasterArray.shape[1],0:rasterArray.shape[2]]\n",
    "tb1_reshape=np.reshape(tb1,(tb1.shape[0]*tb1.shape[1],))\n",
    "tb3_reshape=np.reshape(tb3,(tb3.shape[0]*tb3.shape[1],))\n",
    "tb4_reshape=np.reshape(tb4,(tb4.shape[0]*tb4.shape[1],))\n",
    "tb5_reshape=np.reshape(tb5,(tb5.shape[0]*tb5.shape[1],))\n",
    "tb6_reshape=np.reshape(tb6,(tb6.shape[0]*tb6.shape[1]))\n",
    "tb2_reshape=np.reshape(tb2,(tb2.shape[0]*tb2.shape[1],))"
   ]
  },
  {
   "cell_type": "code",
   "execution_count": null,
   "metadata": {
    "id": "xnoIAAqH1xMR"
   },
   "outputs": [],
   "source": [
    "tile_size=5"
   ]
  },
  {
   "cell_type": "code",
   "execution_count": null,
   "metadata": {
    "id": "yJ5ixn_SnVNj"
   },
   "outputs": [],
   "source": [
    "test_x=np.stack((tb1_reshape,tb3_reshape,tb4_reshape,tb5_reshape, tb6_reshape),axis=-1)\n",
    "test_y=tb2_reshape\n"
   ]
  },
  {
   "cell_type": "code",
   "execution_count": null,
   "metadata": {
    "id": "KLIyprW3DCrH"
   },
   "outputs": [],
   "source": [
    "list_small_tiles=[]\n",
    "list_small_tiles.clear()\n",
    "for i in range(test_x.shape[0]-tile_size):\n",
    "  list_small_tiles.append(test_x[i:i+tile_size])\n",
    "list_small_tiles.append(test_x[i:i+tile_size])\n",
    "list_small_tiles.append(test_x[i+1:i+tile_size+1])"
   ]
  },
  {
   "cell_type": "code",
   "execution_count": null,
   "metadata": {
    "id": "N5X_IqNUDOxd"
   },
   "outputs": [],
   "source": [
    "test_x=np.array(list_small_tiles)\n",
    "test_x=np.reshape(test_x,(test_x.shape[0],tile_size,tile_size,1))"
   ]
  },
  {
   "cell_type": "code",
   "execution_count": null,
   "metadata": {
    "id": "hsOHjD9ih-jp"
   },
   "outputs": [],
   "source": [
    "test_y=test_y[:-tile_size+2]"
   ]
  },
  {
   "cell_type": "code",
   "execution_count": null,
   "metadata": {
    "colab": {
     "base_uri": "https://localhost:8080/",
     "height": 51
    },
    "id": "NpJQKoP-nuCM",
    "outputId": "1a31fc64-ef00-46f9-ac17-028d864ef89b"
   },
   "outputs": [
    {
     "name": "stdout",
     "output_type": "stream",
     "text": [
      "(9548277, 5, 5, 1)\n",
      "(9548277,)\n"
     ]
    }
   ],
   "source": [
    "#check for x and y shape\n",
    "print(test_x.shape)\n",
    "print(test_y.shape)"
   ]
  },
  {
   "cell_type": "code",
   "execution_count": null,
   "metadata": {
    "id": "EFVEY0uiu4Eb"
   },
   "outputs": [],
   "source": [
    "from keras.models import load_model\n",
    "model=load_model('/content/CNN-Train-Six-band.h5')"
   ]
  },
  {
   "cell_type": "code",
   "execution_count": null,
   "metadata": {
    "colab": {
     "base_uri": "https://localhost:8080/",
     "height": 68
    },
    "id": "kWag_BoBnZRD",
    "outputId": "61856a76-c25f-4465-f2f5-7ceb791717ca"
   },
   "outputs": [
    {
     "name": "stdout",
     "output_type": "stream",
     "text": [
      "r2 score: 0.904992\n",
      "Test RMSE: 0.036\n",
      "Test MAE: 0.027\n"
     ]
    }
   ],
   "source": [
    "#whole test data performance evaluations\n",
    "pred_y=model.predict(test_x)\n",
    "print(\"r2 score: %.6f\" %r2_score(test_y,pred_y))\n",
    "rmse = sqrt(mean_squared_error(test_y,pred_y))\n",
    "print('Test RMSE: %.3f' % rmse)\n",
    "# calculate MAE\n",
    "mae = mean_absolute_error(test_y,pred_y)\n",
    "print('Test MAE: %.3f' % mae)"
   ]
  },
  {
   "cell_type": "code",
   "execution_count": null,
   "metadata": {
    "colab": {
     "base_uri": "https://localhost:8080/",
     "height": 34
    },
    "id": "t4PNeCiXDBW8",
    "outputId": "c0301407-24a9-4478-cf22-74a197cf6b40"
   },
   "outputs": [
    {
     "data": {
      "text/plain": [
       "(9548280,)"
      ]
     },
     "execution_count": 13,
     "metadata": {
      "tags": []
     },
     "output_type": "execute_result"
    }
   ],
   "source": [
    "tb2_reshape.shape"
   ]
  },
  {
   "cell_type": "code",
   "execution_count": null,
   "metadata": {
    "colab": {
     "base_uri": "https://localhost:8080/",
     "height": 34
    },
    "id": "6tH9vTweCtyf",
    "outputId": "a5771fa0-c0a0-451d-ee9e-531d6b69a4b6"
   },
   "outputs": [
    {
     "data": {
      "text/plain": [
       "(9548280,)"
      ]
     },
     "execution_count": 14,
     "metadata": {
      "tags": []
     },
     "output_type": "execute_result"
    }
   ],
   "source": [
    "a=np.pad(pred_y.ravel(), (1,2),\"edge\")\n",
    "a.shape"
   ]
  },
  {
   "cell_type": "code",
   "execution_count": null,
   "metadata": {
    "id": "LXTe1oP2FzbA"
   },
   "outputs": [],
   "source": [
    "np.savetxt(\"CNN_six_band_nepal.csv\", a, delimiter=\",\")"
   ]
  },
  {
   "cell_type": "code",
   "execution_count": null,
   "metadata": {
    "id": "or_GVn3pguJX"
   },
   "outputs": [],
   "source": [
    "#divide the test cases"
   ]
  },
  {
   "cell_type": "code",
   "execution_count": null,
   "metadata": {
    "id": "UuPvzUP1g1MS"
   },
   "outputs": [],
   "source": [
    "j=0\n",
    "case1_x=[]\n",
    "case1_y=[]\n",
    "case2_x=[]\n",
    "case2_y=[]\n",
    "case3_x=[]\n",
    "case3_y=[]\n",
    "case4_x=[]\n",
    "case4_y=[]\n",
    "case5_x=[]\n",
    "case5_y=[]\n",
    "case6_x=[]\n",
    "case6_y=[]\n",
    "case7_x=[]\n",
    "case7_y=[]\n",
    "case8_x=[]\n",
    "case8_y=[]\n",
    "case9_x=[]\n",
    "case9_y=[]\n",
    "for i in range(tb1.size):\n",
    "    if(tb1_reshape[i]<tb2_reshape[i]<tb3_reshape[i]):\n",
    "        case1_x.append([tb1_reshape[i],tb3_reshape[i],tb4_reshape[i],tb5_reshape[i],tb6_reshape[i]])\n",
    "        case1_y.append(tb2_reshape[i])\n",
    "    elif(tb1_reshape[i]<tb2_reshape[i]==tb3_reshape[i]):\n",
    "        case2_x.append([tb1_reshape[i],tb3_reshape[i],tb4_reshape[i],tb5_reshape[i],tb6_reshape[i]])\n",
    "        case2_y.append(tb2_reshape[i])\n",
    "    elif(tb1_reshape[i]<tb2_reshape[i]>tb3_reshape[i]):\n",
    "        case3_x.append([tb1_reshape[i],tb3_reshape[i],tb4_reshape[i],tb5_reshape[i],tb6_reshape[i]])\n",
    "        case3_y.append(tb2_reshape[i])\n",
    "    elif(tb1_reshape[i]==tb2_reshape[i]<tb3_reshape[i]):\n",
    "        case4_x.append([tb1_reshape[i],tb3_reshape[i],tb4_reshape[i],tb5_reshape[i],tb6_reshape[i]])\n",
    "        case4_y.append(tb2_reshape[i])\n",
    "    elif(tb1_reshape[i]==tb2_reshape[i]==tb3_reshape[i]):\n",
    "        case5_x.append([tb1_reshape[i],tb3_reshape[i],tb4_reshape[i],tb5_reshape[i],tb6_reshape[i]])\n",
    "        case5_y.append(tb2_reshape[i])\n",
    "    elif(tb1_reshape[i]==tb2_reshape[i]>tb3_reshape[i]):\n",
    "        case6_x.append([tb1_reshape[i],tb3_reshape[i],tb4_reshape[i],tb5_reshape[i],tb6_reshape[i]])\n",
    "        case6_y.append(tb2_reshape[i])\n",
    "    elif(tb1_reshape[i]>tb2_reshape[i]<tb3_reshape[i]):\n",
    "        case7_x.append([tb1_reshape[i],tb3_reshape[i],tb4_reshape[i],tb5_reshape[i],tb6_reshape[i]])\n",
    "        case7_y.append(tb2_reshape[i])\n",
    "    elif(tb1_reshape[i]>tb2_reshape[i]==tb3_reshape[i]):\n",
    "        case8_x.append([tb1_reshape[i],tb3_reshape[i],tb4_reshape[i],tb5_reshape[i],tb6_reshape[i]])\n",
    "        case8_y.append(tb2_reshape[i])\n",
    "    elif(tb1_reshape[i]>tb2_reshape[i]>tb3_reshape[i]):\n",
    "        case9_x.append([tb1_reshape[i],tb3_reshape[i],tb4_reshape[i],tb5_reshape[i],tb6_reshape[i]])\n",
    "        case9_y.append(tb2_reshape[i])"
   ]
  },
  {
   "cell_type": "code",
   "execution_count": null,
   "metadata": {
    "id": "VIdPAgrbsNHO"
   },
   "outputs": [],
   "source": [
    "def prepare_case(x,y):\n",
    "  x=np.array(x)\n",
    "  y=np.array(y)\n",
    "  small_tiles=[]\n",
    "  small_tiles.clear()\n",
    "  for i in range(x.shape[0]-tile_size):\n",
    "    small_tiles.append(x[i:i+tile_size])\n",
    "  small_tiles.append(x[i:i+tile_size])\n",
    "  small_tiles.append(x[i+1:i+tile_size+1])\n",
    "  test_x=np.array(small_tiles)\n",
    "  test_x=np.reshape(test_x,(test_x.shape[0],tile_size,tile_size,1))\n",
    "  test_y=y[:-tile_size+2]\n",
    "  return (test_x,test_y)"
   ]
  },
  {
   "cell_type": "code",
   "execution_count": null,
   "metadata": {
    "id": "Elcm6D17hNLn"
   },
   "outputs": [],
   "source": [
    "def predict_case(test_x,test_y):\n",
    "    pred_y=model.predict(test_x)\n",
    "    print(\"r2 score: %.6f\" %r2_score(test_y,pred_y))\n",
    "    rmse = sqrt(mean_squared_error(test_y,pred_y))\n",
    "    print('Test RMSE: %.3f' % rmse)\n",
    "    # calculate MAE\n",
    "    mae = mean_absolute_error(test_y,pred_y)\n",
    "    print('Test MAE: %.3f' % mae)\n",
    "    return pred_y"
   ]
  },
  {
   "cell_type": "code",
   "execution_count": null,
   "metadata": {
    "colab": {
     "base_uri": "https://localhost:8080/",
     "height": 70
    },
    "id": "dhixm7SHw5-g",
    "outputId": "d87e8cbb-0ed8-419b-81e1-e63e1e3970f1"
   },
   "outputs": [
    {
     "name": "stdout",
     "output_type": "stream",
     "text": [
      "r2 score: 0.838832\n",
      "Test RMSE: 0.047\n",
      "Test MAE: 0.038\n"
     ]
    }
   ],
   "source": [
    "x1,y1=prepare_case(case1_x,case1_y)\n",
    "y1_hat=predict_case(x1,y1)"
   ]
  },
  {
   "cell_type": "code",
   "execution_count": null,
   "metadata": {
    "colab": {
     "base_uri": "https://localhost:8080/",
     "height": 70
    },
    "id": "HR3GdZjthtun",
    "outputId": "814cac7a-b7a5-4be2-eecd-6f0637629c89"
   },
   "outputs": [
    {
     "name": "stdout",
     "output_type": "stream",
     "text": [
      "r2 score: 0.727966\n",
      "Test RMSE: 0.079\n",
      "Test MAE: 0.065\n"
     ]
    }
   ],
   "source": [
    "x3,y3=prepare_case(case3_x,case3_y)\n",
    "y3_hat=predict_case(x3,y3)"
   ]
  },
  {
   "cell_type": "code",
   "execution_count": null,
   "metadata": {
    "colab": {
     "base_uri": "https://localhost:8080/",
     "height": 70
    },
    "id": "tXazMrPXxF0z",
    "outputId": "70e31f4e-e999-40da-a2c8-e23ef6c6e2a5"
   },
   "outputs": [
    {
     "name": "stdout",
     "output_type": "stream",
     "text": [
      "r2 score: 0.446169\n",
      "Test RMSE: 0.077\n",
      "Test MAE: 0.046\n"
     ]
    }
   ],
   "source": [
    "x7,y7=prepare_case(case7_x,case7_y)\n",
    "y7_hat=predict_case(x7,y7)"
   ]
  },
  {
   "cell_type": "code",
   "execution_count": null,
   "metadata": {
    "colab": {
     "base_uri": "https://localhost:8080/",
     "height": 70
    },
    "id": "QIvisyDh4q2q",
    "outputId": "528c910d-fa7a-4503-e069-0ec16207f285"
   },
   "outputs": [
    {
     "name": "stdout",
     "output_type": "stream",
     "text": [
      "r2 score: 0.914274\n",
      "Test RMSE: 0.050\n",
      "Test MAE: 0.032\n"
     ]
    }
   ],
   "source": [
    "x9,y9=prepare_case(case9_x,case9_y)\n",
    "y9_hat=predict_case(x9,y9)"
   ]
  },
  {
   "cell_type": "code",
   "execution_count": null,
   "metadata": {
    "id": "DCVGCyghaAMK"
   },
   "outputs": [],
   "source": []
  }
 ],
 "metadata": {
  "accelerator": "GPU",
  "colab": {
   "name": "CNN2D for GIS-5 bands-Nepal.ipynb",
   "provenance": [],
   "toc_visible": true
  },
  "kernelspec": {
   "display_name": "Python 3",
   "language": "python",
   "name": "python3"
  },
  "language_info": {
   "codemirror_mode": {
    "name": "ipython",
    "version": 3
   },
   "file_extension": ".py",
   "mimetype": "text/x-python",
   "name": "python",
   "nbconvert_exporter": "python",
   "pygments_lexer": "ipython3",
   "version": "3.7.6"
  }
 },
 "nbformat": 4,
 "nbformat_minor": 1
}
