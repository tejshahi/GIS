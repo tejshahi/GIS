{
  "nbformat": 4,
  "nbformat_minor": 0,
  "metadata": {
    "accelerator": "GPU",
    "colab": {
      "name": "LSTM_train_4band(Nepal Case).ipynb",
      "provenance": [],
      "include_colab_link": true
    },
    "kernelspec": {
      "display_name": "Python 3",
      "language": "python",
      "name": "python3"
    },
    "language_info": {
      "codemirror_mode": {
        "name": "ipython",
        "version": 3
      },
      "file_extension": ".py",
      "mimetype": "text/x-python",
      "name": "python",
      "nbconvert_exporter": "python",
      "pygments_lexer": "ipython3",
      "version": "3.5.5"
    }
  },
  "cells": [
    {
      "cell_type": "markdown",
      "metadata": {
        "id": "view-in-github",
        "colab_type": "text"
      },
      "source": [
        "<a href=\"https://colab.research.google.com/github/tejshahi/data_fusion/blob/master/LSTM_train_4band(Nepal_Case).ipynb\" target=\"_parent\"><img src=\"https://colab.research.google.com/assets/colab-badge.svg\" alt=\"Open In Colab\"/></a>"
      ]
    },
    {
      "cell_type": "code",
      "metadata": {
        "colab": {
          "base_uri": "https://localhost:8080/"
        },
        "id": "jGEWWvlyYUmG",
        "outputId": "3195b198-5d60-4ce4-c9a7-bb576301ef5f"
      },
      "source": [
        "from google.colab import drive\n",
        "drive.mount('/content/drive')"
      ],
      "execution_count": 1,
      "outputs": [
        {
          "output_type": "stream",
          "text": [
            "Mounted at /content/drive\n"
          ],
          "name": "stdout"
        }
      ]
    },
    {
      "cell_type": "code",
      "metadata": {
        "colab": {
          "base_uri": "https://localhost:8080/"
        },
        "id": "sXnDmXR7RDr2",
        "outputId": "fee76956-6dcd-4129-c220-af7d1bf57f2b"
      },
      "source": [
        "%tensorflow_version 2.x\n",
        "import tensorflow as tf\n",
        "device_name = tf.test.gpu_device_name()\n",
        "if device_name != '/device:GPU:0':\n",
        "  raise SystemError('GPU device not found')\n",
        "print('Found GPU at: {}'.format(device_name))"
      ],
      "execution_count": 2,
      "outputs": [
        {
          "output_type": "stream",
          "text": [
            "Found GPU at: /device:GPU:0\n"
          ],
          "name": "stdout"
        }
      ]
    },
    {
      "cell_type": "markdown",
      "metadata": {
        "id": "dJsRHFfZYMZQ"
      },
      "source": [
        "## Import Necessary packages and Read Training data"
      ]
    },
    {
      "cell_type": "code",
      "metadata": {
        "id": "EKEsYuPfX12b"
      },
      "source": [
        "from osgeo import gdal_array\n",
        "from osgeo import gdal\n",
        "import numpy as np\n",
        "filepath= \"/content/drive/MyDrive/dataset_for_fusion/ls_sa_ndvi_training_set_c.dat\"\n",
        "raster = gdal.Open(filepath)\n",
        "rasterArray = raster.ReadAsArray()\n",
        "b1 = rasterArray[0,0:rasterArray.shape[1],0:rasterArray.shape[2]]\n",
        "b2 = rasterArray[1,0:rasterArray.shape[1],0:rasterArray.shape[2]]\n",
        "b3 = rasterArray[2,0:rasterArray.shape[1],0:rasterArray.shape[2]]\n",
        "b4 = rasterArray[3,0:rasterArray.shape[1],0:rasterArray.shape[2]]\n",
        "b5 = rasterArray[4,0:rasterArray.shape[1],0:rasterArray.shape[2]]\n",
        "b6 = rasterArray[5,0:rasterArray.shape[1],0:rasterArray.shape[2]]"
      ],
      "execution_count": 3,
      "outputs": []
    },
    {
      "cell_type": "code",
      "metadata": {
        "colab": {
          "base_uri": "https://localhost:8080/"
        },
        "id": "2dkQfAsxYFho",
        "outputId": "0cef7abc-f24d-4494-86f0-4bb5c7b5507a"
      },
      "source": [
        "rasterArray.shape"
      ],
      "execution_count": 4,
      "outputs": [
        {
          "output_type": "execute_result",
          "data": {
            "text/plain": [
              "(6, 2661, 3395)"
            ]
          },
          "metadata": {
            "tags": []
          },
          "execution_count": 4
        }
      ]
    },
    {
      "cell_type": "code",
      "metadata": {
        "id": "o-KE1-mHX3Zt"
      },
      "source": [
        "b11=np.reshape(b1,(b1.shape[0]*b1.shape[1],))\n",
        "b22=np.reshape(b2,(b2.shape[0]*b2.shape[1],))\n",
        "b33=np.reshape(b3,(b3.shape[0]*b3.shape[1],))\n",
        "b44=np.reshape(b4,(b4.shape[0]*b4.shape[1],))\n",
        "b55=np.reshape(b5,(b5.shape[0]*b5.shape[1],))\n",
        "b66=np.reshape(b6,(b6.shape[0]*b6.shape[1],))"
      ],
      "execution_count": 5,
      "outputs": []
    },
    {
      "cell_type": "code",
      "metadata": {
        "id": "ezbrdDWkYwOQ"
      },
      "source": [
        "data=np.stack((b11,b33,b55),axis=-1)\n",
        "target=b22"
      ],
      "execution_count": 6,
      "outputs": []
    },
    {
      "cell_type": "markdown",
      "metadata": {
        "id": "3RG_eeezYMZR"
      },
      "source": [
        "## Convert data into supervised learning shape"
      ]
    },
    {
      "cell_type": "code",
      "metadata": {
        "id": "IiccB7qvY_jK"
      },
      "source": [
        "from pandas import DataFrame\n",
        "from pandas import concat\n",
        "import pandas as pd"
      ],
      "execution_count": 7,
      "outputs": []
    },
    {
      "cell_type": "code",
      "metadata": {
        "id": "cUkO02AlZCyK"
      },
      "source": [
        "def series_to_supervised(data, n_in=1, n_out=1, dropnan=True):\n",
        "\tn_vars = 1 if type(data) is list else data.shape[1]\n",
        "\tdf = DataFrame(data)\n",
        "\tcols, names = list(), list()\n",
        "\t# input sequence (t-n, ... t-1)\n",
        "\tfor i in range(n_in, 0, -1):\n",
        "\t\tcols.append(df.shift(i))\n",
        "\t\tnames += [('var%d(t-%d)' % (j+1, i)) for j in range(n_vars)]\n",
        "\t# forecast sequence (t, t+1, ... t+n)\n",
        "\tfor i in range(0, n_out):\n",
        "\t\tcols.append(df.shift(-i))\n",
        "\t\tif i == 0:\n",
        "\t\t\tnames += [('var%d(t)' % (j+1)) for j in range(n_vars)]\n",
        "\t\telse:\n",
        "\t\t\tnames += [('var%d(t+%d)' % (j+1, i)) for j in range(n_vars)]\n",
        "\t# put it all together\n",
        "\tagg = concat(cols, axis=1)\n",
        "\tagg.columns = names\n",
        "\t# drop rows with NaN values\n",
        "\tif dropnan:\n",
        "\t\tagg.dropna(inplace=True)\n",
        "\treturn agg"
      ],
      "execution_count": 8,
      "outputs": []
    },
    {
      "cell_type": "code",
      "metadata": {
        "id": "AFkI12Ecdaiu"
      },
      "source": [
        "n_lag=2\n",
        "n_feature=3"
      ],
      "execution_count": 9,
      "outputs": []
    },
    {
      "cell_type": "code",
      "metadata": {
        "id": "oEsDY3nsB0Ba"
      },
      "source": [
        "reframed=series_to_supervised(data,n_lag,1)"
      ],
      "execution_count": 10,
      "outputs": []
    },
    {
      "cell_type": "code",
      "metadata": {
        "colab": {
          "base_uri": "https://localhost:8080/"
        },
        "id": "0xRsYtglCOXR",
        "outputId": "14809f17-19d3-4a9a-f94a-8466ca702f43"
      },
      "source": [
        "reframed.shape"
      ],
      "execution_count": 11,
      "outputs": [
        {
          "output_type": "execute_result",
          "data": {
            "text/plain": [
              "(9034093, 9)"
            ]
          },
          "metadata": {
            "tags": []
          },
          "execution_count": 11
        }
      ]
    },
    {
      "cell_type": "code",
      "metadata": {
        "id": "sVVTOB4qfSWn"
      },
      "source": [
        "target_y=target[n_lag:]"
      ],
      "execution_count": 12,
      "outputs": []
    },
    {
      "cell_type": "code",
      "metadata": {
        "id": "DkFCPOnbfo52"
      },
      "source": [
        "target_y=target_y.reshape(-1,1)"
      ],
      "execution_count": 13,
      "outputs": []
    },
    {
      "cell_type": "code",
      "metadata": {
        "id": "E1NdQr2CC2rJ"
      },
      "source": [
        "values = reframed.values"
      ],
      "execution_count": 14,
      "outputs": []
    },
    {
      "cell_type": "code",
      "metadata": {
        "colab": {
          "base_uri": "https://localhost:8080/"
        },
        "id": "OfpkbkS_jAZo",
        "outputId": "5e9aba30-8392-476d-9e30-3549c890bb04"
      },
      "source": [
        "values.shape"
      ],
      "execution_count": 15,
      "outputs": [
        {
          "output_type": "execute_result",
          "data": {
            "text/plain": [
              "(9034093, 9)"
            ]
          },
          "metadata": {
            "tags": []
          },
          "execution_count": 15
        }
      ]
    },
    {
      "cell_type": "code",
      "metadata": {
        "id": "szQ8Vnq0C_Oa"
      },
      "source": [
        "n_train = int(values.shape[0] * 0.7)\n",
        "train_X,train_y = values[:n_train, :],target_y[:n_train]\n",
        "test_X, test_y = values[n_train:, :], target_y[n_train:]"
      ],
      "execution_count": 16,
      "outputs": []
    },
    {
      "cell_type": "code",
      "metadata": {
        "id": "KdwBmNKLhagZ"
      },
      "source": [
        "assert (test_y.size + train_y.size) ==target_y.size"
      ],
      "execution_count": 17,
      "outputs": []
    },
    {
      "cell_type": "code",
      "metadata": {
        "id": "z0sGG6nVHdRE"
      },
      "source": [
        "# reshape input to be 3D [samples, timesteps, features]\n",
        "train_X = np.reshape(train_X, (train_X.shape[0], n_lag+1, n_feature))\n",
        "test_X = np.reshape(test_X, (test_X.shape[0], n_lag+1, n_feature))"
      ],
      "execution_count": 18,
      "outputs": []
    },
    {
      "cell_type": "markdown",
      "metadata": {
        "id": "-ABia9WCYMZU"
      },
      "source": [
        "## Design LSTM Network"
      ]
    },
    {
      "cell_type": "code",
      "metadata": {
        "colab": {
          "base_uri": "https://localhost:8080/"
        },
        "id": "tddd3tgTZF8z",
        "outputId": "298dca36-58d5-4480-e284-7f66c7cdabbe"
      },
      "source": [
        "from keras.models import Sequential\n",
        "from keras.layers import Dense\n",
        "from keras.layers import LSTM, Dropout\n",
        "from keras.callbacks import EarlyStopping\n",
        "model = Sequential()\n",
        "model.add(LSTM(30, input_shape=(train_X.shape[1], train_X.shape[2])))\n",
        "model.add(Dropout(0.2))\n",
        "model.add(Dense(1))\n",
        "model.compile(loss='mse', optimizer='adam')\n",
        "model.summary()"
      ],
      "execution_count": 20,
      "outputs": [
        {
          "output_type": "stream",
          "text": [
            "Model: \"sequential_1\"\n",
            "_________________________________________________________________\n",
            "Layer (type)                 Output Shape              Param #   \n",
            "=================================================================\n",
            "lstm_1 (LSTM)                (None, 30)                4080      \n",
            "_________________________________________________________________\n",
            "dropout (Dropout)            (None, 30)                0         \n",
            "_________________________________________________________________\n",
            "dense (Dense)                (None, 1)                 31        \n",
            "=================================================================\n",
            "Total params: 4,111\n",
            "Trainable params: 4,111\n",
            "Non-trainable params: 0\n",
            "_________________________________________________________________\n"
          ],
          "name": "stdout"
        }
      ]
    },
    {
      "cell_type": "code",
      "metadata": {
        "colab": {
          "base_uri": "https://localhost:8080/"
        },
        "id": "TteUR8DMA_MH",
        "outputId": "234d88de-fe11-4586-bf43-4a9249bec4a1"
      },
      "source": [
        "from keras.callbacks import EarlyStopping\n",
        "# fit network\n",
        "# fit network\n",
        "import time\n",
        "train_s_time=time.clock()\n",
        "#history = model.fit(train_X, train_y, epochs=50, batch_size=1000, validation_data=(test_X, test_y), verbose=2, shuffle=False)\n",
        "history = model.fit(train_X, train_y, epochs=100, batch_size=1000, validation_data=(test_X, test_y),callbacks=[EarlyStopping(monitor='val_loss', patience=10)], verbose=2, shuffle=False)\n",
        "print(\"training time\"+str(time.clock()-train_s_time)+'secs.')"
      ],
      "execution_count": 21,
      "outputs": [
        {
          "output_type": "stream",
          "text": [
            "/usr/local/lib/python3.7/dist-packages/ipykernel_launcher.py:5: DeprecationWarning: time.clock has been deprecated in Python 3.3 and will be removed from Python 3.8: use time.perf_counter or time.process_time instead\n",
            "  \"\"\"\n"
          ],
          "name": "stderr"
        },
        {
          "output_type": "stream",
          "text": [
            "Epoch 1/100\n",
            "6324/6324 - 43s - loss: 0.0017 - val_loss: 0.0011\n",
            "Epoch 2/100\n",
            "6324/6324 - 21s - loss: 0.0011 - val_loss: 0.0011\n",
            "Epoch 3/100\n",
            "6324/6324 - 22s - loss: 0.0011 - val_loss: 0.0011\n",
            "Epoch 4/100\n",
            "6324/6324 - 22s - loss: 0.0011 - val_loss: 0.0010\n",
            "Epoch 5/100\n",
            "6324/6324 - 21s - loss: 0.0011 - val_loss: 0.0010\n",
            "Epoch 6/100\n",
            "6324/6324 - 21s - loss: 0.0011 - val_loss: 0.0010\n",
            "Epoch 7/100\n",
            "6324/6324 - 21s - loss: 0.0011 - val_loss: 0.0010\n",
            "Epoch 8/100\n",
            "6324/6324 - 22s - loss: 0.0011 - val_loss: 9.9590e-04\n",
            "Epoch 9/100\n",
            "6324/6324 - 21s - loss: 0.0011 - val_loss: 9.7079e-04\n",
            "Epoch 10/100\n",
            "6324/6324 - 22s - loss: 0.0010 - val_loss: 9.5565e-04\n",
            "Epoch 11/100\n",
            "6324/6324 - 21s - loss: 0.0010 - val_loss: 9.4681e-04\n",
            "Epoch 12/100\n",
            "6324/6324 - 22s - loss: 0.0010 - val_loss: 9.4255e-04\n",
            "Epoch 13/100\n",
            "6324/6324 - 22s - loss: 0.0010 - val_loss: 9.3445e-04\n",
            "Epoch 14/100\n",
            "6324/6324 - 22s - loss: 0.0010 - val_loss: 9.2696e-04\n",
            "Epoch 15/100\n",
            "6324/6324 - 21s - loss: 9.9490e-04 - val_loss: 9.2291e-04\n",
            "Epoch 16/100\n",
            "6324/6324 - 21s - loss: 9.8963e-04 - val_loss: 9.2153e-04\n",
            "Epoch 17/100\n",
            "6324/6324 - 21s - loss: 9.8453e-04 - val_loss: 9.1508e-04\n",
            "Epoch 18/100\n",
            "6324/6324 - 22s - loss: 9.8035e-04 - val_loss: 9.1945e-04\n",
            "Epoch 19/100\n",
            "6324/6324 - 21s - loss: 9.7672e-04 - val_loss: 9.1545e-04\n",
            "Epoch 20/100\n",
            "6324/6324 - 21s - loss: 9.7255e-04 - val_loss: 9.1657e-04\n",
            "Epoch 21/100\n",
            "6324/6324 - 21s - loss: 9.6963e-04 - val_loss: 9.1765e-04\n",
            "Epoch 22/100\n",
            "6324/6324 - 21s - loss: 9.6684e-04 - val_loss: 9.1064e-04\n",
            "Epoch 23/100\n",
            "6324/6324 - 22s - loss: 9.6395e-04 - val_loss: 9.1227e-04\n",
            "Epoch 24/100\n",
            "6324/6324 - 22s - loss: 9.6189e-04 - val_loss: 9.1271e-04\n",
            "Epoch 25/100\n",
            "6324/6324 - 21s - loss: 9.5955e-04 - val_loss: 9.0820e-04\n",
            "Epoch 26/100\n",
            "6324/6324 - 21s - loss: 9.5819e-04 - val_loss: 9.0865e-04\n",
            "Epoch 27/100\n",
            "6324/6324 - 21s - loss: 9.5607e-04 - val_loss: 9.0565e-04\n",
            "Epoch 28/100\n",
            "6324/6324 - 21s - loss: 9.5461e-04 - val_loss: 9.0942e-04\n",
            "Epoch 29/100\n",
            "6324/6324 - 21s - loss: 9.5297e-04 - val_loss: 9.0246e-04\n",
            "Epoch 30/100\n",
            "6324/6324 - 22s - loss: 9.5163e-04 - val_loss: 9.0507e-04\n",
            "Epoch 31/100\n",
            "6324/6324 - 20s - loss: 9.5013e-04 - val_loss: 8.9843e-04\n",
            "Epoch 32/100\n",
            "6324/6324 - 22s - loss: 9.4841e-04 - val_loss: 8.9898e-04\n",
            "Epoch 33/100\n",
            "6324/6324 - 21s - loss: 9.4695e-04 - val_loss: 8.9646e-04\n",
            "Epoch 34/100\n",
            "6324/6324 - 22s - loss: 9.4523e-04 - val_loss: 8.9661e-04\n",
            "Epoch 35/100\n",
            "6324/6324 - 21s - loss: 9.4409e-04 - val_loss: 8.9591e-04\n",
            "Epoch 36/100\n",
            "6324/6324 - 21s - loss: 9.4193e-04 - val_loss: 8.9352e-04\n",
            "Epoch 37/100\n",
            "6324/6324 - 22s - loss: 9.4088e-04 - val_loss: 8.8979e-04\n",
            "Epoch 38/100\n",
            "6324/6324 - 21s - loss: 9.3953e-04 - val_loss: 8.9233e-04\n",
            "Epoch 39/100\n",
            "6324/6324 - 21s - loss: 9.3847e-04 - val_loss: 8.9258e-04\n",
            "Epoch 40/100\n",
            "6324/6324 - 22s - loss: 9.3665e-04 - val_loss: 8.9322e-04\n",
            "Epoch 41/100\n",
            "6324/6324 - 22s - loss: 9.3601e-04 - val_loss: 8.8983e-04\n",
            "Epoch 42/100\n",
            "6324/6324 - 20s - loss: 9.3467e-04 - val_loss: 8.8597e-04\n",
            "Epoch 43/100\n",
            "6324/6324 - 22s - loss: 9.3407e-04 - val_loss: 8.8943e-04\n",
            "Epoch 44/100\n",
            "6324/6324 - 21s - loss: 9.3348e-04 - val_loss: 8.9017e-04\n",
            "Epoch 45/100\n",
            "6324/6324 - 22s - loss: 9.3257e-04 - val_loss: 8.8817e-04\n",
            "Epoch 46/100\n",
            "6324/6324 - 20s - loss: 9.3194e-04 - val_loss: 8.8904e-04\n",
            "Epoch 47/100\n",
            "6324/6324 - 21s - loss: 9.3079e-04 - val_loss: 8.8589e-04\n",
            "Epoch 48/100\n",
            "6324/6324 - 20s - loss: 9.3066e-04 - val_loss: 8.8657e-04\n",
            "Epoch 49/100\n",
            "6324/6324 - 21s - loss: 9.2984e-04 - val_loss: 8.8694e-04\n",
            "Epoch 50/100\n",
            "6324/6324 - 22s - loss: 9.2918e-04 - val_loss: 8.9015e-04\n",
            "Epoch 51/100\n",
            "6324/6324 - 20s - loss: 9.2820e-04 - val_loss: 8.8449e-04\n",
            "Epoch 52/100\n",
            "6324/6324 - 21s - loss: 9.2801e-04 - val_loss: 8.8529e-04\n",
            "Epoch 53/100\n",
            "6324/6324 - 21s - loss: 9.2734e-04 - val_loss: 8.8579e-04\n",
            "Epoch 54/100\n",
            "6324/6324 - 22s - loss: 9.2707e-04 - val_loss: 8.8595e-04\n",
            "Epoch 55/100\n",
            "6324/6324 - 20s - loss: 9.2641e-04 - val_loss: 8.8965e-04\n",
            "Epoch 56/100\n",
            "6324/6324 - 20s - loss: 9.2614e-04 - val_loss: 8.8795e-04\n",
            "Epoch 57/100\n",
            "6324/6324 - 22s - loss: 9.2560e-04 - val_loss: 8.8538e-04\n",
            "Epoch 58/100\n",
            "6324/6324 - 20s - loss: 9.2541e-04 - val_loss: 8.8615e-04\n",
            "Epoch 59/100\n",
            "6324/6324 - 22s - loss: 9.2490e-04 - val_loss: 8.8934e-04\n",
            "Epoch 60/100\n",
            "6324/6324 - 20s - loss: 9.2382e-04 - val_loss: 8.8349e-04\n",
            "Epoch 61/100\n",
            "6324/6324 - 21s - loss: 9.2379e-04 - val_loss: 8.8615e-04\n",
            "Epoch 62/100\n",
            "6324/6324 - 22s - loss: 9.2400e-04 - val_loss: 8.8654e-04\n",
            "Epoch 63/100\n",
            "6324/6324 - 21s - loss: 9.2297e-04 - val_loss: 8.8487e-04\n",
            "Epoch 64/100\n",
            "6324/6324 - 22s - loss: 9.2276e-04 - val_loss: 8.9015e-04\n",
            "Epoch 65/100\n",
            "6324/6324 - 21s - loss: 9.2219e-04 - val_loss: 8.8889e-04\n",
            "Epoch 66/100\n",
            "6324/6324 - 20s - loss: 9.2177e-04 - val_loss: 8.8876e-04\n",
            "Epoch 67/100\n",
            "6324/6324 - 22s - loss: 9.2150e-04 - val_loss: 8.8558e-04\n",
            "Epoch 68/100\n",
            "6324/6324 - 22s - loss: 9.2148e-04 - val_loss: 8.8842e-04\n",
            "Epoch 69/100\n",
            "6324/6324 - 22s - loss: 9.2069e-04 - val_loss: 8.8775e-04\n",
            "Epoch 70/100\n",
            "6324/6324 - 20s - loss: 9.2033e-04 - val_loss: 8.8705e-04\n",
            "training time2123.217435secs.\n"
          ],
          "name": "stdout"
        },
        {
          "output_type": "stream",
          "text": [
            "/usr/local/lib/python3.7/dist-packages/ipykernel_launcher.py:8: DeprecationWarning: time.clock has been deprecated in Python 3.3 and will be removed from Python 3.8: use time.perf_counter or time.process_time instead\n",
            "  \n"
          ],
          "name": "stderr"
        }
      ]
    },
    {
      "cell_type": "code",
      "metadata": {
        "colab": {
          "base_uri": "https://localhost:8080/",
          "height": 264
        },
        "id": "IwpwrxeVO-2h",
        "outputId": "7b3f9217-e528-4c02-8e26-1ba38242f623"
      },
      "source": [
        "#plot history\n",
        "from matplotlib import pyplot\n",
        "pyplot.plot(history.history['loss'], label='train-loss')\n",
        "pyplot.plot(history.history['val_loss'], label='validation-loss')\n",
        "pyplot.legend()\n",
        "pyplot.show()"
      ],
      "execution_count": null,
      "outputs": [
        {
          "output_type": "display_data",
          "data": {
            "image/png": "[encoded data removed]",
            "text/plain": [
              "<Figure size 432x288 with 1 Axes>"
            ]
          },
          "metadata": {
            "tags": [],
            "needs_background": "light"
          }
        }
      ]
    },
    {
      "cell_type": "markdown",
      "metadata": {
        "id": "HGaqcSYNYMZV"
      },
      "source": [
        "### Load testing data for model evaluation (Nepal case)"
      ]
    },
    {
      "cell_type": "code",
      "metadata": {
        "id": "H1Uerc3lleva"
      },
      "source": [
        "filename=\"/content/drive/My Drive/GIS/ls_sa_ndvi_testing_set_c.dat\"\n",
        "raster = gdal.Open(filename)\n",
        "rasterArray = raster.ReadAsArray()\n",
        "tb1 = rasterArray[0,0:rasterArray.shape[1],0:rasterArray.shape[2]]\n",
        "tb2 = rasterArray[1,0:rasterArray.shape[1],0:rasterArray.shape[2]]\n",
        "tb3 = rasterArray[2,0:rasterArray.shape[1],0:rasterArray.shape[2]]\n",
        "tb4 = rasterArray[3,0:rasterArray.shape[1],0:rasterArray.shape[2]]\n",
        "tb5 = rasterArray[4,0:rasterArray.shape[1],0:rasterArray.shape[2]]\n",
        "tb6 = rasterArray[5,0:rasterArray.shape[1],0:rasterArray.shape[2]]\n",
        "tb1_reshape=np.reshape(tb1,(tb1.shape[0]*tb1.shape[1],))\n",
        "tb3_reshape=np.reshape(tb3,(tb3.shape[0]*tb3.shape[1],))\n",
        "tb4_reshape=np.reshape(tb4,(tb4.shape[0]*tb4.shape[1],))\n",
        "tb5_reshape=np.reshape(tb5,(tb5.shape[0]*tb5.shape[1],))\n",
        "tb6_reshape=np.reshape(tb6,(tb6.shape[0]*tb6.shape[1]))\n",
        "tb2_reshape=np.reshape(tb2,(tb2.shape[0]*tb2.shape[1],))"
      ],
      "execution_count": null,
      "outputs": []
    },
    {
      "cell_type": "code",
      "metadata": {
        "id": "yJ5ixn_SnVNj"
      },
      "source": [
        "test_data=np.stack((tb1_reshape,tb3_reshape,tb5_reshape),axis=-1)\n",
        "target=tb2_reshape"
      ],
      "execution_count": null,
      "outputs": []
    },
    {
      "cell_type": "code",
      "metadata": {
        "colab": {
          "base_uri": "https://localhost:8080/",
          "height": 34
        },
        "id": "CGWH8tMkyyd4",
        "outputId": "e4d93975-7953-4e2f-91cd-7e89b8d40154"
      },
      "source": [
        "n_lag=2\n",
        "test_data.shape"
      ],
      "execution_count": null,
      "outputs": [
        {
          "output_type": "execute_result",
          "data": {
            "text/plain": [
              "(9548280, 3)"
            ]
          },
          "metadata": {
            "tags": []
          },
          "execution_count": 101
        }
      ]
    },
    {
      "cell_type": "code",
      "metadata": {
        "colab": {
          "base_uri": "https://localhost:8080/",
          "height": 34
        },
        "id": "BtfT21Ii4BOd",
        "outputId": "3b91f471-defd-4cf5-8a13-13869ed08a4d"
      },
      "source": [
        "target.shape"
      ],
      "execution_count": null,
      "outputs": [
        {
          "output_type": "execute_result",
          "data": {
            "text/plain": [
              "(9548280,)"
            ]
          },
          "metadata": {
            "tags": []
          },
          "execution_count": 102
        }
      ]
    },
    {
      "cell_type": "code",
      "metadata": {
        "id": "481W9P0NLlY1"
      },
      "source": [
        "test_reframed=series_to_supervised(test_data,n_lag,1)"
      ],
      "execution_count": null,
      "outputs": []
    },
    {
      "cell_type": "code",
      "metadata": {
        "colab": {
          "base_uri": "https://localhost:8080/",
          "height": 34
        },
        "id": "r_aWEM0E4Fhy",
        "outputId": "24d790df-30bf-4f54-ac35-d6c3184d7312"
      },
      "source": [
        "test_reframed.shape"
      ],
      "execution_count": null,
      "outputs": [
        {
          "output_type": "execute_result",
          "data": {
            "text/plain": [
              "(9548278, 9)"
            ]
          },
          "metadata": {
            "tags": []
          },
          "execution_count": 104
        }
      ]
    },
    {
      "cell_type": "code",
      "metadata": {
        "id": "H-gCm2sW0LuZ"
      },
      "source": [
        "test_values=test_reframed.values"
      ],
      "execution_count": null,
      "outputs": []
    },
    {
      "cell_type": "code",
      "metadata": {
        "colab": {
          "base_uri": "https://localhost:8080/",
          "height": 34
        },
        "id": "ugO85EJ3y7pU",
        "outputId": "992d4f2d-6f61-4c93-b2c7-a489f5e4e643"
      },
      "source": [
        "test_y=target[n_lag:]\n",
        "test_y.shape"
      ],
      "execution_count": null,
      "outputs": [
        {
          "output_type": "execute_result",
          "data": {
            "text/plain": [
              "(9548278,)"
            ]
          },
          "metadata": {
            "tags": []
          },
          "execution_count": 106
        }
      ]
    },
    {
      "cell_type": "code",
      "metadata": {
        "id": "ezXVOY3GNMzZ"
      },
      "source": [
        "test_X=test_reframed.values\n",
        "test_X = np.reshape(test_X, (test_X.shape[0], n_lag+1, n_feature))"
      ],
      "execution_count": null,
      "outputs": []
    },
    {
      "cell_type": "code",
      "metadata": {
        "colab": {
          "base_uri": "https://localhost:8080/",
          "height": 34
        },
        "id": "pzdjFus_9IoG",
        "outputId": "f3f0ac30-df87-412a-eec1-4f0a24d430b4"
      },
      "source": [
        "test_X.shape"
      ],
      "execution_count": null,
      "outputs": [
        {
          "output_type": "execute_result",
          "data": {
            "text/plain": [
              "(9548278, 3, 3)"
            ]
          },
          "metadata": {
            "tags": []
          },
          "execution_count": 108
        }
      ]
    },
    {
      "cell_type": "code",
      "metadata": {
        "colab": {
          "base_uri": "https://localhost:8080/",
          "height": 70
        },
        "id": "kWag_BoBnZRD",
        "outputId": "f2bcc83d-cd3f-455d-8a55-9b62813b9a47"
      },
      "source": [
        "#whole test data performance evaluations\n",
        "from sklearn.metrics import mean_squared_error\n",
        "from sklearn.metrics import mean_absolute_error\n",
        "from math import sqrt\n",
        "from sklearn.metrics import r2_score\n",
        "pred_y=model.predict(test_X)\n",
        "print(\"r2 score: %.6f\" %r2_score(test_y,pred_y))\n",
        "rmse = sqrt(mean_squared_error(test_y,pred_y))\n",
        "print('Test RMSE: %.3f' % rmse)\n",
        "# calculate MAE\n",
        "mae = mean_absolute_error(test_y,pred_y)\n",
        "print('Test MAE: %.3f' % mae)"
      ],
      "execution_count": null,
      "outputs": [
        {
          "output_type": "stream",
          "text": [
            "r2 score: 0.902372\n",
            "Test RMSE: 0.037\n",
            "Test MAE: 0.027\n"
          ],
          "name": "stdout"
        }
      ]
    },
    {
      "cell_type": "code",
      "metadata": {
        "id": "or_GVn3pguJX"
      },
      "source": [
        ""
      ],
      "execution_count": null,
      "outputs": []
    },
    {
      "cell_type": "code",
      "metadata": {
        "id": "UuPvzUP1g1MS"
      },
      "source": [
        "j=0\n",
        "case1_x=[]\n",
        "case1_y=[]\n",
        "case2_x=[]\n",
        "case2_y=[]\n",
        "case3_x=[]\n",
        "case3_y=[]\n",
        "case4_x=[]\n",
        "case4_y=[]\n",
        "case5_x=[]\n",
        "case5_y=[]\n",
        "case6_x=[]\n",
        "case6_y=[]\n",
        "case7_x=[]\n",
        "case7_y=[]\n",
        "case8_x=[]\n",
        "case8_y=[]\n",
        "case9_x=[]\n",
        "case9_y=[]\n",
        "for i in range(tb1.size):\n",
        "    if(tb1_reshape[i]<tb2_reshape[i]<tb3_reshape[i]):\n",
        "        case1_x.append([tb1_reshape[i],tb3_reshape[i],tb5_reshape[i]])\n",
        "        case1_y.append(tb2_reshape[i])\n",
        "    elif(tb1_reshape[i]<tb2_reshape[i]==tb3_reshape[i]):\n",
        "        case2_x.append([tb1_reshape[i],tb3_reshape[i],tb5_reshape[i]])\n",
        "        case2_y.append(tb2_reshape[i])\n",
        "    elif(tb1_reshape[i]<tb2_reshape[i]>tb3_reshape[i]):\n",
        "        case3_x.append([tb1_reshape[i],tb3_reshape[i],tb5_reshape[i]])\n",
        "        case3_y.append(tb2_reshape[i])\n",
        "    elif(tb1_reshape[i]==tb2_reshape[i]<tb3_reshape[i]):\n",
        "        case4_x.append([tb1_reshape[i],tb3_reshape[i],tb5_reshape[i]])\n",
        "        case4_y.append(tb2_reshape[i])\n",
        "    elif(tb1_reshape[i]==tb2_reshape[i]==tb3_reshape[i]):\n",
        "        case5_x.append([tb1_reshape[i],tb3_reshape[i],tb5_reshape[i]])\n",
        "        case5_y.append(tb2_reshape[i])\n",
        "    elif(tb1_reshape[i]==tb2_reshape[i]>tb3_reshape[i]):\n",
        "        case6_x.append([tb1_reshape[i],tb3_reshape[i],tb5_reshape[i]])\n",
        "        case6_y.append(tb2_reshape[i])\n",
        "    elif(tb1_reshape[i]>tb2_reshape[i]<tb3_reshape[i]):\n",
        "        case7_x.append([tb1_reshape[i],tb3_reshape[i],tb5_reshape[i]])\n",
        "        case7_y.append(tb2_reshape[i])\n",
        "    elif(tb1_reshape[i]>tb2_reshape[i]==tb3_reshape[i]):\n",
        "        case8_x.append([tb1_reshape[i],tb3_reshape[i],tb5_reshape[i]])\n",
        "        case8_y.append(tb2_reshape[i])\n",
        "    elif(tb1_reshape[i]>tb2_reshape[i]>tb3_reshape[i]):\n",
        "        case9_x.append([tb1_reshape[i],tb3_reshape[i],tb5_reshape[i]])\n",
        "        case9_y.append(tb2_reshape[i])"
      ],
      "execution_count": null,
      "outputs": []
    },
    {
      "cell_type": "code",
      "metadata": {
        "id": "Elcm6D17hNLn"
      },
      "source": [
        "from sklearn.metrics import mean_squared_error\n",
        "from sklearn.metrics import mean_absolute_error\n",
        "from math import sqrt\n",
        "from sklearn.metrics import r2_score\n",
        "def predict_case(x,y):\n",
        "    pred_y=model.predict(x)\n",
        "    print(\"r2 score %\",r2_score(y,pred_y))\n",
        "    rmse = sqrt(mean_squared_error(y,pred_y))\n",
        "    print('Test RMSE: %.3f' % rmse)\n",
        "    # calculate MAE\n",
        "    mae = mean_absolute_error(y,pred_y)\n",
        "    print('Test MAE: %.3f' % mae)\n",
        "    return(pred_y)"
      ],
      "execution_count": null,
      "outputs": []
    },
    {
      "cell_type": "code",
      "metadata": {
        "id": "wlj7H72oei8T"
      },
      "source": [
        "def prepare_case(case1_x,case1_y):\n",
        "  a=np.array(case1_x)\n",
        "  b=np.array(case1_y)\n",
        "  assert a.shape[0]==b.shape[0]\n",
        "  case1_x_data=series_to_supervised(a,n_lag,1)\n",
        "  y=b[n_lag:]\n",
        "  case1_x_data=case1_x_data.values\n",
        "  x = np.reshape(case1_x_data, (case1_x_data.shape[0], n_lag+1, n_feature))\n",
        "  return (x,y)"
      ],
      "execution_count": null,
      "outputs": []
    },
    {
      "cell_type": "code",
      "metadata": {
        "colab": {
          "base_uri": "https://localhost:8080/",
          "height": 70
        },
        "id": "HR3GdZjthtun",
        "outputId": "b8a4bbc3-f7a5-4bcd-907f-93be4a543262"
      },
      "source": [
        "x,y=prepare_case(case1_x,case1_y)\n",
        "y1=predict_case(x,y)"
      ],
      "execution_count": null,
      "outputs": [
        {
          "output_type": "stream",
          "text": [
            "r2 score % 0.8596690172710877\n",
            "Test RMSE: 0.036\n",
            "Test MAE: 0.027\n"
          ],
          "name": "stdout"
        }
      ]
    },
    {
      "cell_type": "code",
      "metadata": {
        "colab": {
          "base_uri": "https://localhost:8080/",
          "height": 70
        },
        "id": "lQ6TJwBNYC4C",
        "outputId": "985178eb-efba-4fc0-d9db-6e87b60f7582"
      },
      "source": [
        "x,y=prepare_case(case3_x,case3_y)\n",
        "y3=predict_case(x,y)"
      ],
      "execution_count": null,
      "outputs": [
        {
          "output_type": "stream",
          "text": [
            "r2 score % 0.8322454841536511\n",
            "Test RMSE: 0.068\n",
            "Test MAE: 0.046\n"
          ],
          "name": "stdout"
        }
      ]
    },
    {
      "cell_type": "code",
      "metadata": {
        "colab": {
          "base_uri": "https://localhost:8080/",
          "height": 123
        },
        "id": "tXazMrPXxF0z",
        "outputId": "0fe73425-0092-4f9f-a9c1-761d14aac685"
      },
      "source": [
        "x,y=prepare_case(case7_x,case7_y)\n",
        "y7=predict_case(x,y)\n",
        "x,y=prepare_case(case9_x,case9_y)\n",
        "y9=predict_case(x,y)"
      ],
      "execution_count": null,
      "outputs": [
        {
          "output_type": "stream",
          "text": [
            "r2 score % 0.882399247895487\n",
            "Test RMSE: 0.040\n",
            "Test MAE: 0.030\n",
            "r2 score % 0.9548146295429182\n",
            "Test RMSE: 0.042\n",
            "Test MAE: 0.031\n"
          ],
          "name": "stdout"
        }
      ]
    },
    {
      "cell_type": "markdown",
      "metadata": {
        "id": "EFE31W-BYMZZ"
      },
      "source": [
        "### Save the Trained Model for later uses"
      ]
    },
    {
      "cell_type": "code",
      "metadata": {
        "colab": {
          "base_uri": "https://localhost:8080/",
          "height": 34
        },
        "id": "O8_v01bqidc5",
        "outputId": "d7d837f6-7a2c-4d99-812c-8104c7c7afb8"
      },
      "source": [
        "# serialize model to JSON\n",
        "model_json = model.to_json()\n",
        "with open(\"LSTM-model-band4.json\", \"w\") as json_file:\n",
        "    json_file.write(model_json)\n",
        "# serialize weights to HDF5\n",
        "model.save_weights(\"LSTM-model-band4.h5\")\n",
        "print(\"Saved model to disk\")"
      ],
      "execution_count": null,
      "outputs": [
        {
          "output_type": "stream",
          "text": [
            "Saved model to disk\n"
          ],
          "name": "stdout"
        }
      ]
    },
    {
      "cell_type": "code",
      "metadata": {
        "id": "8e8UvXeLanvH"
      },
      "source": [
        ""
      ],
      "execution_count": null,
      "outputs": []
    }
  ]
}