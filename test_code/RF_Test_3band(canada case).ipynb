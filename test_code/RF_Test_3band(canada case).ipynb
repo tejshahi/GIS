{
 "cells": [
  {
   "cell_type": "markdown",
   "metadata": {},
   "source": [
    "### Import Necessary Packages"
   ]
  },
  {
   "cell_type": "code",
   "execution_count": null,
   "metadata": {},
   "outputs": [],
   "source": [
    "from osgeo import gdal_array\n",
    "from osgeo import gdal\n",
    "import numpy as np"
   ]
  },
  {
   "cell_type": "code",
   "execution_count": null,
   "metadata": {},
   "outputs": [],
   "source": [
    "# load pre_trained Model\n",
    "import joblib\n",
    "model=joblib.load('C:/Users/Dell/Desktop/CO-author/ModelFiles/rf_four_band.joblib')"
   ]
  },
  {
   "cell_type": "code",
   "execution_count": null,
   "metadata": {},
   "outputs": [],
   "source": [
    "# load test files\n",
    "filename=\"E:/GIS paper/training_testing_set/training_testing_set/test_dataset_canada.dat\"\n",
    "raster = gdal.Open(filename)\n",
    "rasterArray = raster.ReadAsArray()\n",
    "tb1 = rasterArray[0,0:rasterArray.shape[1]-1,0:rasterArray.shape[2]-1]\n",
    "tb2 = rasterArray[1,0:rasterArray.shape[1]-1,0:rasterArray.shape[2]-1]\n",
    "tb3 = rasterArray[2,0:rasterArray.shape[1]-1,0:rasterArray.shape[2]-1]\n",
    "tb4 = rasterArray[3,0:rasterArray.shape[1]-1,0:rasterArray.shape[2]-1]\n",
    "tb5 = rasterArray[4,0:rasterArray.shape[1]-1,0:rasterArray.shape[2]-1]\n",
    "tb6 = rasterArray[5,0:rasterArray.shape[1]-1,0:rasterArray.shape[2]-1]\n",
    "tb1_reshape=np.reshape(tb1,(tb1.shape[0]*tb1.shape[1],))\n",
    "tb3_reshape=np.reshape(tb3,(tb3.shape[0]*tb3.shape[1],))\n",
    "tb5_reshape=np.reshape(tb5,(tb5.shape[0]*tb5.shape[1],))\n",
    "tb2_reshape=np.reshape(tb2,(tb2.shape[0]*tb2.shape[1],))"
   ]
  },
  {
   "cell_type": "code",
   "execution_count": null,
   "metadata": {},
   "outputs": [],
   "source": [
    "#prepare test data tensor\n",
    "test_x=np.stack((tb1_reshape,tb3_reshape,tb5_reshape),axis=-1)\n",
    "test_y=tb2_reshape"
   ]
  },
  {
   "cell_type": "code",
   "execution_count": null,
   "metadata": {},
   "outputs": [],
   "source": [
    "# define evaluation function\n",
    "from sklearn.metrics import mean_squared_error\n",
    "from sklearn.metrics import mean_absolute_error\n",
    "from math import sqrt\n",
    "from sklearn.metrics import r2_score\n",
    "def predict_case(x,y):\n",
    "    x=np.array(x)\n",
    "    y=np.array(y)\n",
    "    #normalize_x=MinMaxScaler(feature_range=(0,1))\n",
    "    #x=normalize_x.fit_transform(x)\n",
    "    #x_tensor=x.reshape(x.shape[0],1,x.shape[1])\n",
    "    pred_y=model.predict(x)\n",
    "    print(\"r2 score %\",r2_score(y,pred_y))\n",
    "    rmse = sqrt(mean_squared_error(y,pred_y))\n",
    "    print('Test RMSE: %.3f' % rmse)\n",
    "    # calculate MAE\n",
    "    mae = mean_absolute_error(y,pred_y)\n",
    "    print('Test MAE: %.3f' % mae)\n",
    "    return(pred_y)"
   ]
  },
  {
   "cell_type": "code",
   "execution_count": null,
   "metadata": {},
   "outputs": [],
   "source": [
    "#find out the test metrices for whole dataset\n",
    "pred_y=predict_case(test_x,test_y)"
   ]
  },
  {
   "cell_type": "code",
   "execution_count": null,
   "metadata": {},
   "outputs": [],
   "source": [
    "# prepare individual cases\n",
    "    j=0\n",
    "    case1_x=[]\n",
    "    case1_y=[]\n",
    "    case2_x=[]\n",
    "    case2_y=[]\n",
    "    case3_x=[]\n",
    "    case3_y=[]\n",
    "    case4_x=[]\n",
    "    case4_y=[]\n",
    "    case5_x=[]\n",
    "    case5_y=[]\n",
    "    case6_x=[]\n",
    "    case6_y=[]\n",
    "    case7_x=[]\n",
    "    case7_y=[]\n",
    "    case8_x=[]\n",
    "    case8_y=[]\n",
    "    case9_x=[]\n",
    "    case9_y=[]\n",
    "    for i in range(tb1_reshape.size):\n",
    "        if(tb1_reshape[i]<tb2_reshape[i]<tb3_reshape[i]):\n",
    "            case1_x.append([tb1_reshape[i],tb3_reshape[i],tb5_reshape[i]])\n",
    "            case1_y.append(tb2_reshape[i])\n",
    "        elif(tb1_reshape[i]<tb2_reshape[i]==tb3_reshape[i]):\n",
    "            case2_x.append([tb1_reshape[i],tb3_reshape[i],tb5_reshape[i]])\n",
    "            case2_y.append(tb2_reshape[i])\n",
    "        elif(tb1_reshape[i]<tb2_reshape[i]>tb3_reshape[i]):\n",
    "            case3_x.append([tb1_reshape[i],tb3_reshape[i],tb5_reshape[i]])\n",
    "            case3_y.append(tb2_reshape[i])\n",
    "        elif(tb1_reshape[i]==tb2_reshape[i]<tb3_reshape[i]):\n",
    "            case4_x.append([tb1_reshape[i],tb3_reshape[i],tb5_reshape[i]])\n",
    "            case4_y.append(tb2_reshape[i])\n",
    "        elif(tb1_reshape[i]==tb2_reshape[i]==tb3_reshape[i]):\n",
    "            case5_x.append([tb1_reshape[i],tb3_reshape[i],tb5_reshape[i]])\n",
    "            case5_y.append(tb2_reshape[i])\n",
    "        elif(tb1_reshape[i]==tb2_reshape[i]>tb3_reshape[i]):\n",
    "            case6_x.append([tb1_reshape[i],tb3_reshape[i],tb5_reshape[i]])\n",
    "            case6_y.append(tb2_reshape[i])\n",
    "        elif(tb1_reshape[i]>tb2_reshape[i]<tb3_reshape[i]):\n",
    "            case7_x.append([tb1_reshape[i],tb3_reshape[i],tb5_reshape[i]])\n",
    "            case7_y.append(tb2_reshape[i])\n",
    "        elif(tb1_reshape[i]>tb2_reshape[i]==tb3_reshape[i]):\n",
    "            case8_x.append([tb1_reshape[i],tb3_reshape[i],tb5_reshape[i]])\n",
    "            case8_y.append(tb2_reshape[i])\n",
    "        elif(tb1_reshape[i]>tb2_reshape[i]>tb3_reshape[i]):\n",
    "            case9_x.append([tb1_reshape[i],tb3_reshape[i],tb5_reshape[i]])\n",
    "            case9_y.append(tb2_reshape[i])"
   ]
  },
  {
   "cell_type": "code",
   "execution_count": null,
   "metadata": {},
   "outputs": [],
   "source": [
    "#predict output for all cases\n",
    "y1=predict_case(case1_x,case1_y)\n",
    "y2=predict_case(case2_x,case2_y)\n",
    "y3=predict_case(case3_x,case3_y)\n",
    "y4=predict_case(case4_x,case4_y)\n",
    "## y5=predict_case(case5_x,case5_y) No test data\n",
    "y6=predict_case(case6_x,case6_y)\n",
    "y7=predict_case(case7_x,case7_y)\n",
    "y8=predict_case(case8_x,case8_y)\n",
    "y9=predict_case(case9_x,case9_y)"
   ]
  }
 ],
 "metadata": {
  "kernelspec": {
   "display_name": "Python 3",
   "language": "python",
   "name": "python3"
  },
  "language_info": {
   "codemirror_mode": {
    "name": "ipython",
    "version": 3
   },
   "file_extension": ".py",
   "mimetype": "text/x-python",
   "name": "python",
   "nbconvert_exporter": "python",
   "pygments_lexer": "ipython3",
   "version": "3.7.7"
  }
 },
 "nbformat": 4,
 "nbformat_minor": 4
}
