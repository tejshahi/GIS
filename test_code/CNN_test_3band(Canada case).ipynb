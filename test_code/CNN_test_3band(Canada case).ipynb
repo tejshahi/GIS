{
 "cells": [
  {
   "cell_type": "code",
   "execution_count": null,
   "metadata": {},
   "outputs": [],
   "source": [
    "# check CPU status\n",
    "%tensorflow_version 2.x\n",
    "import tensorflow as tf\n",
    "device_name = tf.test.gpu_device_name()\n",
    "if device_name != '/device:GPU:0':\n",
    "  raise SystemError('GPU device not found')\n",
    "print('Found GPU at: {}'.format(device_name))"
   ]
  },
  {
   "cell_type": "code",
   "execution_count": null,
   "metadata": {},
   "outputs": [],
   "source": [
    "# Import the necessary Library and Files\n",
    "from osgeo import gdal_array\n",
    "from osgeo import gdal\n",
    "import numpy as np\n",
    "from sklearn.metrics import mean_squared_error\n",
    "from sklearn.metrics import mean_absolute_error\n",
    "from math import sqrt\n",
    "from sklearn.metrics import r2_score"
   ]
  },
  {
   "cell_type": "code",
   "execution_count": null,
   "metadata": {},
   "outputs": [],
   "source": [
    "# load the test dataset\n",
    "filename=\"/content/drive/My Drive/GIS/test_dataset_canada.dat\"\n",
    "raster = gdal.Open(filename)\n",
    "rasterArray = raster.ReadAsArray()\n",
    "tb1 = rasterArray[0,0:rasterArray.shape[1],0:rasterArray.shape[2]]\n",
    "tb2 = rasterArray[1,0:rasterArray.shape[1],0:rasterArray.shape[2]]\n",
    "tb3 = rasterArray[2,0:rasterArray.shape[1],0:rasterArray.shape[2]]\n",
    "tb4 = rasterArray[3,0:rasterArray.shape[1],0:rasterArray.shape[2]]\n",
    "tb5 = rasterArray[4,0:rasterArray.shape[1],0:rasterArray.shape[2]]\n",
    "tb6 = rasterArray[5,0:rasterArray.shape[1],0:rasterArray.shape[2]]\n",
    "tb1_reshape=np.reshape(tb1,(tb1.shape[0]*tb1.shape[1],))\n",
    "tb3_reshape=np.reshape(tb3,(tb3.shape[0]*tb3.shape[1],))\n",
    "tb4_reshape=np.reshape(tb4,(tb4.shape[0]*tb4.shape[1],))\n",
    "tb5_reshape=np.reshape(tb5,(tb5.shape[0]*tb5.shape[1],))\n",
    "tb6_reshape=np.reshape(tb6,(tb6.shape[0]*tb6.shape[1]))\n",
    "tb2_reshape=np.reshape(tb2,(tb2.shape[0]*tb2.shape[1],))"
   ]
  },
  {
   "cell_type": "code",
   "execution_count": null,
   "metadata": {},
   "outputs": [],
   "source": [
    "tile_size=3\n",
    "test_x=np.stack((tb1_reshape,tb3_reshape,tb5_reshape),axis=-1)\n",
    "test_y=tb2_reshape\n",
    "list_small_tiles=[]\n",
    "list_small_tiles.clear()\n",
    "for i in range(test_x.shape[0]-tile_size):\n",
    "  list_small_tiles.append(test_x[i:i+tile_size])\n",
    "list_small_tiles.append(test_x[i:i+tile_size])\n",
    "list_small_tiles.append(test_x[i+1:i+tile_size+1])"
   ]
  },
  {
   "cell_type": "code",
   "execution_count": null,
   "metadata": {},
   "outputs": [],
   "source": [
    "test_x=np.array(list_small_tiles)\n",
    "test_x=np.reshape(test_x,(test_x.shape[0],tile_size,tile_size,1))\n",
    "test_y=test_y[:-tile_size+2]"
   ]
  },
  {
   "cell_type": "code",
   "execution_count": null,
   "metadata": {},
   "outputs": [],
   "source": [
    "#check for x and y shape\n",
    "print(test_x.shape)\n",
    "print(test_y.shape)"
   ]
  },
  {
   "cell_type": "code",
   "execution_count": null,
   "metadata": {},
   "outputs": [],
   "source": [
    "# load pre trained model\n",
    "from keras.models import load_model\n",
    "model=load_model('../trained_models/CNN-Train-four-band.h5')"
   ]
  },
  {
   "cell_type": "code",
   "execution_count": null,
   "metadata": {},
   "outputs": [],
   "source": [
    "#whole test data performance evaluations\n",
    "pred_y=model.predict(test_x)\n",
    "print(\"r2 score: %.6f\" %r2_score(test_y,pred_y))\n",
    "rmse = sqrt(mean_squared_error(test_y,pred_y))\n",
    "print('Test RMSE: %.3f' % rmse)\n",
    "# calculate MAE\n",
    "mae = mean_absolute_error(test_y,pred_y)\n",
    "print('Test MAE: %.3f' % mae)"
   ]
  },
  {
   "cell_type": "code",
   "execution_count": null,
   "metadata": {},
   "outputs": [],
   "source": [
    "# prepare individual cases\n",
    "j=0\n",
    "case1_x=[]\n",
    "case1_y=[]\n",
    "case2_x=[]\n",
    "case2_y=[]\n",
    "case3_x=[]\n",
    "case3_y=[]\n",
    "case4_x=[]\n",
    "case4_y=[]\n",
    "case5_x=[]\n",
    "case5_y=[]\n",
    "case6_x=[]\n",
    "case6_y=[]\n",
    "case7_x=[]\n",
    "case7_y=[]\n",
    "case8_x=[]\n",
    "case8_y=[]\n",
    "case9_x=[]\n",
    "case9_y=[]\n",
    "for i in range(tb1.size):\n",
    "    if(tb1_reshape[i]<tb2_reshape[i]<tb3_reshape[i]):\n",
    "        case1_x.append([tb1_reshape[i],tb3_reshape[i],tb5_reshape[i]])\n",
    "        case1_y.append(tb2_reshape[i])\n",
    "    elif(tb1_reshape[i]<tb2_reshape[i]==tb3_reshape[i]):\n",
    "        case2_x.append([tb1_reshape[i],tb3_reshape[i],tb5_reshape[i]])\n",
    "        case2_y.append(tb2_reshape[i])\n",
    "    elif(tb1_reshape[i]<tb2_reshape[i]>tb3_reshape[i]):\n",
    "        case3_x.append([tb1_reshape[i],tb3_reshape[i],tb5_reshape[i]])\n",
    "        case3_y.append(tb2_reshape[i])\n",
    "    elif(tb1_reshape[i]==tb2_reshape[i]<tb3_reshape[i]):\n",
    "        case4_x.append([tb1_reshape[i],tb3_reshape[i],tb5_reshape[i]])\n",
    "        case4_y.append(tb2_reshape[i])\n",
    "    elif(tb1_reshape[i]==tb2_reshape[i]==tb3_reshape[i]):\n",
    "        case5_x.append([tb1_reshape[i],tb3_reshape[i],tb5_reshape[i]])\n",
    "        case5_y.append(tb2_reshape[i])\n",
    "    elif(tb1_reshape[i]==tb2_reshape[i]>tb3_reshape[i]):\n",
    "        case6_x.append([tb1_reshape[i],tb3_reshape[i],tb5_reshape[i]])\n",
    "        case6_y.append(tb2_reshape[i])\n",
    "    elif(tb1_reshape[i]>tb2_reshape[i]<tb3_reshape[i]):\n",
    "        case7_x.append([tb1_reshape[i],tb3_reshape[i],tb5_reshape[i]])\n",
    "        case7_y.append(tb2_reshape[i])\n",
    "    elif(tb1_reshape[i]>tb2_reshape[i]==tb3_reshape[i]):\n",
    "        case8_x.append([tb1_reshape[i],tb3_reshape[i],tb5_reshape[i]])\n",
    "        case8_y.append(tb2_reshape[i])\n",
    "    elif(tb1_reshape[i]>tb2_reshape[i]>tb3_reshape[i]):\n",
    "        case9_x.append([tb1_reshape[i],tb3_reshape[i],tb5_reshape[i]])\n",
    "        case9_y.append(tb2_reshape[i])"
   ]
  },
  {
   "cell_type": "code",
   "execution_count": null,
   "metadata": {},
   "outputs": [],
   "source": [
    "def prepare_case(x,y):\n",
    "    x=np.array(x)\n",
    "    y=np.array(y)\n",
    "    small_tiles=[]\n",
    "    small_tiles.clear()\n",
    "    for i in range(x.shape[0]-tile_size):\n",
    "        small_tiles.append(x[i:i+tile_size])\n",
    "    small_tiles.append(x[i:i+tile_size])\n",
    "    small_tiles.append(x[i+1:i+tile_size+1])\n",
    "    test_x=np.array(small_tiles)\\\n",
    "    test_x=np.reshape(test_x,(test_x.shape[0],tile_size,tile_size,1))\n",
    "    test_y=y[:-tile_size+2]\n",
    "    return (test_x,test_y)"
   ]
  },
  {
   "cell_type": "code",
   "execution_count": null,
   "metadata": {},
   "outputs": [],
   "source": [
    "def predict_case(test_x,test_y):\n",
    "    pred_y=model.predict(test_x)\n",
    "    print(\"r2 score: %.6f\" %r2_score(test_y,pred_y))\n",
    "    rmse = sqrt(mean_squared_error(test_y,pred_y))\n",
    "    print('Test RMSE: %.3f' % rmse)\n",
    "    # calculate MAE\n",
    "    mae = mean_absolute_error(test_y,pred_y)\n",
    "    print('Test MAE: %.3f' % mae)\n",
    "    return pred_y"
   ]
  },
  {
   "cell_type": "code",
   "execution_count": null,
   "metadata": {},
   "outputs": [],
   "source": [
    "# predict output for indivdual cases\n",
    "x1,y1=prepare_case(case1_x,case1_y)\n",
    "y1_hat=predict_case(x1,y1)\n",
    "x3,y3=prepare_case(case3_x,case3_y)\n",
    "y3_hat=predict_case(x3,y3)\n",
    "x7,y7=prepare_case(case7_x,case7_y)\n",
    "y7_hat=predict_case(x7,y7)\n",
    "x9,y9=prepare_case(case9_x,case9_y)\n",
    "y9_hat=predict_case(x9,y9)"
   ]
  }
 ],
 "metadata": {
  "kernelspec": {
   "display_name": "Python 3",
   "language": "python",
   "name": "python3"
  },
  "language_info": {
   "codemirror_mode": {
    "name": "ipython",
    "version": 3
   },
   "file_extension": ".py",
   "mimetype": "text/x-python",
   "name": "python",
   "nbconvert_exporter": "python",
   "pygments_lexer": "ipython3",
   "version": "3.7.7"
  }
 },
 "nbformat": 4,
 "nbformat_minor": 4
}
