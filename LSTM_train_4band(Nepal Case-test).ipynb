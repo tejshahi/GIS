{
 "cells": [
  {
   "cell_type": "code",
   "execution_count": null,
   "metadata": {
    "colab": {
     "base_uri": "https://localhost:8080/",
     "height": 34
    },
    "id": "sXnDmXR7RDr2",
    "outputId": "064b1422-64e7-4d37-888e-bc06d4714168"
   },
   "outputs": [
    {
     "name": "stdout",
     "output_type": "stream",
     "text": [
      "Found GPU at: /device:GPU:0\n"
     ]
    }
   ],
   "source": [
    "%tensorflow_version 2.x\n",
    "import tensorflow as tf\n",
    "device_name = tf.test.gpu_device_name()\n",
    "if device_name != '/device:GPU:0':\n",
    "  raise SystemError('GPU device not found')\n",
    "print('Found GPU at: {}'.format(device_name))"
   ]
  },
  {
   "cell_type": "markdown",
   "metadata": {},
   "source": [
    "## Import Necessary packages and Read Training data"
   ]
  },
  {
   "cell_type": "code",
   "execution_count": null,
   "metadata": {
    "id": "EKEsYuPfX12b"
   },
   "outputs": [],
   "source": [
    "from osgeo import gdal_array\n",
    "from osgeo import gdal\n",
    "import numpy as np\n",
    "filepath= \"/content/drive/My Drive/GIS/ls_sa_ndvi_training_set_c.dat\"\n",
    "raster = gdal.Open(filepath)\n",
    "rasterArray = raster.ReadAsArray()\n",
    "b1 = rasterArray[0,0:rasterArray.shape[1],0:rasterArray.shape[2]]\n",
    "b2 = rasterArray[1,0:rasterArray.shape[1],0:rasterArray.shape[2]]\n",
    "b3 = rasterArray[2,0:rasterArray.shape[1],0:rasterArray.shape[2]]\n",
    "b4 = rasterArray[3,0:rasterArray.shape[1],0:rasterArray.shape[2]]\n",
    "b5 = rasterArray[4,0:rasterArray.shape[1],0:rasterArray.shape[2]]\n",
    "b6 = rasterArray[5,0:rasterArray.shape[1],0:rasterArray.shape[2]]"
   ]
  },
  {
   "cell_type": "code",
   "execution_count": null,
   "metadata": {
    "colab": {
     "base_uri": "https://localhost:8080/",
     "height": 34
    },
    "id": "2dkQfAsxYFho",
    "outputId": "ec4f2567-f81f-4e19-c7e8-b151b8ff8a1b"
   },
   "outputs": [
    {
     "data": {
      "text/plain": [
       "(6, 2661, 3395)"
      ]
     },
     "execution_count": 49,
     "metadata": {
      "tags": []
     },
     "output_type": "execute_result"
    }
   ],
   "source": [
    "rasterArray.shape"
   ]
  },
  {
   "cell_type": "code",
   "execution_count": null,
   "metadata": {
    "id": "o-KE1-mHX3Zt"
   },
   "outputs": [],
   "source": [
    "b11=np.reshape(b1,(b1.shape[0]*b1.shape[1],))\n",
    "b22=np.reshape(b2,(b2.shape[0]*b2.shape[1],))\n",
    "b33=np.reshape(b3,(b3.shape[0]*b3.shape[1],))\n",
    "b44=np.reshape(b4,(b4.shape[0]*b4.shape[1],))\n",
    "b55=np.reshape(b5,(b5.shape[0]*b5.shape[1],))\n",
    "b66=np.reshape(b6,(b6.shape[0]*b6.shape[1],))"
   ]
  },
  {
   "cell_type": "code",
   "execution_count": null,
   "metadata": {
    "id": "ezbrdDWkYwOQ"
   },
   "outputs": [],
   "source": [
    "data=np.stack((b11,b33,b55),axis=-1)\n",
    "target=b22"
   ]
  },
  {
   "cell_type": "markdown",
   "metadata": {},
   "source": [
    "## Convert data into supervised learning shape"
   ]
  },
  {
   "cell_type": "code",
   "execution_count": null,
   "metadata": {
    "id": "IiccB7qvY_jK"
   },
   "outputs": [],
   "source": [
    "from pandas import DataFrame\n",
    "from pandas import concat\n",
    "import pandas as pd"
   ]
  },
  {
   "cell_type": "code",
   "execution_count": null,
   "metadata": {
    "id": "cUkO02AlZCyK"
   },
   "outputs": [],
   "source": [
    "def series_to_supervised(data, n_in=1, n_out=1, dropnan=True):\n",
    "\tn_vars = 1 if type(data) is list else data.shape[1]\n",
    "\tdf = DataFrame(data)\n",
    "\tcols, names = list(), list()\n",
    "\t# input sequence (t-n, ... t-1)\n",
    "\tfor i in range(n_in, 0, -1):\n",
    "\t\tcols.append(df.shift(i))\n",
    "\t\tnames += [('var%d(t-%d)' % (j+1, i)) for j in range(n_vars)]\n",
    "\t# forecast sequence (t, t+1, ... t+n)\n",
    "\tfor i in range(0, n_out):\n",
    "\t\tcols.append(df.shift(-i))\n",
    "\t\tif i == 0:\n",
    "\t\t\tnames += [('var%d(t)' % (j+1)) for j in range(n_vars)]\n",
    "\t\telse:\n",
    "\t\t\tnames += [('var%d(t+%d)' % (j+1, i)) for j in range(n_vars)]\n",
    "\t# put it all together\n",
    "\tagg = concat(cols, axis=1)\n",
    "\tagg.columns = names\n",
    "\t# drop rows with NaN values\n",
    "\tif dropnan:\n",
    "\t\tagg.dropna(inplace=True)\n",
    "\treturn agg"
   ]
  },
  {
   "cell_type": "code",
   "execution_count": null,
   "metadata": {
    "id": "AFkI12Ecdaiu"
   },
   "outputs": [],
   "source": [
    "n_lag=2\n",
    "n_feature=3"
   ]
  },
  {
   "cell_type": "code",
   "execution_count": null,
   "metadata": {
    "id": "oEsDY3nsB0Ba"
   },
   "outputs": [],
   "source": [
    "reframed=series_to_supervised(data,n_lag,1)"
   ]
  },
  {
   "cell_type": "code",
   "execution_count": null,
   "metadata": {
    "colab": {
     "base_uri": "https://localhost:8080/",
     "height": 34
    },
    "id": "0xRsYtglCOXR",
    "outputId": "14085928-4c2b-48c0-dca8-1911cfd612ae"
   },
   "outputs": [
    {
     "data": {
      "text/plain": [
       "(9034093, 9)"
      ]
     },
     "execution_count": 56,
     "metadata": {
      "tags": []
     },
     "output_type": "execute_result"
    }
   ],
   "source": [
    "reframed.shape"
   ]
  },
  {
   "cell_type": "code",
   "execution_count": null,
   "metadata": {
    "id": "sVVTOB4qfSWn"
   },
   "outputs": [],
   "source": [
    "target_y=target[n_lag:]"
   ]
  },
  {
   "cell_type": "code",
   "execution_count": null,
   "metadata": {
    "id": "DkFCPOnbfo52"
   },
   "outputs": [],
   "source": [
    "target_y=target_y.reshape(-1,1)"
   ]
  },
  {
   "cell_type": "code",
   "execution_count": null,
   "metadata": {
    "id": "E1NdQr2CC2rJ"
   },
   "outputs": [],
   "source": [
    "values = reframed.values"
   ]
  },
  {
   "cell_type": "code",
   "execution_count": null,
   "metadata": {
    "colab": {
     "base_uri": "https://localhost:8080/",
     "height": 34
    },
    "id": "OfpkbkS_jAZo",
    "outputId": "3cab89b2-2d7e-4bb4-a61b-277894664794"
   },
   "outputs": [
    {
     "data": {
      "text/plain": [
       "(9034093, 9)"
      ]
     },
     "execution_count": 60,
     "metadata": {
      "tags": []
     },
     "output_type": "execute_result"
    }
   ],
   "source": [
    "values.shape"
   ]
  },
  {
   "cell_type": "code",
   "execution_count": null,
   "metadata": {
    "id": "szQ8Vnq0C_Oa"
   },
   "outputs": [],
   "source": [
    "n_train = int(values.shape[0] * 0.7)\n",
    "train_X,train_y = values[:n_train, :],target_y[:n_train]\n",
    "test_X, test_y = values[n_train:, :], target_y[n_train:]"
   ]
  },
  {
   "cell_type": "code",
   "execution_count": null,
   "metadata": {
    "id": "KdwBmNKLhagZ"
   },
   "outputs": [],
   "source": [
    "assert (test_y.size + train_y.size) ==target_y.size"
   ]
  },
  {
   "cell_type": "code",
   "execution_count": null,
   "metadata": {
    "id": "z0sGG6nVHdRE"
   },
   "outputs": [],
   "source": [
    "# reshape input to be 3D [samples, timesteps, features]\n",
    "train_X = np.reshape(train_X, (train_X.shape[0], n_lag+1, n_feature))\n",
    "test_X = np.reshape(test_X, (test_X.shape[0], n_lag+1, n_feature))"
   ]
  },
  {
   "cell_type": "markdown",
   "metadata": {},
   "source": [
    "## Design LSTM Network"
   ]
  },
  {
   "cell_type": "code",
   "execution_count": null,
   "metadata": {
    "colab": {
     "base_uri": "https://localhost:8080/",
     "height": 230
    },
    "id": "tddd3tgTZF8z",
    "outputId": "644e53cb-4544-411e-c570-bad18d7f5481"
   },
   "outputs": [],
   "source": [
    "from keras.models import Sequential\n",
    "from keras.layers import Dense\n",
    "from keras.layers import LSTM, Dropout\n",
    "from keras.callbacks import EarlyStopping\n",
    "model = Sequential()\n",
    "model.add(LSTM(30, input_shape=(train_X.shape[1], train_X.shape[2])))\n",
    "model.Dropout(0.2)\n",
    "model.add(Dense(1))\n",
    "model.compile(loss='mse', optimizer='adam')\n",
    "model.summary()"
   ]
  },
  {
   "cell_type": "code",
   "execution_count": null,
   "metadata": {
    "colab": {
     "base_uri": "https://localhost:8080/",
     "height": 923
    },
    "id": "TteUR8DMA_MH",
    "outputId": "ec4e21c2-afda-4a35-9987-8e7233f66ce9"
   },
   "outputs": [
    {
     "name": "stdout",
     "output_type": "stream",
     "text": [
      "Train on 6323865 samples, validate on 2710228 samples\n",
      "Epoch 1/100\n",
      " - 85s - loss: 0.0016 - val_loss: 0.0010\n",
      "Epoch 2/100\n",
      " - 85s - loss: 0.0011 - val_loss: 0.0010\n",
      "Epoch 3/100\n",
      " - 85s - loss: 0.0010 - val_loss: 0.0010\n",
      "Epoch 4/100\n",
      " - 85s - loss: 0.0010 - val_loss: 0.0010\n",
      "Epoch 5/100\n",
      " - 85s - loss: 0.0010 - val_loss: 0.0010\n",
      "Epoch 6/100\n",
      " - 85s - loss: 0.0010 - val_loss: 0.0010\n",
      "Epoch 7/100\n",
      " - 85s - loss: 0.0010 - val_loss: 9.9513e-04\n",
      "Epoch 8/100\n",
      " - 86s - loss: 9.9462e-04 - val_loss: 9.8714e-04\n",
      "Epoch 9/100\n",
      " - 85s - loss: 9.8638e-04 - val_loss: 9.7375e-04\n",
      "Epoch 10/100\n",
      " - 85s - loss: 9.7501e-04 - val_loss: 9.5448e-04\n",
      "Epoch 11/100\n",
      " - 85s - loss: 9.5088e-04 - val_loss: 9.3856e-04\n",
      "Epoch 12/100\n",
      " - 84s - loss: 9.2062e-04 - val_loss: 9.2636e-04\n",
      "Epoch 13/100\n",
      " - 84s - loss: 9.1077e-04 - val_loss: 9.2049e-04\n",
      "Epoch 14/100\n",
      " - 85s - loss: 9.0493e-04 - val_loss: 9.1798e-04\n",
      "Epoch 15/100\n",
      " - 85s - loss: 9.0048e-04 - val_loss: 9.1769e-04\n",
      "Epoch 16/100\n",
      " - 86s - loss: 8.9684e-04 - val_loss: 9.1832e-04\n",
      "Epoch 17/100\n",
      " - 86s - loss: 8.9383e-04 - val_loss: 9.1925e-04\n",
      "Epoch 18/100\n",
      " - 86s - loss: 8.9122e-04 - val_loss: 9.1992e-04\n",
      "Epoch 19/100\n",
      " - 85s - loss: 8.8890e-04 - val_loss: 9.2031e-04\n",
      "Epoch 20/100\n",
      " - 85s - loss: 8.8675e-04 - val_loss: 9.2055e-04\n",
      "Epoch 21/100\n",
      " - 85s - loss: 8.8467e-04 - val_loss: 9.2067e-04\n",
      "Epoch 22/100\n",
      " - 85s - loss: 8.8255e-04 - val_loss: 9.2060e-04\n",
      "Epoch 23/100\n",
      " - 85s - loss: 8.8030e-04 - val_loss: 9.2026e-04\n",
      "Epoch 24/100\n",
      " - 86s - loss: 8.7787e-04 - val_loss: 9.1939e-04\n",
      "Epoch 25/100\n",
      " - 86s - loss: 8.7522e-04 - val_loss: 9.1792e-04\n"
     ]
    }
   ],
   "source": [
    "from keras.callbacks import EarlyStopping\n",
    "# fit network\n",
    "#history = model.fit(train_X, train_y, epochs=50, batch_size=1000, validation_data=(test_X, test_y), verbose=2, shuffle=False)\n",
    "history = model.fit(train_X, train_y, epochs=100, batch_size=1000, validation_data=(test_X, test_y),callbacks=[EarlyStopping(monitor='val_loss', patience=10)], verbose=2, shuffle=False)"
   ]
  },
  {
   "cell_type": "code",
   "execution_count": null,
   "metadata": {
    "colab": {
     "base_uri": "https://localhost:8080/",
     "height": 264
    },
    "id": "IwpwrxeVO-2h",
    "outputId": "7b3f9217-e528-4c02-8e26-1ba38242f623"
   },
   "outputs": [
    {
     "data": {
      "image/png": "[encoded data removed]",
      "text/plain": [
       "<Figure size 432x288 with 1 Axes>"
      ]
     },
     "metadata": {
      "needs_background": "light",
      "tags": []
     },
     "output_type": "display_data"
    }
   ],
   "source": [
    "#plot history\n",
    "from matplotlib import pyplot\n",
    "pyplot.plot(history.history['loss'], label='train-loss')\n",
    "pyplot.plot(history.history['val_loss'], label='validation-loss')\n",
    "pyplot.legend()\n",
    "pyplot.show()"
   ]
  },
  {
   "cell_type": "markdown",
   "metadata": {},
   "source": [
    "### Load testing data for model evaluation (Nepal case)"
   ]
  },
  {
   "cell_type": "code",
   "execution_count": null,
   "metadata": {
    "id": "H1Uerc3lleva"
   },
   "outputs": [],
   "source": [
    "filename=\"/content/drive/My Drive/GIS/ls_sa_ndvi_testing_set_c.dat\"\n",
    "raster = gdal.Open(filename)\n",
    "rasterArray = raster.ReadAsArray()\n",
    "tb1 = rasterArray[0,0:rasterArray.shape[1],0:rasterArray.shape[2]]\n",
    "tb2 = rasterArray[1,0:rasterArray.shape[1],0:rasterArray.shape[2]]\n",
    "tb3 = rasterArray[2,0:rasterArray.shape[1],0:rasterArray.shape[2]]\n",
    "tb4 = rasterArray[3,0:rasterArray.shape[1],0:rasterArray.shape[2]]\n",
    "tb5 = rasterArray[4,0:rasterArray.shape[1],0:rasterArray.shape[2]]\n",
    "tb6 = rasterArray[5,0:rasterArray.shape[1],0:rasterArray.shape[2]]\n",
    "tb1_reshape=np.reshape(tb1,(tb1.shape[0]*tb1.shape[1],))\n",
    "tb3_reshape=np.reshape(tb3,(tb3.shape[0]*tb3.shape[1],))\n",
    "tb4_reshape=np.reshape(tb4,(tb4.shape[0]*tb4.shape[1],))\n",
    "tb5_reshape=np.reshape(tb5,(tb5.shape[0]*tb5.shape[1],))\n",
    "tb6_reshape=np.reshape(tb6,(tb6.shape[0]*tb6.shape[1]))\n",
    "tb2_reshape=np.reshape(tb2,(tb2.shape[0]*tb2.shape[1],))"
   ]
  },
  {
   "cell_type": "code",
   "execution_count": null,
   "metadata": {
    "id": "yJ5ixn_SnVNj"
   },
   "outputs": [],
   "source": [
    "test_data=np.stack((tb1_reshape,tb3_reshape,tb5_reshape),axis=-1)\n",
    "target=tb2_reshape"
   ]
  },
  {
   "cell_type": "code",
   "execution_count": null,
   "metadata": {
    "colab": {
     "base_uri": "https://localhost:8080/",
     "height": 34
    },
    "id": "CGWH8tMkyyd4",
    "outputId": "e4d93975-7953-4e2f-91cd-7e89b8d40154"
   },
   "outputs": [
    {
     "data": {
      "text/plain": [
       "(9548280, 3)"
      ]
     },
     "execution_count": 101,
     "metadata": {
      "tags": []
     },
     "output_type": "execute_result"
    }
   ],
   "source": [
    "n_lag=2\n",
    "test_data.shape"
   ]
  },
  {
   "cell_type": "code",
   "execution_count": null,
   "metadata": {
    "colab": {
     "base_uri": "https://localhost:8080/",
     "height": 34
    },
    "id": "BtfT21Ii4BOd",
    "outputId": "3b91f471-defd-4cf5-8a13-13869ed08a4d"
   },
   "outputs": [
    {
     "data": {
      "text/plain": [
       "(9548280,)"
      ]
     },
     "execution_count": 102,
     "metadata": {
      "tags": []
     },
     "output_type": "execute_result"
    }
   ],
   "source": [
    "target.shape"
   ]
  },
  {
   "cell_type": "code",
   "execution_count": null,
   "metadata": {
    "id": "481W9P0NLlY1"
   },
   "outputs": [],
   "source": [
    "test_reframed=series_to_supervised(test_data,n_lag,1)"
   ]
  },
  {
   "cell_type": "code",
   "execution_count": null,
   "metadata": {
    "colab": {
     "base_uri": "https://localhost:8080/",
     "height": 34
    },
    "id": "r_aWEM0E4Fhy",
    "outputId": "24d790df-30bf-4f54-ac35-d6c3184d7312"
   },
   "outputs": [
    {
     "data": {
      "text/plain": [
       "(9548278, 9)"
      ]
     },
     "execution_count": 104,
     "metadata": {
      "tags": []
     },
     "output_type": "execute_result"
    }
   ],
   "source": [
    "test_reframed.shape"
   ]
  },
  {
   "cell_type": "code",
   "execution_count": null,
   "metadata": {
    "id": "H-gCm2sW0LuZ"
   },
   "outputs": [],
   "source": [
    "test_values=test_reframed.values"
   ]
  },
  {
   "cell_type": "code",
   "execution_count": null,
   "metadata": {
    "colab": {
     "base_uri": "https://localhost:8080/",
     "height": 34
    },
    "id": "ugO85EJ3y7pU",
    "outputId": "992d4f2d-6f61-4c93-b2c7-a489f5e4e643"
   },
   "outputs": [
    {
     "data": {
      "text/plain": [
       "(9548278,)"
      ]
     },
     "execution_count": 106,
     "metadata": {
      "tags": []
     },
     "output_type": "execute_result"
    }
   ],
   "source": [
    "test_y=target[n_lag:]\n",
    "test_y.shape"
   ]
  },
  {
   "cell_type": "code",
   "execution_count": null,
   "metadata": {
    "id": "ezXVOY3GNMzZ"
   },
   "outputs": [],
   "source": [
    "test_X=test_reframed.values\n",
    "test_X = np.reshape(test_X, (test_X.shape[0], n_lag+1, n_feature))"
   ]
  },
  {
   "cell_type": "code",
   "execution_count": null,
   "metadata": {
    "colab": {
     "base_uri": "https://localhost:8080/",
     "height": 34
    },
    "id": "pzdjFus_9IoG",
    "outputId": "f3f0ac30-df87-412a-eec1-4f0a24d430b4"
   },
   "outputs": [
    {
     "data": {
      "text/plain": [
       "(9548278, 3, 3)"
      ]
     },
     "execution_count": 108,
     "metadata": {
      "tags": []
     },
     "output_type": "execute_result"
    }
   ],
   "source": [
    "test_X.shape"
   ]
  },
  {
   "cell_type": "code",
   "execution_count": null,
   "metadata": {
    "colab": {
     "base_uri": "https://localhost:8080/",
     "height": 70
    },
    "id": "kWag_BoBnZRD",
    "outputId": "f2bcc83d-cd3f-455d-8a55-9b62813b9a47"
   },
   "outputs": [
    {
     "name": "stdout",
     "output_type": "stream",
     "text": [
      "r2 score: 0.902372\n",
      "Test RMSE: 0.037\n",
      "Test MAE: 0.027\n"
     ]
    }
   ],
   "source": [
    "#whole test data performance evaluations\n",
    "from sklearn.metrics import mean_squared_error\n",
    "from sklearn.metrics import mean_absolute_error\n",
    "from math import sqrt\n",
    "from sklearn.metrics import r2_score\n",
    "pred_y=model.predict(test_X)\n",
    "print(\"r2 score: %.6f\" %r2_score(test_y,pred_y))\n",
    "rmse = sqrt(mean_squared_error(test_y,pred_y))\n",
    "print('Test RMSE: %.3f' % rmse)\n",
    "# calculate MAE\n",
    "mae = mean_absolute_error(test_y,pred_y)\n",
    "print('Test MAE: %.3f' % mae)"
   ]
  },
  {
   "cell_type": "code",
   "execution_count": null,
   "metadata": {
    "id": "or_GVn3pguJX"
   },
   "outputs": [],
   "source": []
  },
  {
   "cell_type": "code",
   "execution_count": null,
   "metadata": {
    "id": "UuPvzUP1g1MS"
   },
   "outputs": [],
   "source": [
    "j=0\n",
    "case1_x=[]\n",
    "case1_y=[]\n",
    "case2_x=[]\n",
    "case2_y=[]\n",
    "case3_x=[]\n",
    "case3_y=[]\n",
    "case4_x=[]\n",
    "case4_y=[]\n",
    "case5_x=[]\n",
    "case5_y=[]\n",
    "case6_x=[]\n",
    "case6_y=[]\n",
    "case7_x=[]\n",
    "case7_y=[]\n",
    "case8_x=[]\n",
    "case8_y=[]\n",
    "case9_x=[]\n",
    "case9_y=[]\n",
    "for i in range(tb1.size):\n",
    "    if(tb1_reshape[i]<tb2_reshape[i]<tb3_reshape[i]):\n",
    "        case1_x.append([tb1_reshape[i],tb3_reshape[i],tb5_reshape[i]])\n",
    "        case1_y.append(tb2_reshape[i])\n",
    "    elif(tb1_reshape[i]<tb2_reshape[i]==tb3_reshape[i]):\n",
    "        case2_x.append([tb1_reshape[i],tb3_reshape[i],tb5_reshape[i]])\n",
    "        case2_y.append(tb2_reshape[i])\n",
    "    elif(tb1_reshape[i]<tb2_reshape[i]>tb3_reshape[i]):\n",
    "        case3_x.append([tb1_reshape[i],tb3_reshape[i],tb5_reshape[i]])\n",
    "        case3_y.append(tb2_reshape[i])\n",
    "    elif(tb1_reshape[i]==tb2_reshape[i]<tb3_reshape[i]):\n",
    "        case4_x.append([tb1_reshape[i],tb3_reshape[i],tb5_reshape[i]])\n",
    "        case4_y.append(tb2_reshape[i])\n",
    "    elif(tb1_reshape[i]==tb2_reshape[i]==tb3_reshape[i]):\n",
    "        case5_x.append([tb1_reshape[i],tb3_reshape[i],tb5_reshape[i]])\n",
    "        case5_y.append(tb2_reshape[i])\n",
    "    elif(tb1_reshape[i]==tb2_reshape[i]>tb3_reshape[i]):\n",
    "        case6_x.append([tb1_reshape[i],tb3_reshape[i],tb5_reshape[i]])\n",
    "        case6_y.append(tb2_reshape[i])\n",
    "    elif(tb1_reshape[i]>tb2_reshape[i]<tb3_reshape[i]):\n",
    "        case7_x.append([tb1_reshape[i],tb3_reshape[i],tb5_reshape[i]])\n",
    "        case7_y.append(tb2_reshape[i])\n",
    "    elif(tb1_reshape[i]>tb2_reshape[i]==tb3_reshape[i]):\n",
    "        case8_x.append([tb1_reshape[i],tb3_reshape[i],tb5_reshape[i]])\n",
    "        case8_y.append(tb2_reshape[i])\n",
    "    elif(tb1_reshape[i]>tb2_reshape[i]>tb3_reshape[i]):\n",
    "        case9_x.append([tb1_reshape[i],tb3_reshape[i],tb5_reshape[i]])\n",
    "        case9_y.append(tb2_reshape[i])"
   ]
  },
  {
   "cell_type": "code",
   "execution_count": null,
   "metadata": {
    "id": "Elcm6D17hNLn"
   },
   "outputs": [],
   "source": [
    "from sklearn.metrics import mean_squared_error\n",
    "from sklearn.metrics import mean_absolute_error\n",
    "from math import sqrt\n",
    "from sklearn.metrics import r2_score\n",
    "def predict_case(x,y):\n",
    "    pred_y=model.predict(x)\n",
    "    print(\"r2 score %\",r2_score(y,pred_y))\n",
    "    rmse = sqrt(mean_squared_error(y,pred_y))\n",
    "    print('Test RMSE: %.3f' % rmse)\n",
    "    # calculate MAE\n",
    "    mae = mean_absolute_error(y,pred_y)\n",
    "    print('Test MAE: %.3f' % mae)\n",
    "    return(pred_y)"
   ]
  },
  {
   "cell_type": "code",
   "execution_count": null,
   "metadata": {
    "id": "wlj7H72oei8T"
   },
   "outputs": [],
   "source": [
    "def prepare_case(case1_x,case1_y):\n",
    "  a=np.array(case1_x)\n",
    "  b=np.array(case1_y)\n",
    "  assert a.shape[0]==b.shape[0]\n",
    "  case1_x_data=series_to_supervised(a,n_lag,1)\n",
    "  y=b[n_lag:]\n",
    "  case1_x_data=case1_x_data.values\n",
    "  x = np.reshape(case1_x_data, (case1_x_data.shape[0], n_lag+1, n_feature))\n",
    "  return (x,y)"
   ]
  },
  {
   "cell_type": "code",
   "execution_count": null,
   "metadata": {
    "colab": {
     "base_uri": "https://localhost:8080/",
     "height": 70
    },
    "id": "HR3GdZjthtun",
    "outputId": "b8a4bbc3-f7a5-4bcd-907f-93be4a543262"
   },
   "outputs": [
    {
     "name": "stdout",
     "output_type": "stream",
     "text": [
      "r2 score % 0.8596690172710877\n",
      "Test RMSE: 0.036\n",
      "Test MAE: 0.027\n"
     ]
    }
   ],
   "source": [
    "x,y=prepare_case(case1_x,case1_y)\n",
    "y1=predict_case(x,y)"
   ]
  },
  {
   "cell_type": "code",
   "execution_count": null,
   "metadata": {
    "colab": {
     "base_uri": "https://localhost:8080/",
     "height": 70
    },
    "id": "lQ6TJwBNYC4C",
    "outputId": "985178eb-efba-4fc0-d9db-6e87b60f7582"
   },
   "outputs": [
    {
     "name": "stdout",
     "output_type": "stream",
     "text": [
      "r2 score % 0.8322454841536511\n",
      "Test RMSE: 0.068\n",
      "Test MAE: 0.046\n"
     ]
    }
   ],
   "source": [
    "x,y=prepare_case(case3_x,case3_y)\n",
    "y3=predict_case(x,y)"
   ]
  },
  {
   "cell_type": "code",
   "execution_count": null,
   "metadata": {
    "colab": {
     "base_uri": "https://localhost:8080/",
     "height": 123
    },
    "id": "tXazMrPXxF0z",
    "outputId": "0fe73425-0092-4f9f-a9c1-761d14aac685"
   },
   "outputs": [
    {
     "name": "stdout",
     "output_type": "stream",
     "text": [
      "r2 score % 0.882399247895487\n",
      "Test RMSE: 0.040\n",
      "Test MAE: 0.030\n",
      "r2 score % 0.9548146295429182\n",
      "Test RMSE: 0.042\n",
      "Test MAE: 0.031\n"
     ]
    }
   ],
   "source": [
    "x,y=prepare_case(case7_x,case7_y)\n",
    "y7=predict_case(x,y)\n",
    "x,y=prepare_case(case9_x,case9_y)\n",
    "y9=predict_case(x,y)"
   ]
  },
  {
   "cell_type": "markdown",
   "metadata": {},
   "source": [
    "### Save the Trained Model for later uses"
   ]
  },
  {
   "cell_type": "code",
   "execution_count": null,
   "metadata": {
    "colab": {
     "base_uri": "https://localhost:8080/",
     "height": 34
    },
    "id": "O8_v01bqidc5",
    "outputId": "d7d837f6-7a2c-4d99-812c-8104c7c7afb8"
   },
   "outputs": [
    {
     "name": "stdout",
     "output_type": "stream",
     "text": [
      "Saved model to disk\n"
     ]
    }
   ],
   "source": [
    "# serialize model to JSON\n",
    "model_json = model.to_json()\n",
    "with open(\"LSTM-model-band4.json\", \"w\") as json_file:\n",
    "    json_file.write(model_json)\n",
    "# serialize weights to HDF5\n",
    "model.save_weights(\"LSTM-model-band4.h5\")\n",
    "print(\"Saved model to disk\")"
   ]
  },
  {
   "cell_type": "code",
   "execution_count": null,
   "metadata": {
    "id": "8e8UvXeLanvH"
   },
   "outputs": [],
   "source": []
  }
 ],
 "metadata": {
  "accelerator": "GPU",
  "colab": {
   "name": "LSTM_Band4_Nepal.ipynb",
   "provenance": []
  },
  "kernelspec": {
   "display_name": "Python 3",
   "language": "python",
   "name": "python3"
  },
  "language_info": {
   "codemirror_mode": {
    "name": "ipython",
    "version": 3
   },
   "file_extension": ".py",
   "mimetype": "text/x-python",
   "name": "python",
   "nbconvert_exporter": "python",
   "pygments_lexer": "ipython3",
   "version": "3.5.5"
  }
 },
 "nbformat": 4,
 "nbformat_minor": 1
}
