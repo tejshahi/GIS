{
  "nbformat": 4,
  "nbformat_minor": 0,
  "metadata": {
    "accelerator": "GPU",
    "colab": {
      "name": "CNN_train_6band(Nepal case).ipynb",
      "provenance": [],
      "include_colab_link": true
    },
    "kernelspec": {
      "display_name": "Python 3",
      "language": "python",
      "name": "python3"
    },
    "language_info": {
      "codemirror_mode": {
        "name": "ipython",
        "version": 3
      },
      "file_extension": ".py",
      "mimetype": "text/x-python",
      "name": "python",
      "nbconvert_exporter": "python",
      "pygments_lexer": "ipython3",
      "version": "3.7.6"
    }
  },
  "cells": [
    {
      "cell_type": "markdown",
      "metadata": {
        "id": "view-in-github",
        "colab_type": "text"
      },
      "source": [
        "<a href=\"https://colab.research.google.com/github/tejshahi/data_fusion/blob/master/CNN_train_6band(Nepal_case).ipynb\" target=\"_parent\"><img src=\"https://colab.research.google.com/assets/colab-badge.svg\" alt=\"Open In Colab\"/></a>"
      ]
    },
    {
      "cell_type": "markdown",
      "metadata": {
        "id": "20Cw-mOEPQYk"
      },
      "source": [
        "#Check the GPU status"
      ]
    },
    {
      "cell_type": "code",
      "metadata": {
        "colab": {
          "base_uri": "https://localhost:8080/"
        },
        "id": "ifa-saitcoJL",
        "outputId": "8b324501-7e83-4d7b-c91b-85f374f771c5"
      },
      "source": [
        "from google.colab import drive\n",
        "drive.mount('/content/drive')"
      ],
      "execution_count": 1,
      "outputs": [
        {
          "output_type": "stream",
          "text": [
            "Mounted at /content/drive\n"
          ],
          "name": "stdout"
        }
      ]
    },
    {
      "cell_type": "code",
      "metadata": {
        "colab": {
          "base_uri": "https://localhost:8080/"
        },
        "id": "sXnDmXR7RDr2",
        "outputId": "1cc5b74c-95d7-4a81-cfd2-2d5bf48c2c49"
      },
      "source": [
        "%tensorflow_version 2.x\n",
        "import tensorflow as tf\n",
        "device_name = tf.test.gpu_device_name()\n",
        "if device_name != '/device:GPU:0':\n",
        "  raise SystemError('GPU device not found')\n",
        "print('Found GPU at: {}'.format(device_name))"
      ],
      "execution_count": 2,
      "outputs": [
        {
          "output_type": "stream",
          "text": [
            "Found GPU at: /device:GPU:0\n"
          ],
          "name": "stdout"
        }
      ]
    },
    {
      "cell_type": "markdown",
      "metadata": {
        "id": "51d-NSqpTrVN"
      },
      "source": [
        "# Import the necessary Library and Files"
      ]
    },
    {
      "cell_type": "code",
      "metadata": {
        "id": "X-3LPyxx3wk_"
      },
      "source": [
        "from osgeo import gdal_array\n",
        "from osgeo import gdal\n",
        "import numpy as np\n",
        "from sklearn.metrics import mean_squared_error\n",
        "from sklearn.metrics import mean_absolute_error\n",
        "from math import sqrt\n",
        "from sklearn.metrics import r2_score"
      ],
      "execution_count": 3,
      "outputs": []
    },
    {
      "cell_type": "markdown",
      "metadata": {
        "id": "GJSRAuLP30o0"
      },
      "source": [
        "# Load the data set"
      ]
    },
    {
      "cell_type": "code",
      "metadata": {
        "id": "EKEsYuPfX12b"
      },
      "source": [
        "filepath= \"/content/drive/MyDrive/dataset_for_fusion/ls_sa_ndvi_training_set_c.dat\" #change the file path if necessary\n",
        "raster = gdal.Open(filepath)\n",
        "rasterArray = raster.ReadAsArray()\n",
        "b1 = rasterArray[0,0:rasterArray.shape[1],0:rasterArray.shape[2]]\n",
        "b2 = rasterArray[1,0:rasterArray.shape[1],0:rasterArray.shape[2]]\n",
        "b3 = rasterArray[2,0:rasterArray.shape[1],0:rasterArray.shape[2]]\n",
        "b4 = rasterArray[3,0:rasterArray.shape[1],0:rasterArray.shape[2]]\n",
        "b5 = rasterArray[4,0:rasterArray.shape[1],0:rasterArray.shape[2]]\n",
        "b6 = rasterArray[5,0:rasterArray.shape[1],0:rasterArray.shape[2]]"
      ],
      "execution_count": 4,
      "outputs": []
    },
    {
      "cell_type": "code",
      "metadata": {
        "colab": {
          "base_uri": "https://localhost:8080/"
        },
        "id": "2dkQfAsxYFho",
        "outputId": "4949806a-ff16-489e-98de-ac7eb4a553bc"
      },
      "source": [
        "rasterArray.shape"
      ],
      "execution_count": 5,
      "outputs": [
        {
          "output_type": "execute_result",
          "data": {
            "text/plain": [
              "(6, 2661, 3395)"
            ]
          },
          "metadata": {
            "tags": []
          },
          "execution_count": 5
        }
      ]
    },
    {
      "cell_type": "markdown",
      "metadata": {
        "id": "_W9n6NApTzn8"
      },
      "source": [
        "# Reshape the input into individual band"
      ]
    },
    {
      "cell_type": "code",
      "metadata": {
        "id": "o-KE1-mHX3Zt"
      },
      "source": [
        "b11=np.reshape(b1,(b1.shape[0]*b1.shape[1],))\n",
        "b22=np.reshape(b2,(b2.shape[0]*b2.shape[1],))\n",
        "b33=np.reshape(b3,(b3.shape[0]*b3.shape[1],))\n",
        "b44=np.reshape(b4,(b4.shape[0]*b4.shape[1],))\n",
        "b55=np.reshape(b5,(b5.shape[0]*b5.shape[1],))\n",
        "b66=np.reshape(b6,(b6.shape[0]*b6.shape[1],))"
      ],
      "execution_count": 6,
      "outputs": []
    },
    {
      "cell_type": "code",
      "metadata": {
        "colab": {
          "base_uri": "https://localhost:8080/"
        },
        "id": "c3UBZ_K8YM_8",
        "outputId": "f899d2e1-cb9d-4a65-bd64-be6c55d7acdc"
      },
      "source": [
        "b11.shape"
      ],
      "execution_count": 7,
      "outputs": [
        {
          "output_type": "execute_result",
          "data": {
            "text/plain": [
              "(9034095,)"
            ]
          },
          "metadata": {
            "tags": []
          },
          "execution_count": 7
        }
      ]
    },
    {
      "cell_type": "markdown",
      "metadata": {
        "id": "hW-R0irjT6ak"
      },
      "source": [
        "# Divide the image into small sliding tiles"
      ]
    },
    {
      "cell_type": "code",
      "metadata": {
        "id": "ezbrdDWkYwOQ"
      },
      "source": [
        "train_x=np.stack((b11,b33,b44,b55,b66),axis=-1)"
      ],
      "execution_count": 8,
      "outputs": []
    },
    {
      "cell_type": "code",
      "metadata": {
        "id": "jQkBsMo5NKXK"
      },
      "source": [
        "train_x.shape\n",
        "tile_size=5"
      ],
      "execution_count": 9,
      "outputs": []
    },
    {
      "cell_type": "code",
      "metadata": {
        "id": "VZxU-MGO--oJ"
      },
      "source": [
        "list_small_tiles=[]\n",
        "list_small_tiles.clear()\n",
        "for i in range(train_x.shape[0]-tile_size):\n",
        "  list_small_tiles.append(train_x[i:i+tile_size])\n",
        "list_small_tiles.append(train_x[i:i+tile_size])\n",
        "list_small_tiles.append(train_x[i+1:i+tile_size+1])"
      ],
      "execution_count": 10,
      "outputs": []
    },
    {
      "cell_type": "code",
      "metadata": {
        "colab": {
          "base_uri": "https://localhost:8080/"
        },
        "id": "f6x7f-io_deW",
        "outputId": "439fa68f-b622-4209-9958-fadf910afc4c"
      },
      "source": [
        "len(list_small_tiles)"
      ],
      "execution_count": 11,
      "outputs": [
        {
          "output_type": "execute_result",
          "data": {
            "text/plain": [
              "9034092"
            ]
          },
          "metadata": {
            "tags": []
          },
          "execution_count": 11
        }
      ]
    },
    {
      "cell_type": "code",
      "metadata": {
        "id": "aKibWnBQAeV-"
      },
      "source": [
        "x=np.array(list_small_tiles)"
      ],
      "execution_count": 12,
      "outputs": []
    },
    {
      "cell_type": "code",
      "metadata": {
        "id": "h95ofI0fVub4"
      },
      "source": [
        "x=np.reshape(x,(x.shape[0],x.shape[1],x.shape[2],1))"
      ],
      "execution_count": 13,
      "outputs": []
    },
    {
      "cell_type": "code",
      "metadata": {
        "id": "pED7Nqtsc1nb"
      },
      "source": [
        "train_y=b22[:-tile_size+2]"
      ],
      "execution_count": 14,
      "outputs": []
    },
    {
      "cell_type": "code",
      "metadata": {
        "colab": {
          "base_uri": "https://localhost:8080/"
        },
        "id": "IiccB7qvY_jK",
        "outputId": "73d7f57a-4716-49f5-91e7-6b949a40a786"
      },
      "source": [
        "print(x.shape)\n",
        "print(train_y.shape)"
      ],
      "execution_count": 15,
      "outputs": [
        {
          "output_type": "stream",
          "text": [
            "(9034092, 5, 5, 1)\n",
            "(9034092,)\n"
          ],
          "name": "stdout"
        }
      ]
    },
    {
      "cell_type": "markdown",
      "metadata": {
        "id": "rvpHlVoeA6Bz",
        "outputId": "3594ce7c-d7c7-46e5-b823-ab1f0251687f"
      },
      "source": [
        "# Design CNN Network using Keras API"
      ]
    },
    {
      "cell_type": "code",
      "metadata": {
        "id": "tddd3tgTZF8z"
      },
      "source": [
        "from keras.models import Sequential\n",
        "from keras.layers import Dense, Dropout,Flatten, Conv2D, Conv1D,BatchNormalization, MaxPool2D,GlobalAvgPool1D\n",
        "from keras import backend\n",
        "model=Sequential()\n",
        "model.add(Conv2D(filters=25, kernel_size=2, activation='relu',padding='same', input_shape=(5,5,1)))\n",
        "model.add(MaxPool2D(2))\n",
        "model.add(Conv2D(filters=50,kernel_size=2,activation='relu',padding='same'))\n",
        "model.add(MaxPool2D(2))\n",
        "model.add(Flatten())\n",
        "model.add(Dense(1))"
      ],
      "execution_count": 24,
      "outputs": []
    },
    {
      "cell_type": "code",
      "metadata": {
        "colab": {
          "base_uri": "https://localhost:8080/"
        },
        "id": "NuwOowjsy0BN",
        "outputId": "8f36a6b9-1566-4f1d-b5d5-9daaf28f8b18"
      },
      "source": [
        "model.summary()"
      ],
      "execution_count": 25,
      "outputs": [
        {
          "output_type": "stream",
          "text": [
            "Model: \"sequential_1\"\n",
            "_________________________________________________________________\n",
            "Layer (type)                 Output Shape              Param #   \n",
            "=================================================================\n",
            "conv2d_2 (Conv2D)            (None, 5, 5, 25)          125       \n",
            "_________________________________________________________________\n",
            "max_pooling2d_2 (MaxPooling2 (None, 2, 2, 25)          0         \n",
            "_________________________________________________________________\n",
            "conv2d_3 (Conv2D)            (None, 2, 2, 50)          5050      \n",
            "_________________________________________________________________\n",
            "max_pooling2d_3 (MaxPooling2 (None, 1, 1, 50)          0         \n",
            "_________________________________________________________________\n",
            "flatten_1 (Flatten)          (None, 50)                0         \n",
            "_________________________________________________________________\n",
            "dense_1 (Dense)              (None, 1)                 51        \n",
            "=================================================================\n",
            "Total params: 5,226\n",
            "Trainable params: 5,226\n",
            "Non-trainable params: 0\n",
            "_________________________________________________________________\n"
          ],
          "name": "stdout"
        }
      ]
    },
    {
      "cell_type": "code",
      "metadata": {
        "id": "zt2WCfWP7mrr",
        "colab": {
          "base_uri": "https://localhost:8080/"
        },
        "outputId": "88a52b53-38b3-45f1-a809-c4cbd0608c61"
      },
      "source": [
        "import time\n",
        "train_s_time=time.clock()\n",
        "model.compile(loss='mse', optimizer='adam',metrics=['mse','mae'])"
      ],
      "execution_count": 27,
      "outputs": [
        {
          "output_type": "stream",
          "text": [
            "/usr/local/lib/python3.7/dist-packages/ipykernel_launcher.py:2: DeprecationWarning: time.clock has been deprecated in Python 3.3 and will be removed from Python 3.8: use time.perf_counter or time.process_time instead\n",
            "  \n"
          ],
          "name": "stderr"
        }
      ]
    },
    {
      "cell_type": "code",
      "metadata": {
        "colab": {
          "base_uri": "https://localhost:8080/"
        },
        "id": "TteUR8DMA_MH",
        "outputId": "90b72a80-cdf1-4d75-e3e8-e72ed219adb7"
      },
      "source": [
        "from keras.callbacks import EarlyStopping\n",
        "es = EarlyStopping(monitor='val_loss',verbose=1)\n",
        "history=model.fit(x, \n",
        "    train_y, \n",
        "    epochs=20,\n",
        "    batch_size=100,\n",
        "    validation_split=0.2,\n",
        "    verbose=2,\n",
        "    callback=[es]\n",
        "    )\n",
        "print(\"training time\"+str(time.clock()-train_s_time)+'secs.')"
      ],
      "execution_count": 28,
      "outputs": [
        {
          "output_type": "stream",
          "text": [
            "Epoch 1/20\n",
            "72273/72273 - 192s - loss: 9.6527e-04 - mse: 9.6527e-04 - mae: 0.0226 - val_loss: 9.0016e-04 - val_mse: 9.0016e-04 - val_mae: 0.0223\n",
            "Epoch 2/20\n",
            "72273/72273 - 190s - loss: 8.8144e-04 - mse: 8.8144e-04 - mae: 0.0216 - val_loss: 9.0604e-04 - val_mse: 9.0604e-04 - val_mae: 0.0221\n",
            "Epoch 3/20\n",
            "72273/72273 - 188s - loss: 8.6503e-04 - mse: 8.6503e-04 - mae: 0.0214 - val_loss: 8.4176e-04 - val_mse: 8.4176e-04 - val_mae: 0.0215\n",
            "Epoch 4/20\n",
            "72273/72273 - 187s - loss: 8.5600e-04 - mse: 8.5600e-04 - mae: 0.0212 - val_loss: 8.7605e-04 - val_mse: 8.7605e-04 - val_mae: 0.0218\n",
            "Epoch 5/20\n",
            "72273/72273 - 171s - loss: 8.5186e-04 - mse: 8.5186e-04 - mae: 0.0212 - val_loss: 8.4651e-04 - val_mse: 8.4651e-04 - val_mae: 0.0215\n",
            "Epoch 6/20\n",
            "72273/72273 - 188s - loss: 8.4857e-04 - mse: 8.4857e-04 - mae: 0.0211 - val_loss: 8.3524e-04 - val_mse: 8.3524e-04 - val_mae: 0.0213\n",
            "Epoch 7/20\n",
            "72273/72273 - 196s - loss: 8.4601e-04 - mse: 8.4601e-04 - mae: 0.0211 - val_loss: 9.8193e-04 - val_mse: 9.8193e-04 - val_mae: 0.0231\n",
            "Epoch 8/20\n",
            "72273/72273 - 191s - loss: 8.4388e-04 - mse: 8.4388e-04 - mae: 0.0211 - val_loss: 8.1833e-04 - val_mse: 8.1833e-04 - val_mae: 0.0212\n",
            "Epoch 9/20\n",
            "72273/72273 - 189s - loss: 8.4242e-04 - mse: 8.4242e-04 - mae: 0.0210 - val_loss: 8.6697e-04 - val_mse: 8.6697e-04 - val_mae: 0.0216\n",
            "Epoch 10/20\n",
            "72273/72273 - 191s - loss: 8.4085e-04 - mse: 8.4085e-04 - mae: 0.0210 - val_loss: 8.3221e-04 - val_mse: 8.3221e-04 - val_mae: 0.0212\n",
            "Epoch 11/20\n",
            "72273/72273 - 171s - loss: 8.3996e-04 - mse: 8.3996e-04 - mae: 0.0210 - val_loss: 9.2728e-04 - val_mse: 9.2728e-04 - val_mae: 0.0223\n",
            "Epoch 12/20\n",
            "72273/72273 - 189s - loss: 8.3899e-04 - mse: 8.3899e-04 - mae: 0.0210 - val_loss: 8.3433e-04 - val_mse: 8.3433e-04 - val_mae: 0.0212\n",
            "Epoch 13/20\n",
            "72273/72273 - 170s - loss: 8.3829e-04 - mse: 8.3829e-04 - mae: 0.0210 - val_loss: 8.5070e-04 - val_mse: 8.5070e-04 - val_mae: 0.0214\n",
            "Epoch 14/20\n",
            "72273/72273 - 188s - loss: 8.3780e-04 - mse: 8.3780e-04 - mae: 0.0210 - val_loss: 8.7205e-04 - val_mse: 8.7205e-04 - val_mae: 0.0216\n",
            "Epoch 15/20\n",
            "72273/72273 - 188s - loss: 8.3761e-04 - mse: 8.3761e-04 - mae: 0.0210 - val_loss: 8.4858e-04 - val_mse: 8.4858e-04 - val_mae: 0.0214\n",
            "Epoch 16/20\n",
            "72273/72273 - 188s - loss: 8.3659e-04 - mse: 8.3659e-04 - mae: 0.0210 - val_loss: 9.4580e-04 - val_mse: 9.4580e-04 - val_mae: 0.0226\n",
            "Epoch 17/20\n",
            "72273/72273 - 189s - loss: 8.3620e-04 - mse: 8.3620e-04 - mae: 0.0209 - val_loss: 8.5677e-04 - val_mse: 8.5677e-04 - val_mae: 0.0217\n",
            "Epoch 18/20\n",
            "72273/72273 - 168s - loss: 8.3570e-04 - mse: 8.3570e-04 - mae: 0.0209 - val_loss: 8.5225e-04 - val_mse: 8.5225e-04 - val_mae: 0.0214\n",
            "Epoch 19/20\n",
            "72273/72273 - 188s - loss: 8.3572e-04 - mse: 8.3572e-04 - mae: 0.0209 - val_loss: 8.8856e-04 - val_mse: 8.8856e-04 - val_mae: 0.0219\n",
            "Epoch 20/20\n",
            "72273/72273 - 167s - loss: 8.3501e-04 - mse: 8.3501e-04 - mae: 0.0209 - val_loss: 8.5254e-04 - val_mse: 8.5254e-04 - val_mae: 0.0214\n",
            "training time4927.024288secs.\n"
          ],
          "name": "stdout"
        },
        {
          "output_type": "stream",
          "text": [
            "/usr/local/lib/python3.7/dist-packages/ipykernel_launcher.py:10: DeprecationWarning: time.clock has been deprecated in Python 3.3 and will be removed from Python 3.8: use time.perf_counter or time.process_time instead\n",
            "  # Remove the CWD from sys.path while we load stuff.\n"
          ],
          "name": "stderr"
        }
      ]
    },
    {
      "cell_type": "code",
      "metadata": {
        "colab": {
          "base_uri": "https://localhost:8080/",
          "height": 265
        },
        "id": "IwpwrxeVO-2h",
        "outputId": "e70c0374-ff5b-4c33-e0b5-ff7b6777085b"
      },
      "source": [
        "#plot history\n",
        "from matplotlib import pyplot\n",
        "pyplot.plot(history.history['loss'], label='train-loss')\n",
        "pyplot.plot(history.history['val_loss'], label='validation-loss')\n",
        "pyplot.legend()\n",
        "pyplot.show()"
      ],
      "execution_count": 20,
      "outputs": [
        {
          "output_type": "display_data",
          "data": {
            "image/png": "[encoded data removed]",
            "text/plain": [
              "<Figure size 432x288 with 1 Axes>"
            ]
          },
          "metadata": {
            "tags": [],
            "needs_background": "light"
          }
        }
      ]
    },
    {
      "cell_type": "code",
      "metadata": {
        "id": "_4ib56dDhsto"
      },
      "source": [
        "#save the model for later uses\n",
        "model.save(\"CNN-Train-Six.h5\",overwrite=True)"
      ],
      "execution_count": 21,
      "outputs": []
    },
    {
      "cell_type": "code",
      "metadata": {
        "id": "lXGhCJWMchvU"
      },
      "source": [
        "#load test file of Nepal case data"
      ],
      "execution_count": 22,
      "outputs": []
    },
    {
      "cell_type": "code",
      "metadata": {
        "id": "H1Uerc3lleva",
        "colab": {
          "base_uri": "https://localhost:8080/",
          "height": 232
        },
        "outputId": "9d605956-4c50-4700-be1e-610b4a2cd51b"
      },
      "source": [
        "filename=\"/content/drive/My Drive/GIS/ls_sa_ndvi_testing_set_c.dat\"\n",
        "raster = gdal.Open(filename)\n",
        "rasterArray = raster.ReadAsArray()\n",
        "tb1 = rasterArray[0,0:rasterArray.shape[1],0:rasterArray.shape[2]]\n",
        "tb2 = rasterArray[1,0:rasterArray.shape[1],0:rasterArray.shape[2]]\n",
        "tb3 = rasterArray[2,0:rasterArray.shape[1],0:rasterArray.shape[2]]\n",
        "tb4 = rasterArray[3,0:rasterArray.shape[1],0:rasterArray.shape[2]]\n",
        "tb5 = rasterArray[4,0:rasterArray.shape[1],0:rasterArray.shape[2]]\n",
        "tb6 = rasterArray[5,0:rasterArray.shape[1],0:rasterArray.shape[2]]\n",
        "tb1_reshape=np.reshape(tb1,(tb1.shape[0]*tb1.shape[1],))\n",
        "tb3_reshape=np.reshape(tb3,(tb3.shape[0]*tb3.shape[1],))\n",
        "tb4_reshape=np.reshape(tb4,(tb4.shape[0]*tb4.shape[1],))\n",
        "tb5_reshape=np.reshape(tb5,(tb5.shape[0]*tb5.shape[1],))\n",
        "tb6_reshape=np.reshape(tb6,(tb6.shape[0]*tb6.shape[1]))\n",
        "tb2_reshape=np.reshape(tb2,(tb2.shape[0]*tb2.shape[1],))"
      ],
      "execution_count": 23,
      "outputs": [
        {
          "output_type": "error",
          "ename": "AttributeError",
          "evalue": "ignored",
          "traceback": [
            "\u001b[0;31m---------------------------------------------------------------------------\u001b[0m",
            "\u001b[0;31mAttributeError\u001b[0m                            Traceback (most recent call last)",
            "\u001b[0;32m<ipython-input-23-4f7e2f6e4d9c>\u001b[0m in \u001b[0;36m<module>\u001b[0;34m()\u001b[0m\n\u001b[1;32m      1\u001b[0m \u001b[0mfilename\u001b[0m\u001b[0;34m=\u001b[0m\u001b[0;34m\"/content/drive/My Drive/GIS/ls_sa_ndvi_testing_set_c.dat\"\u001b[0m\u001b[0;34m\u001b[0m\u001b[0;34m\u001b[0m\u001b[0m\n\u001b[1;32m      2\u001b[0m \u001b[0mraster\u001b[0m \u001b[0;34m=\u001b[0m \u001b[0mgdal\u001b[0m\u001b[0;34m.\u001b[0m\u001b[0mOpen\u001b[0m\u001b[0;34m(\u001b[0m\u001b[0mfilename\u001b[0m\u001b[0;34m)\u001b[0m\u001b[0;34m\u001b[0m\u001b[0;34m\u001b[0m\u001b[0m\n\u001b[0;32m----> 3\u001b[0;31m \u001b[0mrasterArray\u001b[0m \u001b[0;34m=\u001b[0m \u001b[0mraster\u001b[0m\u001b[0;34m.\u001b[0m\u001b[0mReadAsArray\u001b[0m\u001b[0;34m(\u001b[0m\u001b[0;34m)\u001b[0m\u001b[0;34m\u001b[0m\u001b[0;34m\u001b[0m\u001b[0m\n\u001b[0m\u001b[1;32m      4\u001b[0m \u001b[0mtb1\u001b[0m \u001b[0;34m=\u001b[0m \u001b[0mrasterArray\u001b[0m\u001b[0;34m[\u001b[0m\u001b[0;36m0\u001b[0m\u001b[0;34m,\u001b[0m\u001b[0;36m0\u001b[0m\u001b[0;34m:\u001b[0m\u001b[0mrasterArray\u001b[0m\u001b[0;34m.\u001b[0m\u001b[0mshape\u001b[0m\u001b[0;34m[\u001b[0m\u001b[0;36m1\u001b[0m\u001b[0;34m]\u001b[0m\u001b[0;34m,\u001b[0m\u001b[0;36m0\u001b[0m\u001b[0;34m:\u001b[0m\u001b[0mrasterArray\u001b[0m\u001b[0;34m.\u001b[0m\u001b[0mshape\u001b[0m\u001b[0;34m[\u001b[0m\u001b[0;36m2\u001b[0m\u001b[0;34m]\u001b[0m\u001b[0;34m]\u001b[0m\u001b[0;34m\u001b[0m\u001b[0;34m\u001b[0m\u001b[0m\n\u001b[1;32m      5\u001b[0m \u001b[0mtb2\u001b[0m \u001b[0;34m=\u001b[0m \u001b[0mrasterArray\u001b[0m\u001b[0;34m[\u001b[0m\u001b[0;36m1\u001b[0m\u001b[0;34m,\u001b[0m\u001b[0;36m0\u001b[0m\u001b[0;34m:\u001b[0m\u001b[0mrasterArray\u001b[0m\u001b[0;34m.\u001b[0m\u001b[0mshape\u001b[0m\u001b[0;34m[\u001b[0m\u001b[0;36m1\u001b[0m\u001b[0;34m]\u001b[0m\u001b[0;34m,\u001b[0m\u001b[0;36m0\u001b[0m\u001b[0;34m:\u001b[0m\u001b[0mrasterArray\u001b[0m\u001b[0;34m.\u001b[0m\u001b[0mshape\u001b[0m\u001b[0;34m[\u001b[0m\u001b[0;36m2\u001b[0m\u001b[0;34m]\u001b[0m\u001b[0;34m]\u001b[0m\u001b[0;34m\u001b[0m\u001b[0;34m\u001b[0m\u001b[0m\n",
            "\u001b[0;31mAttributeError\u001b[0m: 'NoneType' object has no attribute 'ReadAsArray'"
          ]
        }
      ]
    },
    {
      "cell_type": "code",
      "metadata": {
        "id": "xnoIAAqH1xMR"
      },
      "source": [
        "tile_size=5"
      ],
      "execution_count": null,
      "outputs": []
    },
    {
      "cell_type": "code",
      "metadata": {
        "id": "yJ5ixn_SnVNj"
      },
      "source": [
        "test_x=np.stack((tb1_reshape,tb3_reshape,tb4_reshape,tb5_reshape, tb6_reshape),axis=-1)\n",
        "test_y=tb2_reshape\n"
      ],
      "execution_count": null,
      "outputs": []
    },
    {
      "cell_type": "code",
      "metadata": {
        "id": "KLIyprW3DCrH"
      },
      "source": [
        "list_small_tiles=[]\n",
        "list_small_tiles.clear()\n",
        "for i in range(test_x.shape[0]-tile_size):\n",
        "  list_small_tiles.append(test_x[i:i+tile_size])\n",
        "list_small_tiles.append(test_x[i:i+tile_size])\n",
        "list_small_tiles.append(test_x[i+1:i+tile_size+1])"
      ],
      "execution_count": null,
      "outputs": []
    },
    {
      "cell_type": "code",
      "metadata": {
        "id": "N5X_IqNUDOxd"
      },
      "source": [
        "test_x=np.array(list_small_tiles)\n",
        "test_x=np.reshape(test_x,(test_x.shape[0],tile_size,tile_size,1))"
      ],
      "execution_count": null,
      "outputs": []
    },
    {
      "cell_type": "code",
      "metadata": {
        "id": "hsOHjD9ih-jp"
      },
      "source": [
        "test_y=test_y[:-tile_size+2]"
      ],
      "execution_count": null,
      "outputs": []
    },
    {
      "cell_type": "code",
      "metadata": {
        "id": "NpJQKoP-nuCM"
      },
      "source": [
        "#check for x and y shape\n",
        "print(test_x.shape)\n",
        "print(test_y.shape)"
      ],
      "execution_count": null,
      "outputs": []
    },
    {
      "cell_type": "code",
      "metadata": {
        "id": "EFVEY0uiu4Eb"
      },
      "source": [
        "from keras.models import load_model\n",
        "model=load_model('/content/CNN-Train-Six-band.h5')"
      ],
      "execution_count": null,
      "outputs": []
    },
    {
      "cell_type": "code",
      "metadata": {
        "id": "kWag_BoBnZRD"
      },
      "source": [
        "#whole test data performance evaluations\n",
        "pred_y=model.predict(test_x)\n",
        "print(\"r2 score: %.6f\" %r2_score(test_y,pred_y))\n",
        "rmse = sqrt(mean_squared_error(test_y,pred_y))\n",
        "print('Test RMSE: %.3f' % rmse)\n",
        "# calculate MAE\n",
        "mae = mean_absolute_error(test_y,pred_y)\n",
        "print('Test MAE: %.3f' % mae)"
      ],
      "execution_count": null,
      "outputs": []
    },
    {
      "cell_type": "code",
      "metadata": {
        "id": "t4PNeCiXDBW8"
      },
      "source": [
        "tb2_reshape.shape"
      ],
      "execution_count": null,
      "outputs": []
    },
    {
      "cell_type": "code",
      "metadata": {
        "id": "6tH9vTweCtyf"
      },
      "source": [
        "a=np.pad(pred_y.ravel(), (1,2),\"edge\")\n",
        "a.shape"
      ],
      "execution_count": null,
      "outputs": []
    },
    {
      "cell_type": "code",
      "metadata": {
        "id": "LXTe1oP2FzbA"
      },
      "source": [
        "np.savetxt(\"CNN_six_band_nepal.csv\", a, delimiter=\",\")"
      ],
      "execution_count": null,
      "outputs": []
    },
    {
      "cell_type": "code",
      "metadata": {
        "id": "or_GVn3pguJX"
      },
      "source": [
        "#divide the test cases"
      ],
      "execution_count": null,
      "outputs": []
    },
    {
      "cell_type": "code",
      "metadata": {
        "id": "UuPvzUP1g1MS"
      },
      "source": [
        "j=0\n",
        "case1_x=[]\n",
        "case1_y=[]\n",
        "case2_x=[]\n",
        "case2_y=[]\n",
        "case3_x=[]\n",
        "case3_y=[]\n",
        "case4_x=[]\n",
        "case4_y=[]\n",
        "case5_x=[]\n",
        "case5_y=[]\n",
        "case6_x=[]\n",
        "case6_y=[]\n",
        "case7_x=[]\n",
        "case7_y=[]\n",
        "case8_x=[]\n",
        "case8_y=[]\n",
        "case9_x=[]\n",
        "case9_y=[]\n",
        "for i in range(tb1.size):\n",
        "    if(tb1_reshape[i]<tb2_reshape[i]<tb3_reshape[i]):\n",
        "        case1_x.append([tb1_reshape[i],tb3_reshape[i],tb4_reshape[i],tb5_reshape[i],tb6_reshape[i]])\n",
        "        case1_y.append(tb2_reshape[i])\n",
        "    elif(tb1_reshape[i]<tb2_reshape[i]==tb3_reshape[i]):\n",
        "        case2_x.append([tb1_reshape[i],tb3_reshape[i],tb4_reshape[i],tb5_reshape[i],tb6_reshape[i]])\n",
        "        case2_y.append(tb2_reshape[i])\n",
        "    elif(tb1_reshape[i]<tb2_reshape[i]>tb3_reshape[i]):\n",
        "        case3_x.append([tb1_reshape[i],tb3_reshape[i],tb4_reshape[i],tb5_reshape[i],tb6_reshape[i]])\n",
        "        case3_y.append(tb2_reshape[i])\n",
        "    elif(tb1_reshape[i]==tb2_reshape[i]<tb3_reshape[i]):\n",
        "        case4_x.append([tb1_reshape[i],tb3_reshape[i],tb4_reshape[i],tb5_reshape[i],tb6_reshape[i]])\n",
        "        case4_y.append(tb2_reshape[i])\n",
        "    elif(tb1_reshape[i]==tb2_reshape[i]==tb3_reshape[i]):\n",
        "        case5_x.append([tb1_reshape[i],tb3_reshape[i],tb4_reshape[i],tb5_reshape[i],tb6_reshape[i]])\n",
        "        case5_y.append(tb2_reshape[i])\n",
        "    elif(tb1_reshape[i]==tb2_reshape[i]>tb3_reshape[i]):\n",
        "        case6_x.append([tb1_reshape[i],tb3_reshape[i],tb4_reshape[i],tb5_reshape[i],tb6_reshape[i]])\n",
        "        case6_y.append(tb2_reshape[i])\n",
        "    elif(tb1_reshape[i]>tb2_reshape[i]<tb3_reshape[i]):\n",
        "        case7_x.append([tb1_reshape[i],tb3_reshape[i],tb4_reshape[i],tb5_reshape[i],tb6_reshape[i]])\n",
        "        case7_y.append(tb2_reshape[i])\n",
        "    elif(tb1_reshape[i]>tb2_reshape[i]==tb3_reshape[i]):\n",
        "        case8_x.append([tb1_reshape[i],tb3_reshape[i],tb4_reshape[i],tb5_reshape[i],tb6_reshape[i]])\n",
        "        case8_y.append(tb2_reshape[i])\n",
        "    elif(tb1_reshape[i]>tb2_reshape[i]>tb3_reshape[i]):\n",
        "        case9_x.append([tb1_reshape[i],tb3_reshape[i],tb4_reshape[i],tb5_reshape[i],tb6_reshape[i]])\n",
        "        case9_y.append(tb2_reshape[i])"
      ],
      "execution_count": null,
      "outputs": []
    },
    {
      "cell_type": "code",
      "metadata": {
        "id": "VIdPAgrbsNHO"
      },
      "source": [
        "def prepare_case(x,y):\n",
        "  x=np.array(x)\n",
        "  y=np.array(y)\n",
        "  small_tiles=[]\n",
        "  small_tiles.clear()\n",
        "  for i in range(x.shape[0]-tile_size):\n",
        "    small_tiles.append(x[i:i+tile_size])\n",
        "  small_tiles.append(x[i:i+tile_size])\n",
        "  small_tiles.append(x[i+1:i+tile_size+1])\n",
        "  test_x=np.array(small_tiles)\n",
        "  test_x=np.reshape(test_x,(test_x.shape[0],tile_size,tile_size,1))\n",
        "  test_y=y[:-tile_size+2]\n",
        "  return (test_x,test_y)"
      ],
      "execution_count": null,
      "outputs": []
    },
    {
      "cell_type": "code",
      "metadata": {
        "id": "Elcm6D17hNLn"
      },
      "source": [
        "def predict_case(test_x,test_y):\n",
        "    pred_y=model.predict(test_x)\n",
        "    print(\"r2 score: %.6f\" %r2_score(test_y,pred_y))\n",
        "    rmse = sqrt(mean_squared_error(test_y,pred_y))\n",
        "    print('Test RMSE: %.3f' % rmse)\n",
        "    # calculate MAE\n",
        "    mae = mean_absolute_error(test_y,pred_y)\n",
        "    print('Test MAE: %.3f' % mae)\n",
        "    return pred_y"
      ],
      "execution_count": null,
      "outputs": []
    },
    {
      "cell_type": "code",
      "metadata": {
        "id": "dhixm7SHw5-g"
      },
      "source": [
        "x1,y1=prepare_case(case1_x,case1_y)\n",
        "y1_hat=predict_case(x1,y1)"
      ],
      "execution_count": null,
      "outputs": []
    },
    {
      "cell_type": "code",
      "metadata": {
        "id": "HR3GdZjthtun"
      },
      "source": [
        "x3,y3=prepare_case(case3_x,case3_y)\n",
        "y3_hat=predict_case(x3,y3)"
      ],
      "execution_count": null,
      "outputs": []
    },
    {
      "cell_type": "code",
      "metadata": {
        "id": "tXazMrPXxF0z"
      },
      "source": [
        "x7,y7=prepare_case(case7_x,case7_y)\n",
        "y7_hat=predict_case(x7,y7)"
      ],
      "execution_count": null,
      "outputs": []
    },
    {
      "cell_type": "code",
      "metadata": {
        "id": "QIvisyDh4q2q"
      },
      "source": [
        "x9,y9=prepare_case(case9_x,case9_y)\n",
        "y9_hat=predict_case(x9,y9)"
      ],
      "execution_count": null,
      "outputs": []
    },
    {
      "cell_type": "code",
      "metadata": {
        "id": "DCVGCyghaAMK"
      },
      "source": [
        ""
      ],
      "execution_count": null,
      "outputs": []
    }
  ]
}