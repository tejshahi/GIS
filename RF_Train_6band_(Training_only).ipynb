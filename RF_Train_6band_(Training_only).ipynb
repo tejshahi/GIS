{
  "nbformat": 4,
  "nbformat_minor": 0,
  "metadata": {
    "colab": {
      "name": "RF_Train_6band (Training only).ipynb",
      "provenance": [],
      "include_colab_link": true
    },
    "kernelspec": {
      "display_name": "Python 3",
      "language": "python",
      "name": "python3"
    },
    "language_info": {
      "codemirror_mode": {
        "name": "ipython",
        "version": 3
      },
      "file_extension": ".py",
      "mimetype": "text/x-python",
      "name": "python",
      "nbconvert_exporter": "python",
      "pygments_lexer": "ipython3",
      "version": "3.5.5"
    }
  },
  "cells": [
    {
      "cell_type": "markdown",
      "metadata": {
        "id": "view-in-github",
        "colab_type": "text"
      },
      "source": [
        "<a href=\"https://colab.research.google.com/github/tejshahi/data_fusion/blob/master/RF_Train_6band_(Training_only).ipynb\" target=\"_parent\"><img src=\"https://colab.research.google.com/assets/colab-badge.svg\" alt=\"Open In Colab\"/></a>"
      ]
    },
    {
      "cell_type": "markdown",
      "metadata": {
        "id": "HRyQOu-kh0yv"
      },
      "source": [
        "### Import Necessary packages"
      ]
    },
    {
      "cell_type": "code",
      "metadata": {
        "id": "EK9xqhTGO-tn"
      },
      "source": [
        "from osgeo import gdal_array\n",
        "from osgeo import gdal\n",
        "import numpy as np\n",
        "filepath= \"content/drive/My Drive/dataset_for_fusion/ls_sa_ndvi_training_set_c.dat\" # Path to training data file\n",
        "raster = gdal.Open(filepath)\n",
        "rasterArray = raster.ReadAsArray()\n",
        "b1 = rasterArray[0,0:2661,0:3395]\n",
        "b2 = rasterArray[1,0:2661,0:3395]\n",
        "b3 = rasterArray[2,0:2661,0:3395]\n",
        "b4 = rasterArray[3,0:2661,0:3395]\n",
        "b5 = rasterArray[4,0:2661,0:3395]\n",
        "b6 = rasterArray[5,0:2661,0:3395]"
      ],
      "execution_count": null,
      "outputs": []
    },
    {
      "cell_type": "code",
      "metadata": {
        "colab": {
          "base_uri": "https://localhost:8080/",
          "height": 35
        },
        "id": "fYOrXuE5PPLL",
        "outputId": "3de0538e-ad6e-425c-b51e-3636ba3d8250"
      },
      "source": [
        "rasterArray.shape"
      ],
      "execution_count": null,
      "outputs": [
        {
          "output_type": "execute_result",
          "data": {
            "text/plain": [
              "(6, 2661, 3395)"
            ]
          },
          "metadata": {
            "tags": []
          },
          "execution_count": 15
        }
      ]
    },
    {
      "cell_type": "code",
      "metadata": {
        "id": "2tyznfMkPdUR"
      },
      "source": [
        "b11=np.reshape(b1,(b1.shape[0]*b1.shape[1],))\n",
        "b22=np.reshape(b2,(b2.shape[0]*b2.shape[1],))\n",
        "b33=np.reshape(b3,(b3.shape[0]*b3.shape[1],))\n",
        "b44=np.reshape(b4,(b4.shape[0]*b4.shape[1],))\n",
        "b55=np.reshape(b5,(b5.shape[0]*b5.shape[1],))\n",
        "b66=np.reshape(b6,(b6.shape[0]*b6.shape[1],))"
      ],
      "execution_count": null,
      "outputs": []
    },
    {
      "cell_type": "code",
      "metadata": {
        "id": "6-Ls1P_XPeDQ"
      },
      "source": [
        "train_x=np.stack((b11,b33,b44,b55,b66),axis=-1)"
      ],
      "execution_count": null,
      "outputs": []
    },
    {
      "cell_type": "code",
      "metadata": {
        "id": "1JKa7hh7PgmJ"
      },
      "source": [
        "from sklearn.ensemble import RandomForestRegressor\n",
        "from sklearn.model_selection import RandomizedSearchCV\n",
        "# Number of trees in random forest\n",
        "n_estimators = [int(x) for x in np.linspace(start = 1, stop = 20, num = 5)]\n",
        "# Number of features to consider at every split\n",
        "max_features = ['auto']\n",
        "# Maximum number of levels in tree\n",
        "max_depth = [int(x) for x in np.linspace(1, 10, num = 5)]\n",
        "max_depth.append(None)\n",
        "# Minimum number of samples required to split a node\n",
        "min_samples_split = [2]\n",
        "# Minimum number of samples required at each leaf node\n",
        "min_samples_leaf = [1]\n",
        "# Method of selecting samples for training each tree\n",
        "bootstrap = [True]\n",
        "# Create the random grid\n",
        "random_grid = {'n_estimators': n_estimators,\n",
        "               'max_features': max_features,\n",
        "               'max_depth': max_depth,\n",
        "               'min_samples_split': min_samples_split,\n",
        "               'min_samples_leaf': min_samples_leaf,\n",
        "               'bootstrap': bootstrap}"
      ],
      "execution_count": null,
      "outputs": []
    },
    {
      "cell_type": "code",
      "metadata": {
        "colab": {
          "base_uri": "https://localhost:8080/",
          "height": 35
        },
        "id": "BscnMSRQSjOw",
        "outputId": "3b5fa719-a677-4e8b-976e-851fba6dda54"
      },
      "source": [
        "train_y=b22\n",
        "train_y.shape"
      ],
      "execution_count": null,
      "outputs": [
        {
          "output_type": "execute_result",
          "data": {
            "text/plain": [
              "(9034095,)"
            ]
          },
          "metadata": {
            "tags": []
          },
          "execution_count": 18
        }
      ]
    },
    {
      "cell_type": "code",
      "metadata": {
        "id": "DP1HSNfnProR"
      },
      "source": [
        "# Use the random grid to search for best hyperparameters\n",
        "# First create the base model to tune\n",
        "import time\n",
        "from sklearn.ensemble import RandomForestRegressor\n",
        "train_s_time=time.clock()\n",
        "rf=RandomForestRegressor()\n",
        "# Random search of parameters, using 3 fold cross validation, \n",
        "# search across 100 different combinations, and use all available cores\n",
        "rf_random = RandomizedSearchCV(estimator = rf, param_distributions=random_grid, n_iter=3, cv = 2, verbose=2, n_jobs = -1)\n",
        "# Fit the random search model\n",
        "rf_random.fit(train_x, train_y)\n",
        "print('Training time'+str(time.clock()-train_s_time)+'secs')"
      ],
      "execution_count": null,
      "outputs": []
    },
    {
      "cell_type": "code",
      "metadata": {
        "id": "WYdh6LPAsbXB"
      },
      "source": [
        "from joblib import dump, load\n",
        "dump(rf_random.best_estimator_, 'rf_six_band.joblib') "
      ],
      "execution_count": null,
      "outputs": []
    },
    {
      "cell_type": "code",
      "metadata": {
        "id": "0ZKXcWrgh0y7",
        "outputId": "006d4fb2-43f5-4876-826c-927c6a1e95be"
      },
      "source": [
        "#to calculate training time\n",
        "#initialze the random forest regressor with best parameters\n",
        "import time\n",
        "from sklearn.ensemble import RandomForestRegressor\n",
        "train_s_time=time.clock()\n",
        "rf=RandomForestRegressor(n_estimators=40, max_depth=7, n_jobs=-1)\n",
        "rf.fit(train_x,train_y)\n",
        "print('Training time'+str(time.clock()-train_s_time)+'secs')"
      ],
      "execution_count": null,
      "outputs": [
        {
          "output_type": "stream",
          "text": [
            "Training time605.3757942secs\n"
          ],
          "name": "stdout"
        }
      ]
    },
    {
      "cell_type": "code",
      "metadata": {
        "id": "d_1LuuF8h0y8"
      },
      "source": [
        ""
      ],
      "execution_count": null,
      "outputs": []
    }
  ]
}