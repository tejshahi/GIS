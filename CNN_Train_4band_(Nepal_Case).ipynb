{
  "nbformat": 4,
  "nbformat_minor": 0,
  "metadata": {
    "accelerator": "GPU",
    "colab": {
      "name": "CNN_Train_4band (Nepal Case).ipynb",
      "provenance": [],
      "include_colab_link": true
    },
    "kernelspec": {
      "display_name": "Python 3",
      "language": "python",
      "name": "python3"
    },
    "language_info": {
      "codemirror_mode": {
        "name": "ipython",
        "version": 3
      },
      "file_extension": ".py",
      "mimetype": "text/x-python",
      "name": "python",
      "nbconvert_exporter": "python",
      "pygments_lexer": "ipython3",
      "version": "3.7.7"
    }
  },
  "cells": [
    {
      "cell_type": "markdown",
      "metadata": {
        "id": "view-in-github",
        "colab_type": "text"
      },
      "source": [
        "<a href=\"https://colab.research.google.com/github/tejshahi/data_fusion/blob/master/CNN_Train_4band_(Nepal_Case).ipynb\" target=\"_parent\"><img src=\"https://colab.research.google.com/assets/colab-badge.svg\" alt=\"Open In Colab\"/></a>"
      ]
    },
    {
      "cell_type": "markdown",
      "metadata": {
        "id": "20Cw-mOEPQYk"
      },
      "source": [
        "# Check the GPU status"
      ]
    },
    {
      "cell_type": "code",
      "metadata": {
        "colab": {
          "base_uri": "https://localhost:8080/"
        },
        "id": "w-Vn7N4z_0F8",
        "outputId": "191920c0-ae4f-4b5e-916d-d8ba8c0bbc08"
      },
      "source": [
        "from google.colab import drive\n",
        "drive.mount('/content/drive')"
      ],
      "execution_count": 1,
      "outputs": [
        {
          "output_type": "stream",
          "text": [
            "Mounted at /content/drive\n"
          ],
          "name": "stdout"
        }
      ]
    },
    {
      "cell_type": "code",
      "metadata": {
        "colab": {
          "base_uri": "https://localhost:8080/"
        },
        "id": "sXnDmXR7RDr2",
        "outputId": "bf705e81-090a-422d-dbbf-189a9323706c"
      },
      "source": [
        "%tensorflow_version 2.x\n",
        "import tensorflow as tf\n",
        "device_name = tf.test.gpu_device_name()\n",
        "if device_name != '/device:GPU:0':\n",
        "  raise SystemError('GPU device not found')\n",
        "print('Found GPU at: {}'.format(device_name))"
      ],
      "execution_count": 2,
      "outputs": [
        {
          "output_type": "stream",
          "text": [
            "Found GPU at: /device:GPU:0\n"
          ],
          "name": "stdout"
        }
      ]
    },
    {
      "cell_type": "markdown",
      "metadata": {
        "id": "51d-NSqpTrVN"
      },
      "source": [
        "# Import the necessary Library and Files"
      ]
    },
    {
      "cell_type": "code",
      "metadata": {
        "id": "X-3LPyxx3wk_"
      },
      "source": [
        "from osgeo import gdal_array\n",
        "from osgeo import gdal\n",
        "import numpy as np\n",
        "from sklearn.metrics import mean_squared_error\n",
        "from sklearn.metrics import mean_absolute_error\n",
        "from math import sqrt\n",
        "from sklearn.metrics import r2_score"
      ],
      "execution_count": 4,
      "outputs": []
    },
    {
      "cell_type": "markdown",
      "metadata": {
        "id": "GJSRAuLP30o0"
      },
      "source": [
        "# Load the data set"
      ]
    },
    {
      "cell_type": "code",
      "metadata": {
        "id": "EKEsYuPfX12b"
      },
      "source": [
        "filepath= \"/content/drive/MyDrive/dataset_for_fusion/ls_sa_ndvi_training_set_c.dat\"\n",
        "raster = gdal.Open(filepath)\n",
        "rasterArray = raster.ReadAsArray()\n",
        "b1 = rasterArray[0,0:rasterArray.shape[1],0:rasterArray.shape[2]]\n",
        "b2 = rasterArray[1,0:rasterArray.shape[1],0:rasterArray.shape[2]]\n",
        "b3 = rasterArray[2,0:rasterArray.shape[1],0:rasterArray.shape[2]]\n",
        "b4 = rasterArray[3,0:rasterArray.shape[1],0:rasterArray.shape[2]]\n",
        "b5 = rasterArray[4,0:rasterArray.shape[1],0:rasterArray.shape[2]]\n",
        "b6 = rasterArray[5,0:rasterArray.shape[1],0:rasterArray.shape[2]]"
      ],
      "execution_count": 5,
      "outputs": []
    },
    {
      "cell_type": "code",
      "metadata": {
        "colab": {
          "base_uri": "https://localhost:8080/"
        },
        "id": "2dkQfAsxYFho",
        "outputId": "001a2b9a-57e7-46d8-9cfb-ccb469a2bb3b"
      },
      "source": [
        "rasterArray.shape"
      ],
      "execution_count": 6,
      "outputs": [
        {
          "output_type": "execute_result",
          "data": {
            "text/plain": [
              "(6, 2661, 3395)"
            ]
          },
          "metadata": {
            "tags": []
          },
          "execution_count": 6
        }
      ]
    },
    {
      "cell_type": "markdown",
      "metadata": {
        "id": "_W9n6NApTzn8"
      },
      "source": [
        "# Reshape the input into individual band"
      ]
    },
    {
      "cell_type": "code",
      "metadata": {
        "id": "o-KE1-mHX3Zt"
      },
      "source": [
        "b11=np.reshape(b1,(b1.shape[0]*b1.shape[1],))\n",
        "b22=np.reshape(b2,(b2.shape[0]*b2.shape[1],))\n",
        "b33=np.reshape(b3,(b3.shape[0]*b3.shape[1],))\n",
        "b44=np.reshape(b4,(b4.shape[0]*b4.shape[1],))\n",
        "b55=np.reshape(b5,(b5.shape[0]*b5.shape[1],))\n",
        "b66=np.reshape(b6,(b6.shape[0]*b6.shape[1],))"
      ],
      "execution_count": 7,
      "outputs": []
    },
    {
      "cell_type": "code",
      "metadata": {
        "colab": {
          "base_uri": "https://localhost:8080/"
        },
        "id": "c3UBZ_K8YM_8",
        "outputId": "dab3566c-d391-4488-bc92-f61d0a6e46fb"
      },
      "source": [
        "b11.shape"
      ],
      "execution_count": 8,
      "outputs": [
        {
          "output_type": "execute_result",
          "data": {
            "text/plain": [
              "(9034095,)"
            ]
          },
          "metadata": {
            "tags": []
          },
          "execution_count": 8
        }
      ]
    },
    {
      "cell_type": "markdown",
      "metadata": {
        "id": "hW-R0irjT6ak"
      },
      "source": [
        "# Divide the image into small sliding tiles"
      ]
    },
    {
      "cell_type": "code",
      "metadata": {
        "id": "ezbrdDWkYwOQ"
      },
      "source": [
        "train_x=np.stack((b11,b33,b55),axis=-1)"
      ],
      "execution_count": 9,
      "outputs": []
    },
    {
      "cell_type": "code",
      "metadata": {
        "id": "jQkBsMo5NKXK"
      },
      "source": [
        "tile_size=3"
      ],
      "execution_count": 17,
      "outputs": []
    },
    {
      "cell_type": "code",
      "metadata": {
        "id": "VZxU-MGO--oJ"
      },
      "source": [
        "list_small_tiles=[]\n",
        "list_small_tiles.clear()\n",
        "for i in range(train_x.shape[0]-tile_size):\n",
        "  list_small_tiles.append(train_x[i:i+tile_size])\n",
        "list_small_tiles.append(train_x[i:i+tile_size])\n",
        "list_small_tiles.append(train_x[i+1:i+tile_size+1])"
      ],
      "execution_count": 18,
      "outputs": []
    },
    {
      "cell_type": "code",
      "metadata": {
        "colab": {
          "base_uri": "https://localhost:8080/"
        },
        "id": "f6x7f-io_deW",
        "outputId": "9e25ce2a-5735-401c-9cd0-cf0fea8d6410"
      },
      "source": [
        "len(list_small_tiles)"
      ],
      "execution_count": 19,
      "outputs": [
        {
          "output_type": "execute_result",
          "data": {
            "text/plain": [
              "9034094"
            ]
          },
          "metadata": {
            "tags": []
          },
          "execution_count": 19
        }
      ]
    },
    {
      "cell_type": "code",
      "metadata": {
        "id": "aKibWnBQAeV-"
      },
      "source": [
        "x=np.array(list_small_tiles)"
      ],
      "execution_count": 20,
      "outputs": []
    },
    {
      "cell_type": "code",
      "metadata": {
        "id": "h95ofI0fVub4"
      },
      "source": [
        "x=np.reshape(x,(x.shape[0],x.shape[1],x.shape[2],1))"
      ],
      "execution_count": 21,
      "outputs": []
    },
    {
      "cell_type": "code",
      "metadata": {
        "id": "pED7Nqtsc1nb"
      },
      "source": [
        "train_y=b22[:-tile_size+2]"
      ],
      "execution_count": 22,
      "outputs": []
    },
    {
      "cell_type": "code",
      "metadata": {
        "colab": {
          "base_uri": "https://localhost:8080/"
        },
        "id": "IiccB7qvY_jK",
        "outputId": "9fa494ba-e2d9-42e7-9d40-69a3c3277efb"
      },
      "source": [
        "print(x.shape)\n",
        "print(train_y.shape)"
      ],
      "execution_count": 23,
      "outputs": [
        {
          "output_type": "stream",
          "text": [
            "(9034094, 3, 3, 1)\n",
            "(9034094,)\n"
          ],
          "name": "stdout"
        }
      ]
    },
    {
      "cell_type": "markdown",
      "metadata": {
        "id": "-Rl6ChTD_kA1"
      },
      "source": [
        "# Design CNN network"
      ]
    },
    {
      "cell_type": "code",
      "metadata": {
        "id": "tddd3tgTZF8z"
      },
      "source": [
        "from keras.models import Sequential\n",
        "from keras.layers import Dense, Dropout,Flatten, Conv2D, Conv1D,BatchNormalization, MaxPool2D,GlobalAvgPool1D\n",
        "from keras import backend\n",
        "\n",
        "model=Sequential()\n",
        "model.add(Conv2D(filters=25, kernel_size=2, activation='relu',padding='same', input_shape=(3,3,1)))\n",
        "model.add(MaxPool2D(2))\n",
        "model.add(Conv2D(filters=50,kernel_size=2,activation='relu',padding='same'))\n",
        "#model.add(MaxPool2D(1))\n",
        "model.add(Flatten())\n",
        "model.add(Dense(1))"
      ],
      "execution_count": 27,
      "outputs": []
    },
    {
      "cell_type": "code",
      "metadata": {
        "colab": {
          "base_uri": "https://localhost:8080/"
        },
        "id": "NuwOowjsy0BN",
        "outputId": "45f93fcb-f846-49fc-8284-9431b34ec603"
      },
      "source": [
        "model.summary()"
      ],
      "execution_count": 28,
      "outputs": [
        {
          "output_type": "stream",
          "text": [
            "Model: \"sequential_2\"\n",
            "_________________________________________________________________\n",
            "Layer (type)                 Output Shape              Param #   \n",
            "=================================================================\n",
            "conv2d_4 (Conv2D)            (None, 3, 3, 25)          125       \n",
            "_________________________________________________________________\n",
            "max_pooling2d_3 (MaxPooling2 (None, 1, 1, 25)          0         \n",
            "_________________________________________________________________\n",
            "conv2d_5 (Conv2D)            (None, 1, 1, 50)          5050      \n",
            "_________________________________________________________________\n",
            "flatten_2 (Flatten)          (None, 50)                0         \n",
            "_________________________________________________________________\n",
            "dense_2 (Dense)              (None, 1)                 51        \n",
            "=================================================================\n",
            "Total params: 5,226\n",
            "Trainable params: 5,226\n",
            "Non-trainable params: 0\n",
            "_________________________________________________________________\n"
          ],
          "name": "stdout"
        }
      ]
    },
    {
      "cell_type": "code",
      "metadata": {
        "id": "zt2WCfWP7mrr",
        "colab": {
          "base_uri": "https://localhost:8080/"
        },
        "outputId": "826e40a4-6b2d-4118-8280-7f7231c912c7"
      },
      "source": [
        "import time\n",
        "train_s_time=time.clock()\n",
        "model.compile(loss='mse', optimizer='adam',metrics=['mse','mae'])"
      ],
      "execution_count": 32,
      "outputs": [
        {
          "output_type": "stream",
          "text": [
            "/usr/local/lib/python3.7/dist-packages/ipykernel_launcher.py:2: DeprecationWarning: time.clock has been deprecated in Python 3.3 and will be removed from Python 3.8: use time.perf_counter or time.process_time instead\n",
            "  \n"
          ],
          "name": "stderr"
        }
      ]
    },
    {
      "cell_type": "code",
      "metadata": {
        "colab": {
          "base_uri": "https://localhost:8080/"
        },
        "id": "TteUR8DMA_MH",
        "outputId": "4257f0ac-3249-4f3e-ebec-770feb503cd1"
      },
      "source": [
        "from keras.callbacks import EarlyStopping\n",
        "es = EarlyStopping(monitor='val_loss',patience=10,verbose=1)\n",
        "history=model.fit(x, \n",
        "    train_y, \n",
        "    epochs=20,\n",
        "    batch_size=100,\n",
        "    validation_split=0.2,\n",
        "    verbose=2,\n",
        "    callbacks=[es])\n",
        "print(\"training time\"+str(time.clock()-train_s_time)+'secs.')"
      ],
      "execution_count": 33,
      "outputs": [
        {
          "output_type": "stream",
          "text": [
            "Epoch 1/20\n",
            "72273/72273 - 167s - loss: 9.9432e-04 - mse: 9.9432e-04 - mae: 0.0229 - val_loss: 0.0010 - val_mse: 0.0010 - val_mae: 0.0236\n",
            "Epoch 2/20\n",
            "72273/72273 - 166s - loss: 9.7952e-04 - mse: 9.7952e-04 - mae: 0.0227 - val_loss: 0.0010 - val_mse: 0.0010 - val_mae: 0.0244\n",
            "Epoch 3/20\n",
            "72273/72273 - 165s - loss: 9.7238e-04 - mse: 9.7238e-04 - mae: 0.0226 - val_loss: 0.0010 - val_mse: 0.0010 - val_mae: 0.0239\n",
            "Epoch 4/20\n",
            "72273/72273 - 165s - loss: 9.6793e-04 - mse: 9.6793e-04 - mae: 0.0225 - val_loss: 0.0010 - val_mse: 0.0010 - val_mae: 0.0238\n",
            "Epoch 5/20\n",
            "72273/72273 - 165s - loss: 9.6453e-04 - mse: 9.6453e-04 - mae: 0.0225 - val_loss: 0.0011 - val_mse: 0.0011 - val_mae: 0.0241\n",
            "Epoch 6/20\n",
            "72273/72273 - 165s - loss: 9.6224e-04 - mse: 9.6224e-04 - mae: 0.0224 - val_loss: 0.0010 - val_mse: 0.0010 - val_mae: 0.0235\n",
            "Epoch 7/20\n",
            "72273/72273 - 164s - loss: 9.6040e-04 - mse: 9.6040e-04 - mae: 0.0224 - val_loss: 0.0010 - val_mse: 0.0010 - val_mae: 0.0233\n",
            "Epoch 8/20\n",
            "72273/72273 - 165s - loss: 9.5911e-04 - mse: 9.5911e-04 - mae: 0.0224 - val_loss: 9.9772e-04 - val_mse: 9.9772e-04 - val_mae: 0.0235\n",
            "Epoch 9/20\n",
            "72273/72273 - 165s - loss: 9.5791e-04 - mse: 9.5791e-04 - mae: 0.0224 - val_loss: 0.0010 - val_mse: 0.0010 - val_mae: 0.0238\n",
            "Epoch 10/20\n",
            "72273/72273 - 165s - loss: 9.5644e-04 - mse: 9.5644e-04 - mae: 0.0224 - val_loss: 0.0010 - val_mse: 0.0010 - val_mae: 0.0236\n",
            "Epoch 11/20\n",
            "72273/72273 - 164s - loss: 9.5519e-04 - mse: 9.5519e-04 - mae: 0.0224 - val_loss: 0.0010 - val_mse: 0.0010 - val_mae: 0.0239\n",
            "Epoch 12/20\n",
            "72273/72273 - 164s - loss: 9.5439e-04 - mse: 9.5439e-04 - mae: 0.0224 - val_loss: 9.9341e-04 - val_mse: 9.9341e-04 - val_mae: 0.0232\n",
            "Epoch 13/20\n",
            "72273/72273 - 165s - loss: 9.5367e-04 - mse: 9.5367e-04 - mae: 0.0223 - val_loss: 0.0010 - val_mse: 0.0010 - val_mae: 0.0238\n",
            "Epoch 14/20\n",
            "72273/72273 - 165s - loss: 9.5296e-04 - mse: 9.5296e-04 - mae: 0.0223 - val_loss: 9.8379e-04 - val_mse: 9.8379e-04 - val_mae: 0.0233\n",
            "Epoch 15/20\n",
            "72273/72273 - 165s - loss: 9.5226e-04 - mse: 9.5226e-04 - mae: 0.0223 - val_loss: 9.8377e-04 - val_mse: 9.8377e-04 - val_mae: 0.0232\n",
            "Epoch 16/20\n",
            "72273/72273 - 164s - loss: 9.5192e-04 - mse: 9.5192e-04 - mae: 0.0223 - val_loss: 9.7179e-04 - val_mse: 9.7179e-04 - val_mae: 0.0230\n",
            "Epoch 17/20\n",
            "72273/72273 - 165s - loss: 9.5147e-04 - mse: 9.5147e-04 - mae: 0.0223 - val_loss: 0.0010 - val_mse: 0.0010 - val_mae: 0.0238\n",
            "Epoch 18/20\n",
            "72273/72273 - 164s - loss: 9.5103e-04 - mse: 9.5103e-04 - mae: 0.0223 - val_loss: 9.6215e-04 - val_mse: 9.6215e-04 - val_mae: 0.0230\n",
            "Epoch 19/20\n",
            "72273/72273 - 165s - loss: 9.5079e-04 - mse: 9.5079e-04 - mae: 0.0223 - val_loss: 9.9384e-04 - val_mse: 9.9384e-04 - val_mae: 0.0236\n",
            "Epoch 20/20\n",
            "72273/72273 - 164s - loss: 9.5018e-04 - mse: 9.5018e-04 - mae: 0.0223 - val_loss: 9.8752e-04 - val_mse: 9.8752e-04 - val_mae: 0.0233\n",
            "training time4643.755569secs.\n"
          ],
          "name": "stdout"
        },
        {
          "output_type": "stream",
          "text": [
            "/usr/local/lib/python3.7/dist-packages/ipykernel_launcher.py:10: DeprecationWarning: time.clock has been deprecated in Python 3.3 and will be removed from Python 3.8: use time.perf_counter or time.process_time instead\n",
            "  # Remove the CWD from sys.path while we load stuff.\n"
          ],
          "name": "stderr"
        }
      ]
    },
    {
      "cell_type": "code",
      "metadata": {
        "colab": {
          "base_uri": "https://localhost:8080/",
          "height": 265
        },
        "id": "IwpwrxeVO-2h",
        "outputId": "a243d9ac-11ed-486c-89e5-ba6aae8209c0"
      },
      "source": [
        "#plot history\n",
        "from matplotlib import pyplot\n",
        "pyplot.plot(history.history['loss'], label='train-loss')\n",
        "pyplot.plot(history.history['val_loss'], label='validation-loss')\n",
        "pyplot.legend()\n",
        "pyplot.show()"
      ],
      "execution_count": 34,
      "outputs": [
        {
          "output_type": "display_data",
          "data": {
            "image/png": "[encoded data removed]",
            "text/plain": [
              "<Figure size 432x288 with 1 Axes>"
            ]
          },
          "metadata": {
            "tags": [],
            "needs_background": "light"
          }
        }
      ]
    },
    {
      "cell_type": "code",
      "metadata": {
        "id": "_4ib56dDhsto"
      },
      "source": [
        "#save the model for later uses\n",
        "model.save(\"CNN-Train-four-band.h5\",overwrite=True)"
      ],
      "execution_count": null,
      "outputs": []
    },
    {
      "cell_type": "code",
      "metadata": {
        "id": "H1Uerc3lleva"
      },
      "source": [
        "filename=\"/content/drive/My Drive/GIS/ls_sa_ndvi_testing_set_c.dat\"\n",
        "raster = gdal.Open(filename)\n",
        "rasterArray = raster.ReadAsArray()\n",
        "tb1 = rasterArray[0,0:rasterArray.shape[1],0:rasterArray.shape[2]]\n",
        "tb2 = rasterArray[1,0:rasterArray.shape[1],0:rasterArray.shape[2]]\n",
        "tb3 = rasterArray[2,0:rasterArray.shape[1],0:rasterArray.shape[2]]\n",
        "tb4 = rasterArray[3,0:rasterArray.shape[1],0:rasterArray.shape[2]]\n",
        "tb5 = rasterArray[4,0:rasterArray.shape[1],0:rasterArray.shape[2]]\n",
        "tb6 = rasterArray[5,0:rasterArray.shape[1],0:rasterArray.shape[2]]\n",
        "tb1_reshape=np.reshape(tb1,(tb1.shape[0]*tb1.shape[1],))\n",
        "tb3_reshape=np.reshape(tb3,(tb3.shape[0]*tb3.shape[1],))\n",
        "tb4_reshape=np.reshape(tb4,(tb4.shape[0]*tb4.shape[1],))\n",
        "tb5_reshape=np.reshape(tb5,(tb5.shape[0]*tb5.shape[1],))\n",
        "tb6_reshape=np.reshape(tb6,(tb6.shape[0]*tb6.shape[1]))\n",
        "tb2_reshape=np.reshape(tb2,(tb2.shape[0]*tb2.shape[1],))"
      ],
      "execution_count": null,
      "outputs": []
    },
    {
      "cell_type": "code",
      "metadata": {
        "id": "xnoIAAqH1xMR"
      },
      "source": [
        "tile_size=3"
      ],
      "execution_count": null,
      "outputs": []
    },
    {
      "cell_type": "code",
      "metadata": {
        "id": "yJ5ixn_SnVNj"
      },
      "source": [
        "test_x=np.stack((tb1_reshape,tb3_reshape,tb5_reshape),axis=-1)\n",
        "test_y=tb2_reshape\n"
      ],
      "execution_count": null,
      "outputs": []
    },
    {
      "cell_type": "code",
      "metadata": {
        "id": "KLIyprW3DCrH"
      },
      "source": [
        "list_small_tiles=[]\n",
        "list_small_tiles.clear()\n",
        "for i in range(test_x.shape[0]-tile_size):\n",
        "  list_small_tiles.append(test_x[i:i+tile_size])\n",
        "list_small_tiles.append(test_x[i:i+tile_size])\n",
        "list_small_tiles.append(test_x[i+1:i+tile_size+1])"
      ],
      "execution_count": null,
      "outputs": []
    },
    {
      "cell_type": "code",
      "metadata": {
        "id": "N5X_IqNUDOxd"
      },
      "source": [
        "test_x=np.array(list_small_tiles)\n",
        "test_x=np.reshape(test_x,(test_x.shape[0],tile_size,tile_size,1))"
      ],
      "execution_count": null,
      "outputs": []
    },
    {
      "cell_type": "code",
      "metadata": {
        "id": "hsOHjD9ih-jp"
      },
      "source": [
        "test_y=test_y[:-tile_size+2]"
      ],
      "execution_count": null,
      "outputs": []
    },
    {
      "cell_type": "code",
      "metadata": {
        "colab": {
          "base_uri": "https://localhost:8080/",
          "height": 51
        },
        "id": "NpJQKoP-nuCM",
        "outputId": "515a8481-5364-4af7-fe4b-78e1d21badd8"
      },
      "source": [
        "#check for x and y shape\n",
        "print(test_x.shape)\n",
        "print(test_y.shape)"
      ],
      "execution_count": null,
      "outputs": [
        {
          "output_type": "stream",
          "text": [
            "(9548279, 3, 3, 1)\n",
            "(9548279,)\n"
          ],
          "name": "stdout"
        }
      ]
    },
    {
      "cell_type": "code",
      "metadata": {
        "colab": {
          "base_uri": "https://localhost:8080/",
          "height": 34
        },
        "id": "EFVEY0uiu4Eb",
        "outputId": "fc0d96b5-6976-4b92-9f15-4f4ecc8ef765"
      },
      "source": [
        "from keras.models import load_model\n",
        "model=load_model('/content/CNN-Train-four-band.h5')"
      ],
      "execution_count": null,
      "outputs": [
        {
          "output_type": "stream",
          "text": [
            "Using TensorFlow backend.\n"
          ],
          "name": "stderr"
        }
      ]
    },
    {
      "cell_type": "code",
      "metadata": {
        "colab": {
          "base_uri": "https://localhost:8080/",
          "height": 68
        },
        "id": "kWag_BoBnZRD",
        "outputId": "94a97d30-2b63-45c4-85f2-63b4acb0094a"
      },
      "source": [
        "#whole test data performance evaluations\n",
        "pred_y=model.predict(test_x)\n",
        "print(\"r2 score: %.6f\" %r2_score(test_y,pred_y))\n",
        "rmse = sqrt(mean_squared_error(test_y,pred_y))\n",
        "print('Test RMSE: %.3f' % rmse)\n",
        "# calculate MAE\n",
        "mae = mean_absolute_error(test_y,pred_y)\n",
        "print('Test MAE: %.3f' % mae)"
      ],
      "execution_count": null,
      "outputs": [
        {
          "output_type": "stream",
          "text": [
            "r2 score: 0.887235\n",
            "Test RMSE: 0.039\n",
            "Test MAE: 0.029\n"
          ],
          "name": "stdout"
        }
      ]
    },
    {
      "cell_type": "code",
      "metadata": {
        "colab": {
          "base_uri": "https://localhost:8080/",
          "height": 34
        },
        "id": "eZlIAa7GPpli",
        "outputId": "cd02cfd1-c645-486f-cf80-e7f30d5941a7"
      },
      "source": [
        "tb2_reshape.shape"
      ],
      "execution_count": null,
      "outputs": [
        {
          "output_type": "execute_result",
          "data": {
            "text/plain": [
              "(9548280,)"
            ]
          },
          "metadata": {
            "tags": []
          },
          "execution_count": 12
        }
      ]
    },
    {
      "cell_type": "code",
      "metadata": {
        "colab": {
          "base_uri": "https://localhost:8080/",
          "height": 34
        },
        "id": "DaAK2v4GPkAa",
        "outputId": "904539c0-f928-4396-8ff7-e89dcb1f8112"
      },
      "source": [
        "a=np.pad(pred_y.ravel(), (1,0),\"edge\")\n",
        "a.shape"
      ],
      "execution_count": null,
      "outputs": [
        {
          "output_type": "execute_result",
          "data": {
            "text/plain": [
              "(9548280,)"
            ]
          },
          "metadata": {
            "tags": []
          },
          "execution_count": 13
        }
      ]
    },
    {
      "cell_type": "code",
      "metadata": {
        "id": "3s2c_XvoRmzz"
      },
      "source": [
        "np.savetxt(\"CNN_four_band_Nepal.csv\", a, delimiter=\",\")"
      ],
      "execution_count": null,
      "outputs": []
    },
    {
      "cell_type": "code",
      "metadata": {
        "id": "or_GVn3pguJX"
      },
      "source": [
        "#divide the test cases"
      ],
      "execution_count": null,
      "outputs": []
    },
    {
      "cell_type": "code",
      "metadata": {
        "id": "UuPvzUP1g1MS"
      },
      "source": [
        "j=0\n",
        "case1_x=[]\n",
        "case1_y=[]\n",
        "case2_x=[]\n",
        "case2_y=[]\n",
        "case3_x=[]\n",
        "case3_y=[]\n",
        "case4_x=[]\n",
        "case4_y=[]\n",
        "case5_x=[]\n",
        "case5_y=[]\n",
        "case6_x=[]\n",
        "case6_y=[]\n",
        "case7_x=[]\n",
        "case7_y=[]\n",
        "case8_x=[]\n",
        "case8_y=[]\n",
        "case9_x=[]\n",
        "case9_y=[]\n",
        "for i in range(tb1.size):\n",
        "    if(tb1_reshape[i]<tb2_reshape[i]<tb3_reshape[i]):\n",
        "        case1_x.append([tb1_reshape[i],tb3_reshape[i],tb5_reshape[i]])\n",
        "        case1_y.append(tb2_reshape[i])\n",
        "    elif(tb1_reshape[i]<tb2_reshape[i]==tb3_reshape[i]):\n",
        "        case2_x.append([tb1_reshape[i],tb3_reshape[i],tb5_reshape[i]])\n",
        "        case2_y.append(tb2_reshape[i])\n",
        "    elif(tb1_reshape[i]<tb2_reshape[i]>tb3_reshape[i]):\n",
        "        case3_x.append([tb1_reshape[i],tb3_reshape[i],tb5_reshape[i]])\n",
        "        case3_y.append(tb2_reshape[i])\n",
        "    elif(tb1_reshape[i]==tb2_reshape[i]<tb3_reshape[i]):\n",
        "        case4_x.append([tb1_reshape[i],tb3_reshape[i],tb5_reshape[i]])\n",
        "        case4_y.append(tb2_reshape[i])\n",
        "    elif(tb1_reshape[i]==tb2_reshape[i]==tb3_reshape[i]):\n",
        "        case5_x.append([tb1_reshape[i],tb3_reshape[i],tb5_reshape[i]])\n",
        "        case5_y.append(tb2_reshape[i])\n",
        "    elif(tb1_reshape[i]==tb2_reshape[i]>tb3_reshape[i]):\n",
        "        case6_x.append([tb1_reshape[i],tb3_reshape[i],tb5_reshape[i]])\n",
        "        case6_y.append(tb2_reshape[i])\n",
        "    elif(tb1_reshape[i]>tb2_reshape[i]<tb3_reshape[i]):\n",
        "        case7_x.append([tb1_reshape[i],tb3_reshape[i],tb5_reshape[i]])\n",
        "        case7_y.append(tb2_reshape[i])\n",
        "    elif(tb1_reshape[i]>tb2_reshape[i]==tb3_reshape[i]):\n",
        "        case8_x.append([tb1_reshape[i],tb3_reshape[i],tb5_reshape[i]])\n",
        "        case8_y.append(tb2_reshape[i])\n",
        "    elif(tb1_reshape[i]>tb2_reshape[i]>tb3_reshape[i]):\n",
        "        case9_x.append([tb1_reshape[i],tb3_reshape[i],tb5_reshape[i]])\n",
        "        case9_y.append(tb2_reshape[i])"
      ],
      "execution_count": null,
      "outputs": []
    },
    {
      "cell_type": "code",
      "metadata": {
        "id": "VIdPAgrbsNHO"
      },
      "source": [
        "def prepare_case(x,y):\n",
        "  x=np.array(x)\n",
        "  y=np.array(y)\n",
        "  small_tiles=[]\n",
        "  small_tiles.clear()\n",
        "  for i in range(x.shape[0]-tile_size):\n",
        "    small_tiles.append(x[i:i+tile_size])\n",
        "  small_tiles.append(x[i:i+tile_size])\n",
        "  small_tiles.append(x[i+1:i+tile_size+1])\n",
        "  test_x=np.array(small_tiles)\n",
        "  test_x=np.reshape(test_x,(test_x.shape[0],tile_size,tile_size,1))\n",
        "  test_y=y[:-tile_size+2]\n",
        "  return (test_x,test_y)"
      ],
      "execution_count": null,
      "outputs": []
    },
    {
      "cell_type": "code",
      "metadata": {
        "id": "Elcm6D17hNLn"
      },
      "source": [
        "def predict_case(test_x,test_y):\n",
        "    pred_y=model.predict(test_x)\n",
        "    print(\"r2 score: %.6f\" %r2_score(test_y,pred_y))\n",
        "    rmse = sqrt(mean_squared_error(test_y,pred_y))\n",
        "    print('Test RMSE: %.3f' % rmse)\n",
        "    # calculate MAE\n",
        "    mae = mean_absolute_error(test_y,pred_y)\n",
        "    print('Test MAE: %.3f' % mae)\n",
        "    return pred_y"
      ],
      "execution_count": null,
      "outputs": []
    },
    {
      "cell_type": "code",
      "metadata": {
        "colab": {
          "base_uri": "https://localhost:8080/",
          "height": 70
        },
        "id": "dhixm7SHw5-g",
        "outputId": "2879323e-2080-42f6-b63a-7473ca0bb91a"
      },
      "source": [
        "x1,y1=prepare_case(case1_x,case1_y)\n",
        "y1_hat=predict_case(x1,y1)"
      ],
      "execution_count": null,
      "outputs": [
        {
          "output_type": "stream",
          "text": [
            "r2 score: 0.779454\n",
            "Test RMSE: 0.055\n",
            "Test MAE: 0.045\n"
          ],
          "name": "stdout"
        }
      ]
    },
    {
      "cell_type": "code",
      "metadata": {
        "colab": {
          "base_uri": "https://localhost:8080/",
          "height": 70
        },
        "id": "HR3GdZjthtun",
        "outputId": "fa62819a-29b4-475d-ad3c-3fbf94f62b41"
      },
      "source": [
        "x3,y3=prepare_case(case3_x,case3_y)\n",
        "y3_hat=predict_case(x3,y3)"
      ],
      "execution_count": null,
      "outputs": [
        {
          "output_type": "stream",
          "text": [
            "r2 score: 0.634811\n",
            "Test RMSE: 0.092\n",
            "Test MAE: 0.075\n"
          ],
          "name": "stdout"
        }
      ]
    },
    {
      "cell_type": "code",
      "metadata": {
        "colab": {
          "base_uri": "https://localhost:8080/",
          "height": 70
        },
        "id": "tXazMrPXxF0z",
        "outputId": "4e884a78-bb13-4cbb-ae53-3ef4b7f7342d"
      },
      "source": [
        "x7,y7=prepare_case(case7_x,case7_y)\n",
        "y7_hat=predict_case(x7,y7)"
      ],
      "execution_count": null,
      "outputs": [
        {
          "output_type": "stream",
          "text": [
            "r2 score: 0.435125\n",
            "Test RMSE: 0.078\n",
            "Test MAE: 0.045\n"
          ],
          "name": "stdout"
        }
      ]
    },
    {
      "cell_type": "code",
      "metadata": {
        "colab": {
          "base_uri": "https://localhost:8080/",
          "height": 70
        },
        "id": "QIvisyDh4q2q",
        "outputId": "caf4919a-98d5-4cd0-b718-3662e3e47fd5"
      },
      "source": [
        "x9,y9=prepare_case(case9_x,case9_y)\n",
        "y9_hat=predict_case(x9,y9)"
      ],
      "execution_count": null,
      "outputs": [
        {
          "output_type": "stream",
          "text": [
            "r2 score: 0.809641\n",
            "Test RMSE: 0.075\n",
            "Test MAE: 0.046\n"
          ],
          "name": "stdout"
        }
      ]
    },
    {
      "cell_type": "code",
      "metadata": {
        "id": "cMAZwJbmgH1o"
      },
      "source": [
        ""
      ],
      "execution_count": null,
      "outputs": []
    }
  ]
}