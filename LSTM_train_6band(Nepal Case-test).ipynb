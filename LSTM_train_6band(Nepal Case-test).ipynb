{
 "cells": [
  {
   "cell_type": "code",
   "execution_count": null,
   "metadata": {},
   "outputs": [],
   "source": [
    "# check GPU status\n",
    "%tensorflow_version 2.x\n",
    "import tensorflow as tf\n",
    "device_name = tf.test.gpu_device_name()\n",
    "if device_name != '/device:GPU:0':\n",
    "  raise SystemError('GPU device not found')\n",
    "print('Found GPU at: {}'.format(device_name))"
   ]
  },
  {
   "cell_type": "code",
   "execution_count": null,
   "metadata": {},
   "outputs": [],
   "source": [
    "# import necessary packages and trainig data\n",
    "from osgeo import gdal_array\n",
    "from osgeo import gdal\n",
    "import numpy as np\n",
    "filepath= \"/content/drive/My Drive/GIS/ls_sa_ndvi_training_set_c.dat\"\n",
    "raster = gdal.Open(filepath)\n",
    "rasterArray = raster.ReadAsArray()\n",
    "b1 = rasterArray[0,0:rasterArray.shape[1],0:rasterArray.shape[2]]\n",
    "b2 = rasterArray[1,0:rasterArray.shape[1],0:rasterArray.shape[2]]\n",
    "b3 = rasterArray[2,0:rasterArray.shape[1],0:rasterArray.shape[2]]\n",
    "b4 = rasterArray[3,0:rasterArray.shape[1],0:rasterArray.shape[2]]\n",
    "b5 = rasterArray[4,0:rasterArray.shape[1],0:rasterArray.shape[2]]\n",
    "b6 = rasterArray[5,0:rasterArray.shape[1],0:rasterArray.shape[2]]"
   ]
  },
  {
   "cell_type": "code",
   "execution_count": null,
   "metadata": {},
   "outputs": [],
   "source": [
    "b11=np.reshape(b1,(b1.shape[0]*b1.shape[1],))\n",
    "b22=np.reshape(b2,(b2.shape[0]*b2.shape[1],))\n",
    "b33=np.reshape(b3,(b3.shape[0]*b3.shape[1],))\n",
    "b44=np.reshape(b4,(b4.shape[0]*b4.shape[1],))\n",
    "b55=np.reshape(b5,(b5.shape[0]*b5.shape[1],))\n",
    "b66=np.reshape(b6,(b6.shape[0]*b6.shape[1],))"
   ]
  },
  {
   "cell_type": "code",
   "execution_count": null,
   "metadata": {},
   "outputs": [],
   "source": [
    "data=np.stack((b11,b33,b44,b55,b66),axis=-1)\n",
    "target=b22"
   ]
  },
  {
   "cell_type": "code",
   "execution_count": null,
   "metadata": {},
   "outputs": [],
   "source": [
    "from pandas import DataFrame\n",
    "from pandas import concat\n",
    "import pandas as pd\n",
    "def series_to_supervised(data, n_in=1, n_out=1, dropnan=True):\n",
    "\tn_vars = 1 if type(data) is list else data.shape[1]\n",
    "\tdf = DataFrame(data)\n",
    "\tcols, names = list(), list()\n",
    "\t# input sequence (t-n, ... t-1)\n",
    "\tfor i in range(n_in, 0, -1):\n",
    "\t\tcols.append(df.shift(i))\n",
    "\t\tnames += [('var%d(t-%d)' % (j+1, i)) for j in range(n_vars)]\n",
    "\t# forecast sequence (t, t+1, ... t+n)\n",
    "\tfor i in range(0, n_out):\n",
    "\t\tcols.append(df.shift(-i))\n",
    "\t\tif i == 0:\n",
    "\t\t\tnames += [('var%d(t)' % (j+1)) for j in range(n_vars)]\n",
    "\t\telse:\n",
    "\t\t\tnames += [('var%d(t+%d)' % (j+1, i)) for j in range(n_vars)]\n",
    "\t# put it all together\n",
    "\tagg = concat(cols, axis=1)\n",
    "\tagg.columns = names\n",
    "\t# drop rows with NaN values\n",
    "\tif dropnan:\n",
    "\t\tagg.dropna(inplace=True)\n",
    "\treturn agg"
   ]
  },
  {
   "cell_type": "code",
   "execution_count": null,
   "metadata": {},
   "outputs": [],
   "source": [
    "n_lag=2\n",
    "n_feature=5"
   ]
  },
  {
   "cell_type": "code",
   "execution_count": null,
   "metadata": {},
   "outputs": [],
   "source": [
    "reframed=series_to_supervised(data,n_lag,1)"
   ]
  },
  {
   "cell_type": "code",
   "execution_count": null,
   "metadata": {},
   "outputs": [],
   "source": [
    "target_y=target[n_lag:]\n",
    "target_y=target_y.reshape(-1,1)\n",
    "values = reframed.values"
   ]
  },
  {
   "cell_type": "code",
   "execution_count": null,
   "metadata": {},
   "outputs": [],
   "source": [
    "n_train = int(values.shape[0] * 0.7)\n",
    "train_X,train_y = values[:n_train, :],target_y[:n_train]\n",
    "test_X, test_y = values[n_train:, :], target_y[n_train:]"
   ]
  },
  {
   "cell_type": "code",
   "execution_count": null,
   "metadata": {},
   "outputs": [],
   "source": [
    "assert (test_y.size + train_y.size) ==target_y.size"
   ]
  },
  {
   "cell_type": "code",
   "execution_count": null,
   "metadata": {},
   "outputs": [],
   "source": [
    "# reshape input to be 3D [samples, timesteps, features]\n",
    "train_X = np.reshape(train_X, (train_X.shape[0], n_lag+1, n_feature))\n",
    "test_X = np.reshape(test_X, (test_X.shape[0], n_lag+1, n_feature))"
   ]
  },
  {
   "cell_type": "code",
   "execution_count": null,
   "metadata": {},
   "outputs": [],
   "source": [
    "\n",
    "from keras.models import Sequential\n",
    "from keras.layers import Dense\n",
    "from keras.layers import LSTM, Dropout\n",
    "from keras.callbacks import EarlyStopping\n",
    "model = Sequential()\n",
    "model.add(LSTM(30, input_shape=(train_X.shape[1], train_X.shape[2])))\n",
    "model.Dropout(0.2)\n",
    "model.add(Dense(1))\n",
    "model.compile(loss='mse', optimizer='adam')\n",
    "model.summary()"
   ]
  },
  {
   "cell_type": "code",
   "execution_count": null,
   "metadata": {},
   "outputs": [],
   "source": [
    "from keras.callbacks import EarlyStopping\n",
    "# fit network\n",
    "#history = model.fit(train_X, train_y, epochs=50, batch_size=1000, validation_data=(test_X, test_y), verbose=2, shuffle=False)\n",
    "history = model.fit(train_X, train_y, epochs=100, batch_size=1000, validation_data=(test_X, test_y),callbacks=[EarlyStopping(monitor='val_loss', patience=10)], verbose=2, shuffle=False)"
   ]
  },
  {
   "cell_type": "code",
   "execution_count": null,
   "metadata": {},
   "outputs": [],
   "source": [
    "# loading test data\n",
    "filename=\"/content/drive/My Drive/GIS/ls_sa_ndvi_testing_set_c.dat\"\n",
    "raster = gdal.Open(filename)\n",
    "rasterArray = raster.ReadAsArray()\n",
    "tb1 = rasterArray[0,0:rasterArray.shape[1],0:rasterArray.shape[2]]\n",
    "tb2 = rasterArray[1,0:rasterArray.shape[1],0:rasterArray.shape[2]]\n",
    "tb3 = rasterArray[2,0:rasterArray.shape[1],0:rasterArray.shape[2]]\n",
    "tb4 = rasterArray[3,0:rasterArray.shape[1],0:rasterArray.shape[2]]\n",
    "tb5 = rasterArray[4,0:rasterArray.shape[1],0:rasterArray.shape[2]]\n",
    "tb6 = rasterArray[5,0:rasterArray.shape[1],0:rasterArray.shape[2]]\n",
    "tb1_reshape=np.reshape(tb1,(tb1.shape[0]*tb1.shape[1],))\n",
    "tb3_reshape=np.reshape(tb3,(tb3.shape[0]*tb3.shape[1],))\n",
    "tb4_reshape=np.reshape(tb4,(tb4.shape[0]*tb4.shape[1],))\n",
    "tb5_reshape=np.reshape(tb5,(tb5.shape[0]*tb5.shape[1],))\n",
    "tb6_reshape=np.reshape(tb6,(tb6.shape[0]*tb6.shape[1]))\n",
    "tb2_reshape=np.reshape(tb2,(tb2.shape[0]*tb2.shape[1],))"
   ]
  },
  {
   "cell_type": "code",
   "execution_count": null,
   "metadata": {},
   "outputs": [],
   "source": [
    "test_data=np.stack((tb1_reshape,tb3_reshape,tb4_reshape,tb5_reshape, tb6_reshape),axis=-1)\n",
    "target=tb2_reshape"
   ]
  },
  {
   "cell_type": "code",
   "execution_count": null,
   "metadata": {},
   "outputs": [],
   "source": [
    "n_lag=2\n",
    "n_feature=5"
   ]
  },
  {
   "cell_type": "code",
   "execution_count": null,
   "metadata": {},
   "outputs": [],
   "source": [
    "test_reframed=series_to_supervised(test_data,n_lag,1)\n",
    "test_values=test_reframed.values\n",
    "test_y=target[n_lag:]"
   ]
  },
  {
   "cell_type": "code",
   "execution_count": null,
   "metadata": {},
   "outputs": [],
   "source": [
    "test_X=test_reframed.values\n",
    "test_X = np.reshape(test_X, (test_X.shape[0], n_lag+1, n_feature))"
   ]
  },
  {
   "cell_type": "code",
   "execution_count": null,
   "metadata": {},
   "outputs": [],
   "source": [
    "#whole test data performance evaluations\n",
    "from sklearn.metrics import mean_squared_error\n",
    "from sklearn.metrics import mean_absolute_error\n",
    "from math import sqrt\n",
    "from sklearn.metrics import r2_score\n",
    "pred_y=model.predict(test_X)\n",
    "print(\"r2 score: %.6f\" %r2_score(test_y,pred_y))\n",
    "rmse = sqrt(mean_squared_error(test_y,pred_y))\n",
    "print('Test RMSE: %.3f' % rmse)\n",
    "# calculate MAE\n",
    "mae = mean_absolute_error(test_y,pred_y)\n",
    "print('Test MAE: %.3f' % mae)"
   ]
  },
  {
   "cell_type": "code",
   "execution_count": null,
   "metadata": {},
   "outputs": [],
   "source": [
    "j=0\n",
    "case1_x=[]\n",
    "case1_y=[]\n",
    "case2_x=[]\n",
    "case2_y=[]\n",
    "case3_x=[]\n",
    "case3_y=[]\n",
    "case4_x=[]\n",
    "case4_y=[]\n",
    "case5_x=[]\n",
    "case5_y=[]\n",
    "case6_x=[]\n",
    "case6_y=[]\n",
    "case7_x=[]\n",
    "case7_y=[]\n",
    "case8_x=[]\n",
    "case8_y=[]\n",
    "case9_x=[]\n",
    "case9_y=[]\n",
    "for i in range(tb1.size):\n",
    "    if(tb1_reshape[i]<tb2_reshape[i]<tb3_reshape[i]):\n",
    "        case1_x.append([tb1_reshape[i],tb3_reshape[i],tb5_reshape[i]])\n",
    "        case1_y.append(tb2_reshape[i])\n",
    "    elif(tb1_reshape[i]<tb2_reshape[i]==tb3_reshape[i]):\n",
    "        case2_x.append([tb1_reshape[i],tb3_reshape[i],tb5_reshape[i]])\n",
    "        case2_y.append(tb2_reshape[i])\n",
    "    elif(tb1_reshape[i]<tb2_reshape[i]>tb3_reshape[i]):\n",
    "        case3_x.append([tb1_reshape[i],tb3_reshape[i],tb5_reshape[i]])\n",
    "        case3_y.append(tb2_reshape[i])\n",
    "    elif(tb1_reshape[i]==tb2_reshape[i]<tb3_reshape[i]):\n",
    "        case4_x.append([tb1_reshape[i],tb3_reshape[i],tb5_reshape[i]])\n",
    "        case4_y.append(tb2_reshape[i])\n",
    "    elif(tb1_reshape[i]==tb2_reshape[i]==tb3_reshape[i]):\n",
    "        case5_x.append([tb1_reshape[i],tb3_reshape[i],tb5_reshape[i]])\n",
    "        case5_y.append(tb2_reshape[i])\n",
    "    elif(tb1_reshape[i]==tb2_reshape[i]>tb3_reshape[i]):\n",
    "        case6_x.append([tb1_reshape[i],tb3_reshape[i],tb5_reshape[i]])\n",
    "        case6_y.append(tb2_reshape[i])\n",
    "    elif(tb1_reshape[i]>tb2_reshape[i]<tb3_reshape[i]):\n",
    "        case7_x.append([tb1_reshape[i],tb3_reshape[i],tb5_reshape[i]])\n",
    "        case7_y.append(tb2_reshape[i])\n",
    "    elif(tb1_reshape[i]>tb2_reshape[i]==tb3_reshape[i]):\n",
    "        case8_x.append([tb1_reshape[i],tb3_reshape[i],tb5_reshape[i]])\n",
    "        case8_y.append(tb2_reshape[i])\n",
    "    elif(tb1_reshape[i]>tb2_reshape[i]>tb3_reshape[i]):\n",
    "        case9_x.append([tb1_reshape[i],tb3_reshape[i],tb5_reshape[i]])\n",
    "        case9_y.append(tb2_reshape[i])"
   ]
  },
  {
   "cell_type": "code",
   "execution_count": null,
   "metadata": {},
   "outputs": [],
   "source": [
    "from sklearn.metrics import mean_squared_error\n",
    "from sklearn.metrics import mean_absolute_error\n",
    "from math import sqrt\n",
    "from sklearn.metrics import r2_score\n",
    "def predict_case(x,y):\n",
    "    pred_y=model.predict(x)\n",
    "    print(\"r2 score %\",r2_score(y,pred_y))\n",
    "    rmse = sqrt(mean_squared_error(y,pred_y))\n",
    "    print('Test RMSE: %.3f' % rmse)\n",
    "    # calculate MAE\n",
    "    mae = mean_absolute_error(y,pred_y)\n",
    "    print('Test MAE: %.3f' % mae)\n",
    "    return(pred_y)"
   ]
  },
  {
   "cell_type": "code",
   "execution_count": null,
   "metadata": {},
   "outputs": [],
   "source": [
    "def prepare_case(case1_x,case1_y):\n",
    "    a=np.array(case1_x)\n",
    "    b=np.array(case1_y)\n",
    "    assert a.shape[0]==b.shape[0]\n",
    "    case1_x_data=series_to_supervised(a,n_lag,1)\n",
    "    y=b[n_lag:]\n",
    "    case1_x_data=case1_x_data.values\n",
    "    x = np.reshape(case1_x_data, (case1_x_data.shape[0], n_lag+1, n_feature))\n",
    "    return (x,y)"
   ]
  },
  {
   "cell_type": "code",
   "execution_count": null,
   "metadata": {},
   "outputs": [],
   "source": [
    "x,y=prepare_case(case1_x,case1_y)\n",
    "y1=predict_case(x,y)\n",
    "x,y=prepare_case(case3_x,case3_y)\n",
    "y3=predict_case(x,y)\n",
    "x,y=prepare_case(case7_x,case7_y)\n",
    "y7=predict_case(x,y)\n",
    "x,y=prepare_case(case9_x,case9_y)\n",
    "y9=predict_case(x,y)"
   ]
  },
  {
   "cell_type": "code",
   "execution_count": null,
   "metadata": {},
   "outputs": [],
   "source": [
    "## save trained model for later uses"
   ]
  },
  {
   "cell_type": "code",
   "execution_count": null,
   "metadata": {},
   "outputs": [],
   "source": [
    "# serialize model to JSON\n",
    "model_json = model.to_json()\n",
    "with open(\"LSTM-model-band4.json\", \"w\") as json_file:\n",
    "    json_file.write(model_json)\n",
    "# serialize weights to HDF5\n",
    "model.save_weights(\"LSTM-model-band4.h5\")\n",
    "print(\"Saved model to disk\")"
   ]
  }
 ],
 "metadata": {
  "kernelspec": {
   "display_name": "Python 3",
   "language": "python",
   "name": "python3"
  },
  "language_info": {
   "codemirror_mode": {
    "name": "ipython",
    "version": 3
   },
   "file_extension": ".py",
   "mimetype": "text/x-python",
   "name": "python",
   "nbconvert_exporter": "python",
   "pygments_lexer": "ipython3",
   "version": "3.7.7"
  }
 },
 "nbformat": 4,
 "nbformat_minor": 4
}
