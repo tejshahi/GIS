{
  "nbformat": 4,
  "nbformat_minor": 0,
  "metadata": {
    "colab": {
      "name": "RF_Train_4band(Training only).ipynb",
      "provenance": [],
      "include_colab_link": true
    },
    "kernelspec": {
      "display_name": "Python 3",
      "language": "python",
      "name": "python3"
    },
    "language_info": {
      "codemirror_mode": {
        "name": "ipython",
        "version": 3
      },
      "file_extension": ".py",
      "mimetype": "text/x-python",
      "name": "python",
      "nbconvert_exporter": "python",
      "pygments_lexer": "ipython3",
      "version": "3.5.5"
    }
  },
  "cells": [
    {
      "cell_type": "markdown",
      "metadata": {
        "id": "view-in-github",
        "colab_type": "text"
      },
      "source": [
        "<a href=\"https://colab.research.google.com/github/tejshahi/data_fusion/blob/master/RF_Train_4band(Training_only).ipynb\" target=\"_parent\"><img src=\"https://colab.research.google.com/assets/colab-badge.svg\" alt=\"Open In Colab\"/></a>"
      ]
    },
    {
      "cell_type": "markdown",
      "metadata": {
        "id": "TFVrmDkMid_D"
      },
      "source": [
        "### Import Necessary Package and Training Data"
      ]
    },
    {
      "cell_type": "code",
      "metadata": {
        "id": "EK9xqhTGO-tn"
      },
      "source": [
        "from osgeo import gdal_array\n",
        "from osgeo import gdal\n",
        "import numpy as np\n",
        "filepath= \"/content/drive/MyDrive/dataset_for_fusion/ls_sa_ndvi_training_set_c.dat\"\n",
        "raster = gdal.Open(filepath)\n",
        "rasterArray = raster.ReadAsArray()\n",
        "b1 = rasterArray[0,0:2661,0:3395]\n",
        "b2 = rasterArray[1,0:2661,0:3395]\n",
        "b3 = rasterArray[2,0:2661,0:3395]\n",
        "b4 = rasterArray[3,0:2661,0:3395]\n",
        "b5 = rasterArray[4,0:2661,0:3395]\n",
        "b6 = rasterArray[5,0:2661,0:3395]"
      ],
      "execution_count": null,
      "outputs": []
    },
    {
      "cell_type": "code",
      "metadata": {
        "colab": {
          "base_uri": "https://localhost:8080/",
          "height": 34
        },
        "id": "fYOrXuE5PPLL",
        "outputId": "ea63dc3f-090d-416d-f5a0-5513b1e5c27f"
      },
      "source": [
        "rasterArray.shape"
      ],
      "execution_count": null,
      "outputs": [
        {
          "output_type": "execute_result",
          "data": {
            "text/plain": [
              "(6, 2661, 3395)"
            ]
          },
          "metadata": {
            "tags": []
          },
          "execution_count": 3
        }
      ]
    },
    {
      "cell_type": "code",
      "metadata": {
        "id": "2tyznfMkPdUR"
      },
      "source": [
        "b11=np.reshape(b1,(b1.shape[0]*b1.shape[1],))\n",
        "b22=np.reshape(b2,(b2.shape[0]*b2.shape[1],))\n",
        "b33=np.reshape(b3,(b3.shape[0]*b3.shape[1],))\n",
        "b44=np.reshape(b4,(b4.shape[0]*b4.shape[1],))\n",
        "b55=np.reshape(b5,(b5.shape[0]*b5.shape[1],))\n",
        "b66=np.reshape(b6,(b6.shape[0]*b6.shape[1],))"
      ],
      "execution_count": null,
      "outputs": []
    },
    {
      "cell_type": "code",
      "metadata": {
        "id": "6-Ls1P_XPeDQ"
      },
      "source": [
        "train_x=np.stack((b11,b33,b55),axis=-1)"
      ],
      "execution_count": null,
      "outputs": []
    },
    {
      "cell_type": "code",
      "metadata": {
        "id": "1JKa7hh7PgmJ"
      },
      "source": [
        "#Search the optimal parameter once using grid-search, not included in training time\n",
        "from sklearn.ensemble import RandomForestRegressor\n",
        "from sklearn.model_selection import RandomizedSearchCV\n",
        "# Number of trees in random forest\n",
        "n_estimators = [int(x) for x in np.linspace(start = 1, stop = 20, num = 5)]\n",
        "# Number of features to consider at every split\n",
        "max_features = ['auto']\n",
        "# Maximum number of levels in tree\n",
        "max_depth = [int(x) for x in np.linspace(1, 10, num = 5)]\n",
        "max_depth.append(None)\n",
        "# Minimum number of samples required to split a node\n",
        "min_samples_split = [2]\n",
        "# Minimum number of samples required at each leaf node\n",
        "min_samples_leaf = [1,2,3]\n",
        "# Method of selecting samples for training each tree\n",
        "bootstrap = [True, False]\n",
        "# Create the random grid\n",
        "random_grid = {'n_estimators': n_estimators,\n",
        "               'max_features': max_features,\n",
        "               'max_depth': max_depth,\n",
        "               'min_samples_split': min_samples_split,\n",
        "               'min_samples_leaf': min_samples_leaf,\n",
        "               'bootstrap': bootstrap}"
      ],
      "execution_count": null,
      "outputs": []
    },
    {
      "cell_type": "code",
      "metadata": {
        "colab": {
          "base_uri": "https://localhost:8080/",
          "height": 34
        },
        "id": "BscnMSRQSjOw",
        "outputId": "d5f3c41d-507b-411b-f27b-b835b1a7c15b"
      },
      "source": [
        "train_y=b22\n",
        "train_y.shape"
      ],
      "execution_count": null,
      "outputs": [
        {
          "output_type": "execute_result",
          "data": {
            "text/plain": [
              "(9034095,)"
            ]
          },
          "metadata": {
            "tags": []
          },
          "execution_count": 7
        }
      ]
    },
    {
      "cell_type": "code",
      "metadata": {
        "id": "h4rXynIXid_i"
      },
      "source": [
        "# Use the random grid to search for best hyperparameters\n",
        "# First create the base model to tune\n",
        "rf = RandomForestRegressor()\n",
        "# Random search of parameters, using 2 fold cross validation, \n",
        "rf_random = RandomizedSearchCV(estimator = rf, param_distributions=random_grid, n_iter=3, cv = 2, verbose=2, n_jobs = -1)\n",
        "# Fit the random search model\n",
        "rf_random.fit(train_x, train_y)"
      ],
      "execution_count": null,
      "outputs": []
    },
    {
      "cell_type": "code",
      "metadata": {
        "id": "1RA-xMlEid_l"
      },
      "source": [
        "#print the best parameter\n",
        "rf_random.best_params"
      ],
      "execution_count": null,
      "outputs": []
    },
    {
      "cell_type": "code",
      "metadata": {
        "id": "mmPzsAPtid_m"
      },
      "source": [
        ""
      ],
      "execution_count": null,
      "outputs": []
    },
    {
      "cell_type": "code",
      "metadata": {
        "colab": {
          "base_uri": "https://localhost:8080/",
          "height": 510
        },
        "id": "DP1HSNfnProR",
        "outputId": "788a940e-5edc-4011-969b-d7a219f92e1f"
      },
      "source": [
        ""
      ],
      "execution_count": null,
      "outputs": [
        {
          "output_type": "stream",
          "text": [
            "Fitting 2 folds for each of 3 candidates, totalling 6 fits\n"
          ],
          "name": "stdout"
        },
        {
          "output_type": "stream",
          "text": [
            "[Parallel(n_jobs=-1)]: Using backend LokyBackend with 2 concurrent workers.\n",
            "[Parallel(n_jobs=-1)]: Done   6 out of   6 | elapsed: 14.3min finished\n"
          ],
          "name": "stderr"
        },
        {
          "output_type": "execute_result",
          "data": {
            "text/plain": [
              "RandomizedSearchCV(cv=2, error_score=nan,\n",
              "                   estimator=RandomForestRegressor(bootstrap=True,\n",
              "                                                   ccp_alpha=0.0,\n",
              "                                                   criterion='mse',\n",
              "                                                   max_depth=None,\n",
              "                                                   max_features='auto',\n",
              "                                                   max_leaf_nodes=None,\n",
              "                                                   max_samples=None,\n",
              "                                                   min_impurity_decrease=0.0,\n",
              "                                                   min_impurity_split=None,\n",
              "                                                   min_samples_leaf=1,\n",
              "                                                   min_samples_split=2,\n",
              "                                                   min_weight_fraction_leaf=0.0,\n",
              "                                                   n_estimators=100,\n",
              "                                                   n_jobs=None, oob_score=False,\n",
              "                                                   random_state=None, verbose=0,\n",
              "                                                   warm_start=False),\n",
              "                   iid='deprecated', n_iter=3, n_jobs=-1,\n",
              "                   param_distributions={'bootstrap': [True],\n",
              "                                        'max_depth': [1, 3, 5, 7, 10, None],\n",
              "                                        'max_features': ['auto'],\n",
              "                                        'min_samples_leaf': [1],\n",
              "                                        'min_samples_split': [2],\n",
              "                                        'n_estimators': [5, 16, 27, 38, 50]},\n",
              "                   pre_dispatch='2*n_jobs', random_state=None, refit=True,\n",
              "                   return_train_score=False, scoring=None, verbose=2)"
            ]
          },
          "metadata": {
            "tags": []
          },
          "execution_count": 9
        }
      ]
    },
    {
      "cell_type": "code",
      "metadata": {
        "id": "WYdh6LPAsbXB"
      },
      "source": [
        "from joblib import dump, load\n",
        "dump(rf_random.best_estimator_, 'rf_four_band.joblib') "
      ],
      "execution_count": null,
      "outputs": []
    },
    {
      "cell_type": "code",
      "metadata": {
        "id": "TUaJEXfsid_q",
        "outputId": "db79bb5d-646b-4ee9-fd7e-54a042dc93b4"
      },
      "source": [
        "#to calculate training time\n",
        "#initialze the random forest regressor with best parameters\n",
        "import time\n",
        "from sklearn.ensemble import RandomForestRegressor\n",
        "train_s_time=time.clock()\n",
        "rf=RandomForestRegressor(n_estimators=20, max_depth=7, n_jobs=-1)\n",
        "rf.fit(train_x,train_y)\n",
        "print('Training time'+str(time.clock()-train_s_time)+'secs')"
      ],
      "execution_count": null,
      "outputs": [
        {
          "output_type": "stream",
          "text": [
            "Training time272.97030290000004secs\n"
          ],
          "name": "stdout"
        }
      ]
    },
    {
      "cell_type": "code",
      "metadata": {
        "id": "Qw_M5IWrid_t"
      },
      "source": [
        ""
      ],
      "execution_count": null,
      "outputs": []
    }
  ]
}