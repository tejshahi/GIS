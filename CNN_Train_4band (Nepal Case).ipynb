{
 "cells": [
  {
   "cell_type": "markdown",
   "metadata": {
    "id": "20Cw-mOEPQYk"
   },
   "source": [
    "# Check the GPU status"
   ]
  },
  {
   "cell_type": "code",
   "execution_count": null,
   "metadata": {
    "colab": {
     "base_uri": "https://localhost:8080/",
     "height": 34
    },
    "id": "sXnDmXR7RDr2",
    "outputId": "ff8e727a-fc11-425a-bb65-8ff7e027e24a"
   },
   "outputs": [
    {
     "name": "stdout",
     "output_type": "stream",
     "text": [
      "Found GPU at: /device:GPU:0\n"
     ]
    }
   ],
   "source": [
    "%tensorflow_version 2.x\n",
    "import tensorflow as tf\n",
    "device_name = tf.test.gpu_device_name()\n",
    "if device_name != '/device:GPU:0':\n",
    "  raise SystemError('GPU device not found')\n",
    "print('Found GPU at: {}'.format(device_name))"
   ]
  },
  {
   "cell_type": "markdown",
   "metadata": {
    "id": "51d-NSqpTrVN"
   },
   "source": [
    "# Import the necessary Library and Files"
   ]
  },
  {
   "cell_type": "code",
   "execution_count": null,
   "metadata": {
    "id": "X-3LPyxx3wk_"
   },
   "outputs": [],
   "source": [
    "from osgeo import gdal_array\n",
    "from osgeo import gdal\n",
    "import numpy as np\n",
    "from sklearn.metrics import mean_squared_error\n",
    "from sklearn.metrics import mean_absolute_error\n",
    "from math import sqrt\n",
    "from sklearn.metrics import r2_score"
   ]
  },
  {
   "cell_type": "markdown",
   "metadata": {
    "id": "GJSRAuLP30o0"
   },
   "source": [
    "# Load the data set"
   ]
  },
  {
   "cell_type": "code",
   "execution_count": null,
   "metadata": {
    "id": "EKEsYuPfX12b"
   },
   "outputs": [],
   "source": [
    "filepath= \"/content/drive/My Drive/GIS/ls_sa_ndvi_training_set_c.dat\"\n",
    "raster = gdal.Open(filepath)\n",
    "rasterArray = raster.ReadAsArray()\n",
    "b1 = rasterArray[0,0:rasterArray.shape[1],0:rasterArray.shape[2]]\n",
    "b2 = rasterArray[1,0:rasterArray.shape[1],0:rasterArray.shape[2]]\n",
    "b3 = rasterArray[2,0:rasterArray.shape[1],0:rasterArray.shape[2]]\n",
    "b4 = rasterArray[3,0:rasterArray.shape[1],0:rasterArray.shape[2]]\n",
    "b5 = rasterArray[4,0:rasterArray.shape[1],0:rasterArray.shape[2]]\n",
    "b6 = rasterArray[5,0:rasterArray.shape[1],0:rasterArray.shape[2]]"
   ]
  },
  {
   "cell_type": "code",
   "execution_count": null,
   "metadata": {
    "colab": {
     "base_uri": "https://localhost:8080/",
     "height": 34
    },
    "id": "2dkQfAsxYFho",
    "outputId": "d7e37df6-873d-478d-8b7f-454c106c8d12"
   },
   "outputs": [
    {
     "data": {
      "text/plain": [
       "(6, 2661, 3395)"
      ]
     },
     "execution_count": 4,
     "metadata": {
      "tags": []
     },
     "output_type": "execute_result"
    }
   ],
   "source": [
    "rasterArray.shape"
   ]
  },
  {
   "cell_type": "markdown",
   "metadata": {
    "id": "_W9n6NApTzn8"
   },
   "source": [
    "# Reshape the input into individual band"
   ]
  },
  {
   "cell_type": "code",
   "execution_count": null,
   "metadata": {
    "id": "o-KE1-mHX3Zt"
   },
   "outputs": [],
   "source": [
    "b11=np.reshape(b1,(b1.shape[0]*b1.shape[1],))\n",
    "b22=np.reshape(b2,(b2.shape[0]*b2.shape[1],))\n",
    "b33=np.reshape(b3,(b3.shape[0]*b3.shape[1],))\n",
    "b44=np.reshape(b4,(b4.shape[0]*b4.shape[1],))\n",
    "b55=np.reshape(b5,(b5.shape[0]*b5.shape[1],))\n",
    "b66=np.reshape(b6,(b6.shape[0]*b6.shape[1],))"
   ]
  },
  {
   "cell_type": "code",
   "execution_count": null,
   "metadata": {
    "colab": {
     "base_uri": "https://localhost:8080/",
     "height": 34
    },
    "id": "c3UBZ_K8YM_8",
    "outputId": "72c63b98-d7cb-4e8c-e6b0-f910540bfdc2"
   },
   "outputs": [
    {
     "data": {
      "text/plain": [
       "(9034095,)"
      ]
     },
     "execution_count": 6,
     "metadata": {
      "tags": []
     },
     "output_type": "execute_result"
    }
   ],
   "source": [
    "b11.shape"
   ]
  },
  {
   "cell_type": "markdown",
   "metadata": {
    "id": "hW-R0irjT6ak"
   },
   "source": [
    "# Divide the image into small sliding tiles"
   ]
  },
  {
   "cell_type": "code",
   "execution_count": null,
   "metadata": {
    "id": "ezbrdDWkYwOQ"
   },
   "outputs": [],
   "source": [
    "train_x=np.stack((b11,b33,b55),axis=-1)"
   ]
  },
  {
   "cell_type": "code",
   "execution_count": null,
   "metadata": {
    "id": "jQkBsMo5NKXK"
   },
   "outputs": [],
   "source": [
    "tile_size=3"
   ]
  },
  {
   "cell_type": "code",
   "execution_count": null,
   "metadata": {
    "id": "VZxU-MGO--oJ"
   },
   "outputs": [],
   "source": [
    "list_small_tiles=[]\n",
    "list_small_tiles.clear()\n",
    "for i in range(train_x.shape[0]-tile_size):\n",
    "  list_small_tiles.append(train_x[i:i+tile_size])\n",
    "list_small_tiles.append(train_x[i:i+tile_size])\n",
    "list_small_tiles.append(train_x[i+1:i+tile_size+1])"
   ]
  },
  {
   "cell_type": "code",
   "execution_count": null,
   "metadata": {
    "colab": {
     "base_uri": "https://localhost:8080/",
     "height": 34
    },
    "id": "f6x7f-io_deW",
    "outputId": "f76f8a61-4272-419e-d278-a0da75903e38"
   },
   "outputs": [
    {
     "data": {
      "text/plain": [
       "9034094"
      ]
     },
     "execution_count": 7,
     "metadata": {
      "tags": []
     },
     "output_type": "execute_result"
    }
   ],
   "source": [
    "len(list_small_tiles)"
   ]
  },
  {
   "cell_type": "code",
   "execution_count": null,
   "metadata": {
    "id": "aKibWnBQAeV-"
   },
   "outputs": [],
   "source": [
    "x=np.array(list_small_tiles)"
   ]
  },
  {
   "cell_type": "code",
   "execution_count": null,
   "metadata": {
    "id": "h95ofI0fVub4"
   },
   "outputs": [],
   "source": [
    "x=np.reshape(x,(x.shape[0],x.shape[1],x.shape[2],1))"
   ]
  },
  {
   "cell_type": "code",
   "execution_count": null,
   "metadata": {
    "id": "pED7Nqtsc1nb"
   },
   "outputs": [],
   "source": [
    "train_y=b22[:-tile_size+2]"
   ]
  },
  {
   "cell_type": "code",
   "execution_count": null,
   "metadata": {
    "colab": {
     "base_uri": "https://localhost:8080/",
     "height": 52
    },
    "id": "IiccB7qvY_jK",
    "outputId": "ecf022cc-6832-4913-8a0a-d4391c84ffe8"
   },
   "outputs": [
    {
     "name": "stdout",
     "output_type": "stream",
     "text": [
      "(9034094, 3, 3, 1)\n",
      "(9034094,)\n"
     ]
    }
   ],
   "source": [
    "print(x.shape)\n",
    "print(train_y.shape)"
   ]
  },
  {
   "cell_type": "markdown",
   "metadata": {},
   "source": [
    "# Design CNN network"
   ]
  },
  {
   "cell_type": "code",
   "execution_count": null,
   "metadata": {
    "id": "tddd3tgTZF8z"
   },
   "outputs": [],
   "source": [
    "from keras.models import Sequential\n",
    "from keras.layers import Dense, Dropout,Flatten, Conv2D, Conv1D,BatchNormalization, MaxPool2D,GlobalAvgPool1D\n",
    "from keras import backend\n",
    "\n",
    "model=Sequential()\n",
    "model.add(Conv2D(filters=25, kernel_size=2, activation='relu',padding='same', input_shape=(3,3,1)))\n",
    "model.add(MaxPool2D(2))\n",
    "model.add(Conv2D(filters=50,kernel_size=2,activation='relu',padding='same'))\n",
    "model.add(Flatten())\n",
    "model.add(Dense(1))"
   ]
  },
  {
   "cell_type": "code",
   "execution_count": null,
   "metadata": {
    "colab": {
     "base_uri": "https://localhost:8080/",
     "height": 336
    },
    "id": "NuwOowjsy0BN",
    "outputId": "24a529b2-d16d-4e02-fca5-4c666e4e0850"
   },
   "outputs": [
    {
     "name": "stdout",
     "output_type": "stream",
     "text": [
      "Model: \"sequential_1\"\n",
      "_________________________________________________________________\n",
      "Layer (type)                 Output Shape              Param #   \n",
      "=================================================================\n",
      "conv2d_1 (Conv2D)            (None, 3, 3, 25)          125       \n",
      "_________________________________________________________________\n",
      "max_pooling2d_1 (MaxPooling2 (None, 1, 1, 25)          0         \n",
      "_________________________________________________________________\n",
      "conv2d_2 (Conv2D)            (None, 1, 1, 50)          5050      \n",
      "_________________________________________________________________\n",
      "flatten_1 (Flatten)          (None, 50)                0         \n",
      "_________________________________________________________________\n",
      "dense_1 (Dense)              (None, 1)                 51        \n",
      "=================================================================\n",
      "Total params: 5,226\n",
      "Trainable params: 5,226\n",
      "Non-trainable params: 0\n",
      "_________________________________________________________________\n"
     ]
    }
   ],
   "source": [
    "model.summary()"
   ]
  },
  {
   "cell_type": "code",
   "execution_count": null,
   "metadata": {
    "id": "zt2WCfWP7mrr"
   },
   "outputs": [],
   "source": [
    "model.compile(loss='mse', optimizer='adam',metrics=['mse','mae'])"
   ]
  },
  {
   "cell_type": "code",
   "execution_count": null,
   "metadata": {
    "colab": {
     "base_uri": "https://localhost:8080/",
     "height": 194
    },
    "id": "TteUR8DMA_MH",
    "outputId": "6b018e57-0baa-416c-ee98-b641bce120d9"
   },
   "outputs": [
    {
     "name": "stdout",
     "output_type": "stream",
     "text": [
      "Train on 7227275 samples, validate on 1806819 samples\n",
      "Epoch 1/20\n",
      " - 44s - loss: 0.0013 - mse: 0.0013 - mae: 0.0253 - val_loss: 0.0011 - val_mse: 0.0011 - val_mae: 0.0248\n",
      "Epoch 2/20\n",
      " - 38s - loss: 0.0010 - mse: 0.0010 - mae: 0.0233 - val_loss: 0.0011 - val_mse: 0.0011 - val_mae: 0.0243\n",
      "Epoch 3/20\n",
      " - 37s - loss: 0.0010 - mse: 0.0010 - mae: 0.0230 - val_loss: 0.0010 - val_mse: 0.0010 - val_mae: 0.0236\n",
      "Epoch 4/20\n",
      " - 37s - loss: 9.9616e-04 - mse: 9.9616e-04 - mae: 0.0229 - val_loss: 0.0011 - val_mse: 0.0011 - val_mae: 0.0239\n",
      "Epoch 00004: early stopping\n"
     ]
    }
   ],
   "source": [
    "from keras.callbacks import EarlyStopping\n",
    "es = EarlyStopping(monitor='val_loss',verbose=1)\n",
    "history=model.fit(x, \n",
    "    train_y, \n",
    "    epochs=20,\n",
    "    batch_size=1000,\n",
    "    validation_split=0.2,\n",
    "    verbose=2,\n",
    "    callbacks=[es])"
   ]
  },
  {
   "cell_type": "code",
   "execution_count": null,
   "metadata": {
    "colab": {
     "base_uri": "https://localhost:8080/",
     "height": 264
    },
    "id": "IwpwrxeVO-2h",
    "outputId": "bc08bb91-33ef-49e8-98cf-43faf62c8e42"
   },
   "outputs": [
    {
     "data": {
      "image/png": "[encoded data removed]",
      "text/plain": [
       "<Figure size 432x288 with 1 Axes>"
      ]
     },
     "metadata": {
      "needs_background": "light",
      "tags": []
     },
     "output_type": "display_data"
    }
   ],
   "source": [
    "#plot history\n",
    "from matplotlib import pyplot\n",
    "pyplot.plot(history.history['loss'], label='train-loss')\n",
    "pyplot.plot(history.history['val_loss'], label='validation-loss')\n",
    "pyplot.legend()\n",
    "pyplot.show()"
   ]
  },
  {
   "cell_type": "code",
   "execution_count": null,
   "metadata": {
    "id": "_4ib56dDhsto"
   },
   "outputs": [],
   "source": [
    "#save the model for later uses\n",
    "model.save(\"CNN-Train-four-band.h5\",overwrite=True)"
   ]
  },
  {
   "cell_type": "code",
   "execution_count": null,
   "metadata": {
    "id": "H1Uerc3lleva"
   },
   "outputs": [],
   "source": [
    "filename=\"/content/drive/My Drive/GIS/ls_sa_ndvi_testing_set_c.dat\"\n",
    "raster = gdal.Open(filename)\n",
    "rasterArray = raster.ReadAsArray()\n",
    "tb1 = rasterArray[0,0:rasterArray.shape[1],0:rasterArray.shape[2]]\n",
    "tb2 = rasterArray[1,0:rasterArray.shape[1],0:rasterArray.shape[2]]\n",
    "tb3 = rasterArray[2,0:rasterArray.shape[1],0:rasterArray.shape[2]]\n",
    "tb4 = rasterArray[3,0:rasterArray.shape[1],0:rasterArray.shape[2]]\n",
    "tb5 = rasterArray[4,0:rasterArray.shape[1],0:rasterArray.shape[2]]\n",
    "tb6 = rasterArray[5,0:rasterArray.shape[1],0:rasterArray.shape[2]]\n",
    "tb1_reshape=np.reshape(tb1,(tb1.shape[0]*tb1.shape[1],))\n",
    "tb3_reshape=np.reshape(tb3,(tb3.shape[0]*tb3.shape[1],))\n",
    "tb4_reshape=np.reshape(tb4,(tb4.shape[0]*tb4.shape[1],))\n",
    "tb5_reshape=np.reshape(tb5,(tb5.shape[0]*tb5.shape[1],))\n",
    "tb6_reshape=np.reshape(tb6,(tb6.shape[0]*tb6.shape[1]))\n",
    "tb2_reshape=np.reshape(tb2,(tb2.shape[0]*tb2.shape[1],))"
   ]
  },
  {
   "cell_type": "code",
   "execution_count": null,
   "metadata": {
    "id": "xnoIAAqH1xMR"
   },
   "outputs": [],
   "source": [
    "tile_size=3"
   ]
  },
  {
   "cell_type": "code",
   "execution_count": null,
   "metadata": {
    "id": "yJ5ixn_SnVNj"
   },
   "outputs": [],
   "source": [
    "test_x=np.stack((tb1_reshape,tb3_reshape,tb5_reshape),axis=-1)\n",
    "test_y=tb2_reshape\n"
   ]
  },
  {
   "cell_type": "code",
   "execution_count": null,
   "metadata": {
    "id": "KLIyprW3DCrH"
   },
   "outputs": [],
   "source": [
    "list_small_tiles=[]\n",
    "list_small_tiles.clear()\n",
    "for i in range(test_x.shape[0]-tile_size):\n",
    "  list_small_tiles.append(test_x[i:i+tile_size])\n",
    "list_small_tiles.append(test_x[i:i+tile_size])\n",
    "list_small_tiles.append(test_x[i+1:i+tile_size+1])"
   ]
  },
  {
   "cell_type": "code",
   "execution_count": null,
   "metadata": {
    "id": "N5X_IqNUDOxd"
   },
   "outputs": [],
   "source": [
    "test_x=np.array(list_small_tiles)\n",
    "test_x=np.reshape(test_x,(test_x.shape[0],tile_size,tile_size,1))"
   ]
  },
  {
   "cell_type": "code",
   "execution_count": null,
   "metadata": {
    "id": "hsOHjD9ih-jp"
   },
   "outputs": [],
   "source": [
    "test_y=test_y[:-tile_size+2]"
   ]
  },
  {
   "cell_type": "code",
   "execution_count": null,
   "metadata": {
    "colab": {
     "base_uri": "https://localhost:8080/",
     "height": 51
    },
    "id": "NpJQKoP-nuCM",
    "outputId": "515a8481-5364-4af7-fe4b-78e1d21badd8"
   },
   "outputs": [
    {
     "name": "stdout",
     "output_type": "stream",
     "text": [
      "(9548279, 3, 3, 1)\n",
      "(9548279,)\n"
     ]
    }
   ],
   "source": [
    "#check for x and y shape\n",
    "print(test_x.shape)\n",
    "print(test_y.shape)"
   ]
  },
  {
   "cell_type": "code",
   "execution_count": null,
   "metadata": {
    "colab": {
     "base_uri": "https://localhost:8080/",
     "height": 34
    },
    "id": "EFVEY0uiu4Eb",
    "outputId": "fc0d96b5-6976-4b92-9f15-4f4ecc8ef765"
   },
   "outputs": [
    {
     "name": "stderr",
     "output_type": "stream",
     "text": [
      "Using TensorFlow backend.\n"
     ]
    }
   ],
   "source": [
    "from keras.models import load_model\n",
    "model=load_model('/content/CNN-Train-four-band.h5')"
   ]
  },
  {
   "cell_type": "code",
   "execution_count": null,
   "metadata": {
    "colab": {
     "base_uri": "https://localhost:8080/",
     "height": 68
    },
    "id": "kWag_BoBnZRD",
    "outputId": "94a97d30-2b63-45c4-85f2-63b4acb0094a"
   },
   "outputs": [
    {
     "name": "stdout",
     "output_type": "stream",
     "text": [
      "r2 score: 0.887235\n",
      "Test RMSE: 0.039\n",
      "Test MAE: 0.029\n"
     ]
    }
   ],
   "source": [
    "#whole test data performance evaluations\n",
    "pred_y=model.predict(test_x)\n",
    "print(\"r2 score: %.6f\" %r2_score(test_y,pred_y))\n",
    "rmse = sqrt(mean_squared_error(test_y,pred_y))\n",
    "print('Test RMSE: %.3f' % rmse)\n",
    "# calculate MAE\n",
    "mae = mean_absolute_error(test_y,pred_y)\n",
    "print('Test MAE: %.3f' % mae)"
   ]
  },
  {
   "cell_type": "code",
   "execution_count": null,
   "metadata": {
    "colab": {
     "base_uri": "https://localhost:8080/",
     "height": 34
    },
    "id": "eZlIAa7GPpli",
    "outputId": "cd02cfd1-c645-486f-cf80-e7f30d5941a7"
   },
   "outputs": [
    {
     "data": {
      "text/plain": [
       "(9548280,)"
      ]
     },
     "execution_count": 12,
     "metadata": {
      "tags": []
     },
     "output_type": "execute_result"
    }
   ],
   "source": [
    "tb2_reshape.shape"
   ]
  },
  {
   "cell_type": "code",
   "execution_count": null,
   "metadata": {
    "colab": {
     "base_uri": "https://localhost:8080/",
     "height": 34
    },
    "id": "DaAK2v4GPkAa",
    "outputId": "904539c0-f928-4396-8ff7-e89dcb1f8112"
   },
   "outputs": [
    {
     "data": {
      "text/plain": [
       "(9548280,)"
      ]
     },
     "execution_count": 13,
     "metadata": {
      "tags": []
     },
     "output_type": "execute_result"
    }
   ],
   "source": [
    "a=np.pad(pred_y.ravel(), (1,0),\"edge\")\n",
    "a.shape"
   ]
  },
  {
   "cell_type": "code",
   "execution_count": null,
   "metadata": {
    "id": "3s2c_XvoRmzz"
   },
   "outputs": [],
   "source": [
    "np.savetxt(\"CNN_four_band_Nepal.csv\", a, delimiter=\",\")"
   ]
  },
  {
   "cell_type": "code",
   "execution_count": null,
   "metadata": {
    "id": "or_GVn3pguJX"
   },
   "outputs": [],
   "source": [
    "#divide the test cases"
   ]
  },
  {
   "cell_type": "code",
   "execution_count": null,
   "metadata": {
    "id": "UuPvzUP1g1MS"
   },
   "outputs": [],
   "source": [
    "j=0\n",
    "case1_x=[]\n",
    "case1_y=[]\n",
    "case2_x=[]\n",
    "case2_y=[]\n",
    "case3_x=[]\n",
    "case3_y=[]\n",
    "case4_x=[]\n",
    "case4_y=[]\n",
    "case5_x=[]\n",
    "case5_y=[]\n",
    "case6_x=[]\n",
    "case6_y=[]\n",
    "case7_x=[]\n",
    "case7_y=[]\n",
    "case8_x=[]\n",
    "case8_y=[]\n",
    "case9_x=[]\n",
    "case9_y=[]\n",
    "for i in range(tb1.size):\n",
    "    if(tb1_reshape[i]<tb2_reshape[i]<tb3_reshape[i]):\n",
    "        case1_x.append([tb1_reshape[i],tb3_reshape[i],tb5_reshape[i]])\n",
    "        case1_y.append(tb2_reshape[i])\n",
    "    elif(tb1_reshape[i]<tb2_reshape[i]==tb3_reshape[i]):\n",
    "        case2_x.append([tb1_reshape[i],tb3_reshape[i],tb5_reshape[i]])\n",
    "        case2_y.append(tb2_reshape[i])\n",
    "    elif(tb1_reshape[i]<tb2_reshape[i]>tb3_reshape[i]):\n",
    "        case3_x.append([tb1_reshape[i],tb3_reshape[i],tb5_reshape[i]])\n",
    "        case3_y.append(tb2_reshape[i])\n",
    "    elif(tb1_reshape[i]==tb2_reshape[i]<tb3_reshape[i]):\n",
    "        case4_x.append([tb1_reshape[i],tb3_reshape[i],tb5_reshape[i]])\n",
    "        case4_y.append(tb2_reshape[i])\n",
    "    elif(tb1_reshape[i]==tb2_reshape[i]==tb3_reshape[i]):\n",
    "        case5_x.append([tb1_reshape[i],tb3_reshape[i],tb5_reshape[i]])\n",
    "        case5_y.append(tb2_reshape[i])\n",
    "    elif(tb1_reshape[i]==tb2_reshape[i]>tb3_reshape[i]):\n",
    "        case6_x.append([tb1_reshape[i],tb3_reshape[i],tb5_reshape[i]])\n",
    "        case6_y.append(tb2_reshape[i])\n",
    "    elif(tb1_reshape[i]>tb2_reshape[i]<tb3_reshape[i]):\n",
    "        case7_x.append([tb1_reshape[i],tb3_reshape[i],tb5_reshape[i]])\n",
    "        case7_y.append(tb2_reshape[i])\n",
    "    elif(tb1_reshape[i]>tb2_reshape[i]==tb3_reshape[i]):\n",
    "        case8_x.append([tb1_reshape[i],tb3_reshape[i],tb5_reshape[i]])\n",
    "        case8_y.append(tb2_reshape[i])\n",
    "    elif(tb1_reshape[i]>tb2_reshape[i]>tb3_reshape[i]):\n",
    "        case9_x.append([tb1_reshape[i],tb3_reshape[i],tb5_reshape[i]])\n",
    "        case9_y.append(tb2_reshape[i])"
   ]
  },
  {
   "cell_type": "code",
   "execution_count": null,
   "metadata": {
    "id": "VIdPAgrbsNHO"
   },
   "outputs": [],
   "source": [
    "def prepare_case(x,y):\n",
    "  x=np.array(x)\n",
    "  y=np.array(y)\n",
    "  small_tiles=[]\n",
    "  small_tiles.clear()\n",
    "  for i in range(x.shape[0]-tile_size):\n",
    "    small_tiles.append(x[i:i+tile_size])\n",
    "  small_tiles.append(x[i:i+tile_size])\n",
    "  small_tiles.append(x[i+1:i+tile_size+1])\n",
    "  test_x=np.array(small_tiles)\n",
    "  test_x=np.reshape(test_x,(test_x.shape[0],tile_size,tile_size,1))\n",
    "  test_y=y[:-tile_size+2]\n",
    "  return (test_x,test_y)"
   ]
  },
  {
   "cell_type": "code",
   "execution_count": null,
   "metadata": {
    "id": "Elcm6D17hNLn"
   },
   "outputs": [],
   "source": [
    "def predict_case(test_x,test_y):\n",
    "    pred_y=model.predict(test_x)\n",
    "    print(\"r2 score: %.6f\" %r2_score(test_y,pred_y))\n",
    "    rmse = sqrt(mean_squared_error(test_y,pred_y))\n",
    "    print('Test RMSE: %.3f' % rmse)\n",
    "    # calculate MAE\n",
    "    mae = mean_absolute_error(test_y,pred_y)\n",
    "    print('Test MAE: %.3f' % mae)\n",
    "    return pred_y"
   ]
  },
  {
   "cell_type": "code",
   "execution_count": null,
   "metadata": {
    "colab": {
     "base_uri": "https://localhost:8080/",
     "height": 70
    },
    "id": "dhixm7SHw5-g",
    "outputId": "2879323e-2080-42f6-b63a-7473ca0bb91a"
   },
   "outputs": [
    {
     "name": "stdout",
     "output_type": "stream",
     "text": [
      "r2 score: 0.779454\n",
      "Test RMSE: 0.055\n",
      "Test MAE: 0.045\n"
     ]
    }
   ],
   "source": [
    "x1,y1=prepare_case(case1_x,case1_y)\n",
    "y1_hat=predict_case(x1,y1)"
   ]
  },
  {
   "cell_type": "code",
   "execution_count": null,
   "metadata": {
    "colab": {
     "base_uri": "https://localhost:8080/",
     "height": 70
    },
    "id": "HR3GdZjthtun",
    "outputId": "fa62819a-29b4-475d-ad3c-3fbf94f62b41"
   },
   "outputs": [
    {
     "name": "stdout",
     "output_type": "stream",
     "text": [
      "r2 score: 0.634811\n",
      "Test RMSE: 0.092\n",
      "Test MAE: 0.075\n"
     ]
    }
   ],
   "source": [
    "x3,y3=prepare_case(case3_x,case3_y)\n",
    "y3_hat=predict_case(x3,y3)"
   ]
  },
  {
   "cell_type": "code",
   "execution_count": null,
   "metadata": {
    "colab": {
     "base_uri": "https://localhost:8080/",
     "height": 70
    },
    "id": "tXazMrPXxF0z",
    "outputId": "4e884a78-bb13-4cbb-ae53-3ef4b7f7342d"
   },
   "outputs": [
    {
     "name": "stdout",
     "output_type": "stream",
     "text": [
      "r2 score: 0.435125\n",
      "Test RMSE: 0.078\n",
      "Test MAE: 0.045\n"
     ]
    }
   ],
   "source": [
    "x7,y7=prepare_case(case7_x,case7_y)\n",
    "y7_hat=predict_case(x7,y7)"
   ]
  },
  {
   "cell_type": "code",
   "execution_count": null,
   "metadata": {
    "colab": {
     "base_uri": "https://localhost:8080/",
     "height": 70
    },
    "id": "QIvisyDh4q2q",
    "outputId": "caf4919a-98d5-4cd0-b718-3662e3e47fd5"
   },
   "outputs": [
    {
     "name": "stdout",
     "output_type": "stream",
     "text": [
      "r2 score: 0.809641\n",
      "Test RMSE: 0.075\n",
      "Test MAE: 0.046\n"
     ]
    }
   ],
   "source": [
    "x9,y9=prepare_case(case9_x,case9_y)\n",
    "y9_hat=predict_case(x9,y9)"
   ]
  },
  {
   "cell_type": "code",
   "execution_count": null,
   "metadata": {
    "id": "cMAZwJbmgH1o"
   },
   "outputs": [],
   "source": []
  }
 ],
 "metadata": {
  "accelerator": "GPU",
  "colab": {
   "name": "CNN-Train-3band.ipynb",
   "provenance": [],
   "toc_visible": true
  },
  "kernelspec": {
   "display_name": "Python 3",
   "language": "python",
   "name": "python3"
  },
  "language_info": {
   "codemirror_mode": {
    "name": "ipython",
    "version": 3
   },
   "file_extension": ".py",
   "mimetype": "text/x-python",
   "name": "python",
   "nbconvert_exporter": "python",
   "pygments_lexer": "ipython3",
   "version": "3.7.7"
  }
 },
 "nbformat": 4,
 "nbformat_minor": 1
}
